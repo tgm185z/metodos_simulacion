{
 "cells": [
  {
   "cell_type": "markdown",
   "metadata": {},
   "source": [
    "# Práctica Métodos de Simulación - Parte 2"
   ]
  },
  {
   "cell_type": "markdown",
   "metadata": {},
   "source": [
    "## Elena Rivas, Teresa Grau, Ignacio Casso"
   ]
  },
  {
   "attachments": {},
   "cell_type": "markdown",
   "metadata": {},
   "source": [
    "**Enunciado. Simulación de sucesos discretos.**\n",
    "\n",
    "Un taller de fabricación se dedica a procesar tres tipos de piezas, para ello el taller consta de cuatro células de procesamiento.\n",
    "\n",
    "En el interior de cada célula se dispone de una máquina de procesado, excepto en la célula 3 formada por dos máquinas con las mismas características, y de un almacén (de capacidad ilimitada).\n",
    "\n",
    "La secuencia de fabricación de cada una de las piezas así como los tiempos de procesado (expresados en minutos y distribuidos según una triangular) en cada célula se muestran en la siguiente tabla:\n",
    "\n",
    "![Captura_tabla_ms.JPG](./imagenes/Captura_tabla_ms.JPG)\n",
    "\n",
    "Los tiempos entre llegadas de las piezas al taller tiene carácter aleatorio. En el fichero `llegadas.txt` se proporciona una muestra de tiempos entre llegadas de piezas. Contrástese si la distribución de dichos tiempos es normal (truncada), weibull o exponencial y estímense los parámetros de la distribución correspondiente.\n",
    "\n",
    "El fichero `piezas.txt` incluye un histórico de piezas que han llegado al taller, que nos permitirá identificar la proporción de piezas que hay de cada uno de los tres tipos.\n",
    "\n",
    "Los tiempos de transporte de cada pieza entre las diferentes células es de 2 minutos.\n",
    "\n",
    "A. Suponiendo que el taller trabaja de forma ininterrumpida (hay tres turnos de trabajadores), simular el comportamiento del sistema durante 2 meses para estimar el tiempo mínimo, medio y máximo que tardan en fabricarse los tres tipos de piezas, el número medio de piezas esperando en cada una de las 4 células y la proporción de tiempo que están ociosas las máquinas de procesado de las células.\n",
    "\n",
    "B. Calcular las medidas anteriores si el tiempo de transporte de las piezas entre las distintas células se reduce la mitad.\n",
    "\n",
    "En caso de que fuese posible disponer de una máquina de procesado adicional, ¿en qué célula sería más beneficioso ponerla?"
   ]
  },
  {
   "cell_type": "markdown",
   "metadata": {},
   "source": [
    "## Distribución de los tiempos de llegada"
   ]
  },
  {
   "cell_type": "markdown",
   "metadata": {},
   "source": [
    "En primer lugar comprobamos si los tiempos de llegada proporcionados en el fichero `E1.llegadas.txt` siguen una distribución normal truncada, weibull o exponencial, y estimar los parámetros correspondientes. Para ello podemos usar los contrastes de hipótesis vistos en clase, en concreto el contraste de ***Kolmogorov-Smirnov***."
   ]
  },
  {
   "cell_type": "markdown",
   "metadata": {},
   "source": [
    "En estadística, la prueba de *Kolmogórov-Smirnov* (también prueba K-S) es una prueba no paramétrica que determina la bondad de ajuste de dos distribuciones de probabilidad entre sí. Consiste en lo siguiente:"
   ]
  },
  {
   "cell_type": "markdown",
   "metadata": {},
   "source": [
    "Deseamos contrastar la hipotesis\n",
    "    $$H_0: F_n(x) = F_0(x)$$\n",
    "\n",
    "Para ello, utilizamos el estadístico de contraste\n",
    " $$D = sup|\\hat F_n(x_i) - F_0(x_i)|$$\n",
    "donde:\n",
    "* $x_i$ es el i-ésimo valor observado en la muestra (cuyos valores se han ordenado previamente de menor a mayor).\n",
    "* $\\hat F_n(x_i)$ es un estimador de la probabilidad de observar valores menores o iguales que $x_i$.\n",
    "* $F_0(x_i)$ es la probabilidad de observar valores menores o iguales que $x_i$ cuando $H_0$ es cierta.\n",
    "\n",
    "Así pues, $D$ es la mayor diferencia absoluta observada entre la frecuencia acumulada observada $\\hat F_n(x_i)$ y la frecuencia acumulada teórica $F_0(x_i)$, obtenida a partir de la distribución de probabilidad que se especifica como hipótesis nula.\n",
    "\n",
    "Si los valores observados $\\hat F_n(x_i)$ son similares a los esperados $F_0(x_i)$, el valor de $D$ será pequeño. Cuanto mayor sea la discrepancia entre la distribución empírica $\\hat F_n(x_i)$ y la distribución teórica $F_0(x_i)$, mayor será el valor de $D$."
   ]
  },
  {
   "cell_type": "code",
   "execution_count": 1,
   "metadata": {},
   "outputs": [],
   "source": [
    "import numpy as np\n",
    "import random\n",
    "import queue\n",
    "import math\n",
    "import matplotlib.pyplot as plt\n",
    "from scipy import stats\n",
    "from scipy.stats import kstest"
   ]
  },
  {
   "cell_type": "code",
   "execution_count": 2,
   "metadata": {},
   "outputs": [],
   "source": [
    "archivo_llegadas = open('./E1.llegadas.txt', 'r')\n",
    "llegadas = [float(line) for line in archivo_llegadas.readlines()]\n",
    "archivo_llegadas.close()"
   ]
  },
  {
   "cell_type": "code",
   "execution_count": 3,
   "metadata": {},
   "outputs": [],
   "source": [
    "archivo_piezas = open('./E1.piezas.txt', 'r')\n",
    "piezas = [int(line) for line in archivo_piezas.readlines()]\n",
    "archivo_piezas.close()"
   ]
  },
  {
   "cell_type": "markdown",
   "metadata": {},
   "source": [
    "Con el paquete estadístico `stats` de la librería `scipy` de Python podemos contrastar la distribución de nuestra muestra con la prueba de ***Kolmogorov***."
   ]
  },
  {
   "cell_type": "code",
   "execution_count": 4,
   "metadata": {},
   "outputs": [],
   "source": [
    "from scipy.stats import expon, exponweib, truncnorm"
   ]
  },
  {
   "cell_type": "markdown",
   "metadata": {},
   "source": [
    "Comenzamos testando la distribución exponencial. Según la documentación del paquete `stats`, la función de densidad de la exponencial es:\n",
    "$$f(x) = \\exp(-x)$$ para $x\\geq0$."
   ]
  },
  {
   "cell_type": "markdown",
   "metadata": {},
   "source": [
    "La densidad de probabilidad anterior se define en la forma \"estandarizada\". Para cambiar y/o escalar la distribución, utilizamos los parámetros `loc` y `scale`. Específicamente, `expon.pdf (x, loc, scale)` (probability density function), que es equivalente a `expon.pd(y) / scale` con `y = (x - loc) / scale`.\n",
    "\n",
    "Una parametrización común de la exponencial es en términos del parámetro *lambda*, tal que `pdf = lambda * exp (-lambda * x)`. Esta parametrización corresponde a usar `scale = 1/lambda`.\n",
    "\n",
    "Para realizar el contraste con la librería `stats` primero necesitamos estimar los parametros que corresponderían a nuestra muestra para la distribución que queremos contrastar. Para esta tarea, `stats` cuenta con el método `scipy.stats.rv_continuous.fit`.\n",
    "\n",
    "Éste devuelve los *MLE* para los parámetros de forma (si corresponde), ubicación y escala a partir de la muestra. MLE significa Estimación de máxima verosimilitud (Maximum Likelihood Estimate).\n",
    "Hay que tener en cuenta que `fit` se calcula al maximizar una función *log-likehood*, aplicando una penalización para muestras fuera del rango de distribución. No se garantiza que la respuesta devuelta sea el MLE globalmente óptimo, puede que solo sea óptimo local o la optimización puede fallar por completo.\n",
    "\n",
    "Una vez estimados los parametros de la exponencial, ya podemos utilizar el método `scipy.stats.kstest` que ejecuta la prueba de Kolmogorov-Smirnov para comprobar la bondad del ajuste. Que devuelve el valor del estadístico $D$ y un ***p-valor***.\n",
    "\n",
    "La decisión de aceptar o rechazar la hipotesis es tomada a partir de este ***p-valor***. Si el ***p-valor*** es grande significa  que, siendo cierta la hipótesis nula, el valor observado del estadístico $D$ era  esperable, y por tanto, no hay razón para rechazar la hipótesis. Asimismo, si el ***p-valor*** es pequeño, indica que, siendo cierta la hipótesis nula, es muy difícil que se produjera el valor de $D$ que efectivamente se ha observado. Ello obliga a poner muy en duda, y  por tanto a rechazar la hipótesis nula."
   ]
  },
  {
   "cell_type": "markdown",
   "metadata": {},
   "source": [
    "Ya podemos testar la distribución exponencial:"
   ]
  },
  {
   "cell_type": "code",
   "execution_count": 6,
   "metadata": {},
   "outputs": [
    {
     "data": {
      "text/plain": [
       "KstestResult(statistic=0.010470200051473033, pvalue=0.6434208493162717)"
      ]
     },
     "execution_count": 6,
     "metadata": {},
     "output_type": "execute_result"
    }
   ],
   "source": [
    "loc, scale = expon.fit(llegadas)\n",
    "\n",
    "kstest(llegadas,'expon', (loc, scale))"
   ]
  },
  {
   "cell_type": "markdown",
   "metadata": {},
   "source": [
    "Hipotesis no rechazada. Los párametros serían:"
   ]
  },
  {
   "cell_type": "code",
   "execution_count": 7,
   "metadata": {},
   "outputs": [
    {
     "name": "stdout",
     "output_type": "stream",
     "text": [
      "(0.001173691, 12.9963028643654)\n"
     ]
    }
   ],
   "source": [
    "print((loc, scale))"
   ]
  },
  {
   "cell_type": "markdown",
   "metadata": {},
   "source": [
    "A continuación testamos la distribución de weibull, que según la documentación de `stats` tiene la siguiente funcion de distribución:\n",
    "$$f(x,a,c) = ac(1-exp(-x^c))^{a-1}exp(-x^c)^{c-1}$$\n",
    "para $x>0$, $a>0$, $c>0$."
   ]
  },
  {
   "cell_type": "markdown",
   "metadata": {},
   "source": [
    "$a$ y $c$ son parámetros de forma. La densidad de probabilidad anterior se define en la forma \"estandarizada\". Para cambiar y/o escalar la distribución, al igual que explicamos antes en la exponencial, se utilizan los parametros *loc* y *scale*. Concretamente, `exponweib.pdf(x, a, c, loc, scale)`, que es equivalente a `exponweib.pdf(y, a, c) / scale` con `y = (x - loc) / scale.`"
   ]
  },
  {
   "cell_type": "code",
   "execution_count": 8,
   "metadata": {},
   "outputs": [
    {
     "data": {
      "text/plain": [
       "KstestResult(statistic=0.009058871617199038, pvalue=0.8064767011732374)"
      ]
     },
     "execution_count": 8,
     "metadata": {},
     "output_type": "execute_result"
    }
   ],
   "source": [
    "params = exponweib.fit(llegadas, fa=1) # an exponential weibull with a = 1 is the normal weibull\n",
    "\n",
    "kstest(llegadas,'exponweib', args=params)\n"
   ]
  },
  {
   "cell_type": "markdown",
   "metadata": {},
   "source": [
    "Hypotesis not rejected"
   ]
  },
  {
   "cell_type": "code",
   "execution_count": 9,
   "metadata": {},
   "outputs": [
    {
     "name": "stdout",
     "output_type": "stream",
     "text": [
      "(1, 0.9835163304844294, 0.0011736909999999997, 12.917026888061788)\n"
     ]
    }
   ],
   "source": [
    "print(params)"
   ]
  },
  {
   "cell_type": "markdown",
   "metadata": {},
   "source": [
    "Tampoco rechaza la hipotesis de que nuestra muestra siga una distribución Weibull. Esto podemos explicarlo observando los parametros que obtenemos con la funcion `fit`. Observamos que el parametro $c$ es casi 1 (c = 0.98), cuando se da esto lo que en realidad tenemos es una exponencial. Por eso la hipotesis no es rechazada."
   ]
  },
  {
   "cell_type": "markdown",
   "metadata": {},
   "source": [
    "Y por último testamos la distribución normal truncada:"
   ]
  },
  {
   "cell_type": "code",
   "execution_count": 5,
   "metadata": {},
   "outputs": [
    {
     "name": "stderr",
     "output_type": "stream",
     "text": [
      "/usr/lib/python3/dist-packages/scipy/stats/_continuous_distns.py:4846: RuntimeWarning: divide by zero encountered in log\n",
      "  self._logdelta = np.log(self._delta)\n",
      "/usr/lib/python3/dist-packages/scipy/stats/_continuous_distns.py:4846: RuntimeWarning: invalid value encountered in log\n",
      "  self._logdelta = np.log(self._delta)\n"
     ]
    },
    {
     "data": {
      "text/plain": [
       "KstestResult(statistic=0.16126924639176748, pvalue=2.2424395794550417e-113)"
      ]
     },
     "execution_count": 5,
     "metadata": {},
     "output_type": "execute_result"
    }
   ],
   "source": [
    "from scipy.stats import truncnorm\n",
    "\n",
    "a,b,loc,scale = truncnorm.fit(llegadas)\n",
    "\n",
    "# The bounds are given w.r.t the standard distribution, prior to applying scale and location paramenters.\n",
    "# Therefore we can't specify that the lower bound is 0 (fa=0). The information we have is that\n",
    "# a = -loc, but that is a constraint we can not pass to the method fit. To satisfy the constraint, we propose\n",
    "# the following fixpoint\n",
    "\n",
    "while abs(loc+a) > 0.0001:\n",
    "    a,b,loc,scale = truncnorm.fit(llegadas, fa=-loc)\n",
    "    \n",
    "# just needs one iteration\n",
    "\n",
    "kstest(llegadas,'truncnorm', (a,b,loc,scale))"
   ]
  },
  {
   "cell_type": "markdown",
   "metadata": {},
   "source": [
    "La hipotesis es rechazada. Por tanto, nuestra muestra sigue una distribución exponencial con los siguientes parametros `loc` y `scale`:"
   ]
  },
  {
   "cell_type": "code",
   "execution_count": 11,
   "metadata": {},
   "outputs": [
    {
     "name": "stdout",
     "output_type": "stream",
     "text": [
      "(0.001173691, 12.9963028643654)\n"
     ]
    }
   ],
   "source": [
    "loc, scale = expon.fit(llegadas)\n",
    "print((loc, scale))"
   ]
  },
  {
   "cell_type": "markdown",
   "metadata": {},
   "source": [
    "A continuación visualizamos la distribución de nuestra muestra mediante un histograma:"
   ]
  },
  {
   "cell_type": "code",
   "execution_count": 12,
   "metadata": {
    "scrolled": false
   },
   "outputs": [
    {
     "data": {
      "image/png": "[encoded data removed]",
      "text/plain": [
       "<Figure size 432x288 with 1 Axes>"
      ]
     },
     "metadata": {},
     "output_type": "display_data"
    }
   ],
   "source": [
    "# histograma de llegadas\n",
    "cuenta, cajas, ignorar = plt.hist(llegadas, 500)\n",
    "plt.ylabel('frequencia')\n",
    "plt.xlabel('valores')\n",
    "plt.title('Histograma')\n",
    "plt.show()"
   ]
  },
  {
   "cell_type": "markdown",
   "metadata": {},
   "source": [
    "### Distribución de las piezas"
   ]
  },
  {
   "cell_type": "markdown",
   "metadata": {},
   "source": [
    "El fichero `E1.piezas.txt` incluye un histórico de piezas que han llegado al taller, que nos permitirá identificar la proporción de piezas que hay de cada uno de los tres tipos. Esta proporción la utilizaremos después en el generador aleatorio de piezas de nuestro simulador."
   ]
  },
  {
   "cell_type": "code",
   "execution_count": 6,
   "metadata": {},
   "outputs": [
    {
     "data": {
      "text/plain": [
       "array([[   1, 1254],\n",
       "       [   2, 2407],\n",
       "       [   3, 1339]])"
      ]
     },
     "execution_count": 6,
     "metadata": {},
     "output_type": "execute_result"
    }
   ],
   "source": [
    "archivo_piezas = open('./E1.piezas.txt', 'r')\n",
    "piezas = [int(line) for line in archivo_piezas.readlines()]\n",
    "archivo_piezas.close()\n",
    "#cantidad de piezas de cada tipo\n",
    "stats.itemfreq(piezas)"
   ]
  },
  {
   "cell_type": "markdown",
   "metadata": {},
   "source": [
    "## Simulación del Sistema"
   ]
  },
  {
   "attachments": {},
   "cell_type": "markdown",
   "metadata": {},
   "source": [
    "Mostramos un esquema de como es nuestro sistema y su funcionamiento:\n",
    "![Esquema_siste_ms.png](./imagenes/Esquema_siste_ms.png)\n",
    "Asumimos FIFO para cada celula de procesamiento.\n",
    "También explicar que los transportes entre las distintas células deberían ser tomados como si de otro servicio se tratase y por lo tanto ser nodos en la red. En ellos ninguna pieza espera a ser transportada, ya que estos nodos tienen infinitos servidores y por lo tanto, no tienen cola. Debido a esto, para simplificar el código y nuestro sistema hemos decidido no tratar el transporte entre nodos como otro nodo. \n",
    "\n",
    "A continuación se muestra el código de nuestro simulador."
   ]
  },
  {
   "cell_type": "code",
   "execution_count": 14,
   "metadata": {},
   "outputs": [],
   "source": [
    "import numpy as np\n",
    "import random\n",
    "import queue\n",
    "import math"
   ]
  },
  {
   "cell_type": "markdown",
   "metadata": {},
   "source": [
    "Este es nuestro generador aleatorio de tiempos de llegada de las piezas. Son generados con una distribución exponencial con los parametros obtenidos en el contraste realizado anteriormente. Para ello utilizamos `numpy.random.exponential`."
   ]
  },
  {
   "cell_type": "code",
   "execution_count": 15,
   "metadata": {},
   "outputs": [],
   "source": [
    "def genArrival():\n",
    "    return np.random.exponential(13)\n",
    "    # debug\n",
    "    global times\n",
    "    time = times[0]\n",
    "    times = times[1:]\n",
    "    return time"
   ]
  },
  {
   "cell_type": "markdown",
   "metadata": {},
   "source": [
    "El tipo de pieza se generará de forma aleatoria, pero siguiendo la proporción que muestra el archivo `E1.piezas.txt` que se nos entrega con el enunciado."
   ]
  },
  {
   "cell_type": "code",
   "execution_count": 16,
   "metadata": {},
   "outputs": [],
   "source": [
    "def genPieceType():\n",
    "    x = np.random.random()\n",
    "    if x < 0.2508: # 1254/5000\n",
    "        return 1\n",
    "    elif x < 0.7322: # (1254+2407)/5000\n",
    "        return 2\n",
    "    else: # x < 1 (1254+2407+1339)\n",
    "        return 3"
   ]
  },
  {
   "cell_type": "markdown",
   "metadata": {},
   "source": [
    "Como nos indica el enunciado los tiempos de procesado de cada pieza en cada célula siguen una distribución triangular de los tiempos expresados en minutos de la tabla del enunciado. Para ello utilizamos `numpy.random.triangular`."
   ]
  },
  {
   "cell_type": "code",
   "execution_count": 17,
   "metadata": {},
   "outputs": [],
   "source": [
    "class System():\n",
    "    \n",
    "    def __init__(self, transportTime, num_machines):\n",
    "        self.eventsQueue = queue.PriorityQueue()\n",
    "        \n",
    "        # fabrication sequence for each type of piece\n",
    "        self.steps = [[0,1,2,3],\n",
    "                      [0,1,3,1,2],\n",
    "                      [1,0,2]]\n",
    "        \n",
    "        # processing times for each type of piece at each step of its phabrication sequence\n",
    "        self.processingTimes =[[(6,9,10), (5,8,10), (15,20,25), (8,12,16)],\n",
    "                           [(1,13,15), (4,6,8), (15,18,21), (6,9,12), (27,30,39)], # El 30 es un 3 en el enunciado, errata\n",
    "                           [(7,9,11), (7,10,13), (18,23,28)]]\n",
    "        \n",
    "        \n",
    "        # cell queues\n",
    "        self.queue = [queue.Queue(),queue.Queue(),queue.Queue(),queue.Queue()]\n",
    "        \n",
    "        # number of machines in each cell\n",
    "        self.num_machines = num_machines\n",
    "        \n",
    "        # number of idle machines in each clell\n",
    "        self.idle_machines = [[True for j in range(num_machines[i])] for i in range(4)]\n",
    "        \n",
    "        # transportation time between cells\n",
    "        self.transportTime = transportTime\n",
    "        \n",
    "        # stats counters\n",
    "        self.minTime = [math.inf, math.inf, math.inf] # min processing type of each type of piece\n",
    "        self.maxTime = [0,0,0] # max processing type of each type of piece\n",
    "        self.sumTimes = [0,0,0] # Sum of the processing times of all pieces for each type of piece\n",
    "        self.numPieces = [0,0,0] # Total number of pieces processed for each type of piece\n",
    "        \n",
    "        # like the area under the integral of the size of each queue over time, but discrete\n",
    "        self.queueSizeOverTime = [0,0,0,0] \n",
    "        self.lastUpdate = [0,0,0,0] # Last time the previous counter was updated\n",
    "        \n",
    "        self.idleTime = [[0 for j in range(num_machines[i])] for i in range(4)] # total time the\n",
    "                                                            # machine j in cell i have been idle\n",
    "        self.lastUpdateMachine = [[0 for j in range(num_machines[i])] for i in range(4)] # Last time\n",
    "                                                                    # the previous counter was updated\n",
    "        \n",
    "        self.debug = False\n",
    "        \n",
    "    # destructor\n",
    "        # close files\n",
    "\n",
    "    def simul_main(self,simulationTime):\n",
    "    \n",
    "        self.time = 0\n",
    "        \n",
    "        self.simulationTime = simulationTime\n",
    "        \n",
    "        self.nextPiece()\n",
    "    \n",
    "        while not self.eventsQueue.empty():\n",
    "            self.time, _, nextEvent = self.eventsQueue.get()\n",
    "            nextEvent()\n",
    "            \n",
    "    def simul_main_debug(self, simulationTime):\n",
    "            \n",
    "        self.time = 0\n",
    "    \n",
    "        self.simulationTime = simulationTime\n",
    "    \n",
    "        self.nextPiece()\n",
    "            \n",
    "    def debug_step(self):\n",
    "        \n",
    "        if not self.eventsQueue.empty():\n",
    "            self.time, eventDescription, nextEvent = self.eventsQueue.get()\n",
    "            print(self.time)\n",
    "            print(eventDescription)\n",
    "            nextEvent()\n",
    "        \n",
    "    def nextPiece(self):\n",
    "        nextArrival = self.timeTillNextArrival()\n",
    "        nextArrivalTime = self.time + nextArrival\n",
    "        if nextArrivalTime < self.simulationTime:\n",
    "            nextPieceType = self.nextPieceType()\n",
    "            nextPiece = (nextArrivalTime, nextPieceType, 0)\n",
    "            # The prority queue as it is breaks if two events happen at the same time\n",
    "            eventDescription = \"piece \" + str(nextPiece) + \" arrives\"\n",
    "            event = lambda : self.arrivePiece(nextPiece)\n",
    "            self.eventsQueue.put((nextArrivalTime, eventDescription, event))\n",
    "    \n",
    "    def arrivePiece(self,piece):\n",
    "        self.nextPiece()\n",
    "        self.advancePiece(piece)\n",
    "        \n",
    "    def nextPieceType(self):\n",
    "            return genPieceType()-1\n",
    "        # Types of pieces are shifted so that the first one is 0\n",
    "        \n",
    "    def timeTillNextArrival(self):\n",
    "            return genArrival()\n",
    "    \n",
    "    def advancePiece(self,piece):\n",
    "        \n",
    "        arrivalTime, pieceType, step = piece\n",
    "\n",
    "        if self.steps[pieceType][step:] == []:\n",
    "            self.finishPiece(piece)\n",
    "            if self.debug:\n",
    "                print(\"piece \" + str(arrivalTime) + \" finishes\")\n",
    "        else:\n",
    "            next_cell = self.steps[pieceType][step]\n",
    "            if step == 0:\n",
    "                self.enter(next_cell,piece)\n",
    "            else:\n",
    "                eventTime = self.time + self.transportTime\n",
    "                eventDescription = \"piece \" + str(piece) + \" enters cell \" + str(next_cell)\n",
    "                event = lambda : self.enter(next_cell,piece)\n",
    "                self.eventsQueue.put((eventTime, eventDescription, event))\n",
    "    \n",
    "    def finishPiece(self,piece):\n",
    "        \n",
    "        arrivalTime, pieceType, _ = piece\n",
    "        \n",
    "        totalTime = self.time - arrivalTime\n",
    "        \n",
    "        if totalTime < self.minTime[pieceType]: # use dictionaries, since index needs shifting\n",
    "            self.minTime[pieceType] = totalTime\n",
    "       \n",
    "        if totalTime > self.maxTime[pieceType]:\n",
    "            self.maxTime[pieceType] = totalTime\n",
    "        \n",
    "        self.sumTimes[pieceType] += totalTime\n",
    "        \n",
    "        self.numPieces[pieceType] += 1\n",
    "        \n",
    "    \n",
    "    def enter(self,cell,piece):\n",
    "        \n",
    "        for machine in range(self.num_machines[cell]):\n",
    "            if self.idle_machines[cell][machine]:\n",
    "                self.process(cell,piece,machine)\n",
    "                return\n",
    "            \n",
    "        self.queueSizeOverTime[cell] += self.queue[cell].qsize()*(self.time-self.lastUpdate[cell])\n",
    "        self.lastUpdate[cell] = self.time\n",
    "        self.queue[cell].put(piece)\n",
    "\n",
    "    def process(self,cell,piece,machine):\n",
    "        \n",
    "        self.idleTime[cell][machine] += self.time - self.lastUpdateMachine[cell][machine]\n",
    "        self.lastUpdateMachine[cell][machine] = self.time\n",
    "        \n",
    "        _, pieceType, step = piece\n",
    "        \n",
    "        low, mode, upp = self.processingTimes[pieceType][step]\n",
    "        \n",
    "        if self.debug:\n",
    "            processing_time = mode\n",
    "        else:\n",
    "            processing_time = np.random.triangular(low,mode,upp)\n",
    "        \n",
    "        \n",
    "        self.idle_machines[cell][machine] = False\n",
    "        \n",
    "        eventDescription = \"piece \" + str(piece) + \" done in cell \" + str(cell)\n",
    "        self.eventsQueue.put((self.time+processing_time, eventDescription, lambda : self.done(cell,piece,machine)))\n",
    "        \n",
    "    def done(self,cell,piece,machine):\n",
    "        \n",
    "        self.lastUpdateMachine[cell][machine] = self.time\n",
    "        \n",
    "        self.idle_machines[cell][machine] = True\n",
    "        \n",
    "        if not self.queue[cell].empty():\n",
    "            \n",
    "            self.queueSizeOverTime[cell] += self.queue[cell].qsize()*(self.time-self.lastUpdate[cell])\n",
    "            self.lastUpdate[cell] = self.time\n",
    "            nextPiece = self.queue[cell].get()\n",
    "            self.process(cell,nextPiece,machine)\n",
    "        \n",
    "        arrivalTime, pieceType, step = piece\n",
    "        piece = arrivalTime, pieceType, step + 1\n",
    "        self.advancePiece(piece)"
   ]
  },
  {
   "cell_type": "markdown",
   "metadata": {},
   "source": [
    "Vamos a probar nuestro simulador durante 60 minutos y mostraremos la traza de la ejecución del simulador, así como los estadísticos calculados para este tiempo, con el fin de comprobar que el simulador funciona como se espera.\n",
    "Para iniciar nuestro simulador necesitamos llamar a `System` pasandole como parametros el tiempo de transporte entre células en minutos (en este caso dos minutos) y una tupla especificando el número de máquinas de procesado en cada célula. En nuestro caso una máquina para cada célula, salvo la tercera, que dispone de dos."
   ]
  },
  {
   "cell_type": "code",
   "execution_count": 22,
   "metadata": {
    "scrolled": false
   },
   "outputs": [
    {
     "name": "stdout",
     "output_type": "stream",
     "text": [
      "31.038711548585376\n",
      "piece (31.038711548585376, 2, 0) arrives\n",
      "40.038711548585376\n",
      "piece (31.038711548585376, 2, 0) done in cell 1\n",
      "42.038711548585376\n",
      "piece (31.038711548585376, 2, 1) enters cell 0\n",
      "47.58742260943695\n",
      "piece (47.58742260943695, 0, 0) arrives\n",
      "51.09702291102327\n",
      "piece (51.09702291102327, 1, 0) arrives\n",
      "52.038711548585376\n",
      "piece (31.038711548585376, 2, 1) done in cell 0\n",
      "54.038711548585376\n",
      "piece (31.038711548585376, 2, 2) enters cell 2\n",
      "61.038711548585376\n",
      "piece (47.58742260943695, 0, 0) done in cell 0\n",
      "63.038711548585376\n",
      "piece (47.58742260943695, 0, 1) enters cell 1\n",
      "71.03871154858538\n",
      "piece (47.58742260943695, 0, 1) done in cell 1\n",
      "73.03871154858538\n",
      "piece (47.58742260943695, 0, 2) enters cell 2\n",
      "74.03871154858538\n",
      "piece (51.09702291102327, 1, 0) done in cell 0\n",
      "76.03871154858538\n",
      "piece (51.09702291102327, 1, 1) enters cell 1\n",
      "77.03871154858538\n",
      "piece (31.038711548585376, 2, 2) done in cell 2\n",
      "piece 31.038711548585376 finishes\n",
      "82.03871154858538\n",
      "piece (51.09702291102327, 1, 1) done in cell 1\n",
      "84.03871154858538\n",
      "piece (51.09702291102327, 1, 2) enters cell 3\n",
      "93.03871154858538\n",
      "piece (47.58742260943695, 0, 2) done in cell 2\n",
      "95.03871154858538\n",
      "piece (47.58742260943695, 0, 3) enters cell 3\n",
      "102.03871154858538\n",
      "piece (51.09702291102327, 1, 2) done in cell 3\n",
      "104.03871154858538\n",
      "piece (51.09702291102327, 1, 3) enters cell 1\n",
      "113.03871154858538\n",
      "piece (51.09702291102327, 1, 3) done in cell 1\n",
      "114.03871154858538\n",
      "piece (47.58742260943695, 0, 3) done in cell 3\n",
      "piece 47.58742260943695 finishes\n",
      "115.03871154858538\n",
      "piece (51.09702291102327, 1, 4) enters cell 2\n",
      "145.03871154858538\n",
      "piece (51.09702291102327, 1, 4) done in cell 2\n",
      "piece 51.09702291102327 finishes\n"
     ]
    }
   ],
   "source": [
    "system = System(2,[1,1,2,1])\n",
    "system.simul_main_debug(60)\n",
    "system.debug = True\n",
    "for _ in range(60):\n",
    "    system.debug_step()"
   ]
  },
  {
   "cell_type": "code",
   "execution_count": 19,
   "metadata": {},
   "outputs": [
    {
     "name": "stdout",
     "output_type": "stream",
     "text": [
      "Tiempo (m) de ejecución de la simulación = 139.1146418207905\n",
      "Tiempo (m) mínimo de fabricación para cada tipo de pieza = [55.0, 92.96279481200423, 54.382476098065936]\n",
      "Tiempo (m) máximo de fabricación para cada tipo de pieza = [55.0, 101.78321070674541, 54.382476098065936]\n",
      "Suma de los tiempos (m) de procesamiento de todas las piezas de cada tipo = [55.0, 194.74600551874966, 54.382476098065936]\n",
      "Cantidad de piezas fabricadas de cada tipo = [1, 2, 1]\n",
      "Tiempo (m) medio de fabricación para cada tipo de pieza = [55.0, 97.37300275937483, 54.382476098065936]\n",
      "Número medio de piezas esperando en cada célula = [0.09463911657675536, 0.05174036694961793, 0.02431430691834215, 0.08182083459431257]\n",
      "Tiempo (m) que están ociosas cada máquina de cada células = [[10.11464182079051], [60.11464182079051], [86.11464182079051, 44.11464182079051], [48.11464182079051]]\n"
     ]
    }
   ],
   "source": [
    "print(\"Tiempo (m) de ejecución de la simulación = %s\" %system.time)\n",
    "print(\"Tiempo (m) mínimo de fabricación para cada tipo de pieza = %s\" %system.minTime)\n",
    "print(\"Tiempo (m) máximo de fabricación para cada tipo de pieza = %s\" %system.maxTime)\n",
    "print(\"Suma de los tiempos (m) de procesamiento de todas las piezas de cada tipo = %s\" %system.sumTimes)\n",
    "print(\"Cantidad de piezas fabricadas de cada tipo = %s\" %system.numPieces)\n",
    "print(\"Tiempo (m) medio de fabricación para cada tipo de pieza = %s\" %[system.sumTimes[i]/system.numPieces[i] for i in range(3)])\n",
    "print(\"Número medio de piezas esperando en cada célula = %s\" %[system.queueSizeOverTime[i]/system.time for i in range(4)])\n",
    "print(\"Tiempo (m) que están ociosas cada máquina de cada células = %s\" %system.idleTime)"
   ]
  },
  {
   "cell_type": "markdown",
   "metadata": {},
   "source": [
    "Observando la traza y las estadísticas comprobamos que funciona como se espera."
   ]
  },
  {
   "cell_type": "markdown",
   "metadata": {},
   "source": [
    "### Apartado A: Tiempo de transporte = 2 min."
   ]
  },
  {
   "cell_type": "markdown",
   "metadata": {},
   "source": [
    "En este apartado simulamos el comportamiento del sistema durante 2 meses, suponiendo que el taller trabaja de forma ininterrumpida, y calculamos el tiempo mínimo, medio y máximo que tardan en fabricarse los tres tipos de piezas, el número medio de piezas esperando en cada una de las 4 células y la proporción de tiempo que están ociosas las máquinas de procesado de las células."
   ]
  },
  {
   "cell_type": "code",
   "execution_count": 27,
   "metadata": {},
   "outputs": [],
   "source": [
    "system = System(2,[1,1,2,1])\n",
    "system.simul_main(86400) # 2 months"
   ]
  },
  {
   "cell_type": "code",
   "execution_count": 28,
   "metadata": {},
   "outputs": [
    {
     "name": "stdout",
     "output_type": "stream",
     "text": [
      "Tiempo (m) de ejecución de la simulación = 89538.41318113472\n",
      "Tiempo (m) mínimo de fabricación para cada tipo de pieza = [54.01354626103762, 83.92547496801558, 50.14091139228685]\n",
      "Tiempo (m) máximo de fabricación para cada tipo de pieza = [3486.8641209033667, 3622.116737350734, 3439.5579504233174]\n",
      "Suma de los tiempos (m) de procesamiento de todas las piezas de cada tipo = [3383844.047498112, 7065541.959060886, 3554196.4137298786]\n",
      "Cantidad de piezas fabricadas de cada tipo = [1627, 3291, 1787]\n",
      "Tiempo (m) medio de fabricación para cada tipo de pieza = [2079.8058066982867, 2146.928580693068, 1988.9179707497922]\n",
      "Número medio de piezas esperando en cada célula = [0.9373724188914588, 3.33888777688316, 144.0467800321743, 3.1375591013934945]\n",
      "Tiempo (m) que están ociosas cada máquina de cada células = [[23082.400293518207], [8567.766393507693], [71.83326045987015, 79.78724791026757], [10752.841586832921]]\n"
     ]
    }
   ],
   "source": [
    "print(\"Tiempo (m) de ejecución de la simulación = %s\" %system.time)\n",
    "print(\"Tiempo (m) mínimo de fabricación para cada tipo de pieza = %s\" %system.minTime)\n",
    "print(\"Tiempo (m) máximo de fabricación para cada tipo de pieza = %s\" %system.maxTime)\n",
    "print(\"Suma de los tiempos (m) de procesamiento de todas las piezas de cada tipo = %s\" %system.sumTimes)\n",
    "print(\"Cantidad de piezas fabricadas de cada tipo = %s\" %system.numPieces)\n",
    "print(\"Tiempo (m) medio de fabricación para cada tipo de pieza = %s\" %[system.sumTimes[i]/system.numPieces[i] for i in range(3)])\n",
    "print(\"Número medio de piezas esperando en cada célula = %s\" %[system.queueSizeOverTime[i]/system.time for i in range(4)])\n",
    "print(\"Tiempo (m) que están ociosas cada máquina de cada células = %s\" %system.idleTime)"
   ]
  },
  {
   "cell_type": "markdown",
   "metadata": {},
   "source": [
    "### Apartado B: Tiempo de transporte = 1 min."
   ]
  },
  {
   "cell_type": "markdown",
   "metadata": {},
   "source": [
    "En este punto reducimos el tiempo de transporte de 2 minutos a 1 minuto y calculamos de nuevo las métricas tiempo mínimo, medio y máximo que tardan en fabricarse los tres tipos de piezas, el número medio de piezas esperando en cada una de las 4 células y la proporción de tiempo que están ociosas las máquinas de procesado de las células."
   ]
  },
  {
   "cell_type": "code",
   "execution_count": 26,
   "metadata": {},
   "outputs": [
    {
     "name": "stdout",
     "output_type": "stream",
     "text": [
      "Tiempo (m) de ejecución de la simulación = 88921.76470960857\n",
      "Tiempo (m) mínimo de fabricación para cada tipo de pieza = [90.26698482035553, 86.30092987227198, 50.41239912393283]\n",
      "Tiempo (m) máximo de fabricación para cada tipo de pieza = [2523.888564586392, 2620.3701679258083, 2535.0394305682566]\n",
      "Suma de los tiempos (m) de procesamiento de todas las piezas de cada tipo = [2162439.835220402, 4298571.708123818, 2174320.434358015]\n",
      "Cantidad de piezas fabricadas de cada tipo = [1678, 3208, 1796]\n",
      "Tiempo (m) medio de fabricación para cada tipo de pieza = [1288.7007361265805, 1339.953774352811, 1210.6461215801867]\n",
      "Número medio de piezas esperando en cada célula = [0.9121623589927585, 2.9223601682732214, 86.0160482315344, 2.572581836389285]\n",
      "Tiempo (m) que están ociosas cada máquina de cada células = [[23687.272426008887], [9430.585089754606], [92.85054610724163, 89.07338503203395], [10865.390325142325]]\n"
     ]
    }
   ],
   "source": [
    "system = System(1,[1,1,2,1])\n",
    "system.simul_main(86400) # 2 months\n",
    "print(\"Tiempo (m) de ejecución de la simulación = %s\" %system.time)\n",
    "print(\"Tiempo (m) mínimo de fabricación para cada tipo de pieza = %s\" %system.minTime)\n",
    "print(\"Tiempo (m) máximo de fabricación para cada tipo de pieza = %s\" %system.maxTime)\n",
    "print(\"Suma de los tiempos (m) de procesamiento de todas las piezas de cada tipo = %s\" %system.sumTimes)\n",
    "print(\"Cantidad de piezas fabricadas de cada tipo = %s\" %system.numPieces)\n",
    "print(\"Tiempo (m) medio de fabricación para cada tipo de pieza = %s\" %[system.sumTimes[i]/system.numPieces[i] for i in range(3)])\n",
    "print(\"Número medio de piezas esperando en cada célula = %s\" %[system.queueSizeOverTime[i]/system.time for i in range(4)])\n",
    "print(\"Tiempo (m) que están ociosas cada máquina de cada células = %s\" %system.idleTime)"
   ]
  },
  {
   "cell_type": "markdown",
   "metadata": {},
   "source": [
    "## Máquina de procesado adicional"
   ]
  },
  {
   "cell_type": "markdown",
   "metadata": {},
   "source": [
    "En caso de que fuese posible disponer de una máquina de procesado adicional,¿en qué célula sería más beneficioso ponerla?"
   ]
  },
  {
   "cell_type": "markdown",
   "metadata": {},
   "source": [
    "A continuación vamos a calcular las mismas métricas que en los apartados A y B para simulaciones en las que vamos a incluir una o varias máquinas adicionales en las diferentes células. Mediante la comparativa de los resultados obtenidos vamos a definir la solución más ventajosa."
   ]
  },
  {
   "cell_type": "markdown",
   "metadata": {},
   "source": [
    "### Caso1_"
   ]
  },
  {
   "cell_type": "markdown",
   "metadata": {},
   "source": [
    "Incluímos una segunda máquina en la célula 1, dejando por tanto 2 máquinas en las células 1 y 3."
   ]
  },
  {
   "cell_type": "code",
   "execution_count": 45,
   "metadata": {},
   "outputs": [],
   "source": [
    "np.random.seed(0)"
   ]
  },
  {
   "cell_type": "code",
   "execution_count": 46,
   "metadata": {},
   "outputs": [],
   "source": [
    "system = System(2,[2,1,2,1])\n",
    "system.simul_main(86400)"
   ]
  },
  {
   "cell_type": "code",
   "execution_count": 47,
   "metadata": {},
   "outputs": [
    {
     "name": "stdout",
     "output_type": "stream",
     "text": [
      "Tiempo (m) de ejecución de la simulación = 89382.39784571007\n",
      "Tiempo (m) mínimo de fabricación para cada tipo de pieza = [58.74149040832809, 86.46817377192502, 43.430558288539714]\n",
      "Tiempo (m) máximo de fabricación para cada tipo de pieza = [3523.910004629157, 3577.512329174191, 3443.641387891672]\n",
      "Suma de los tiempos (m) de procesamiento de todas las piezas de cada tipo = [3631407.7469661664, 7223311.171336805, 3664983.8220654908]\n",
      "Cantidad de piezas fabricadas de cada tipo = [1683, 3256, 1776]\n",
      "Tiempo (m) medio de fabricación para cada tipo de pieza = [2157.699196058328, 2218.4616619584785, 2063.6170169287675]\n",
      "Número medio de piezas esperando en cada célula = [0.05672054710289344, 3.01643365303673, 151.18449845767756, 3.2479941505374215]\n",
      "Tiempo (m) que están ociosas cada máquina de cada células = [[45437.95781157008, 64095.47445991962], [8803.622896305074], [112.34815473015725, 116.42574050481903], [10471.822431724398]]\n"
     ]
    }
   ],
   "source": [
    "print(\"Tiempo (m) de ejecución de la simulación = %s\" %system.time)\n",
    "print(\"Tiempo (m) mínimo de fabricación para cada tipo de pieza = %s\" %system.minTime)\n",
    "print(\"Tiempo (m) máximo de fabricación para cada tipo de pieza = %s\" %system.maxTime)\n",
    "print(\"Suma de los tiempos (m) de procesamiento de todas las piezas de cada tipo = %s\" %system.sumTimes)\n",
    "print(\"Cantidad de piezas fabricadas de cada tipo = %s\" %system.numPieces)\n",
    "print(\"Tiempo (m) medio de fabricación para cada tipo de pieza = %s\" %[system.sumTimes[i]/system.numPieces[i] for i in range(3)])\n",
    "print(\"Número medio de piezas esperando en cada célula = %s\" %[system.queueSizeOverTime[i]/system.time for i in range(4)])\n",
    "print(\"Tiempo (m) que están ociosas cada máquina de cada células = %s\" %system.idleTime)"
   ]
  },
  {
   "cell_type": "markdown",
   "metadata": {},
   "source": [
    "### Caso2_"
   ]
  },
  {
   "cell_type": "markdown",
   "metadata": {},
   "source": [
    "Incluímos una segunda máquina en la célula 2, dejando por tanto 2 máquinas en las células 2 y 3."
   ]
  },
  {
   "cell_type": "code",
   "execution_count": 48,
   "metadata": {},
   "outputs": [],
   "source": [
    "np.random.seed(0)"
   ]
  },
  {
   "cell_type": "code",
   "execution_count": 49,
   "metadata": {},
   "outputs": [],
   "source": [
    "system = System(2,[1,2,2,1])\n",
    "system.simul_main(86400)"
   ]
  },
  {
   "cell_type": "code",
   "execution_count": 50,
   "metadata": {},
   "outputs": [
    {
     "name": "stdout",
     "output_type": "stream",
     "text": [
      "Tiempo (m) de ejecución de la simulación = 87887.80376318807\n",
      "Tiempo (m) mínimo de fabricación para cada tipo de pieza = [51.55413598831865, 82.7936181009909, 41.07770502365565]\n",
      "Tiempo (m) máximo de fabricación para cada tipo de pieza = [2299.8255717818247, 2285.612935242483, 2173.7939938420823]\n",
      "Suma de los tiempos (m) de procesamiento de todas las piezas de cada tipo = [2538448.675921374, 4725511.289442616, 2530010.466936053]\n",
      "Cantidad de piezas fabricadas de cada tipo = [1711, 3117, 1775]\n",
      "Tiempo (m) medio de fabricación para cada tipo de pieza = [1483.605304454339, 1516.0446870204091, 1425.3580095414382]\n",
      "Número medio de piezas esperando en cada célula = [0.9339098784999093, 0.039363230360598404, 103.12735602206237, 2.4281905939954496]\n",
      "Tiempo (m) que están ociosas cada máquina de cada células = [[24651.286137970797], [38455.30815377923, 58643.588027146674], [305.4425364271946, 427.5343531082833], [11243.05995436342]]\n"
     ]
    }
   ],
   "source": [
    "print(\"Tiempo (m) de ejecución de la simulación = %s\" %system.time)\n",
    "print(\"Tiempo (m) mínimo de fabricación para cada tipo de pieza = %s\" %system.minTime)\n",
    "print(\"Tiempo (m) máximo de fabricación para cada tipo de pieza = %s\" %system.maxTime)\n",
    "print(\"Suma de los tiempos (m) de procesamiento de todas las piezas de cada tipo = %s\" %system.sumTimes)\n",
    "print(\"Cantidad de piezas fabricadas de cada tipo = %s\" %system.numPieces)\n",
    "print(\"Tiempo (m) medio de fabricación para cada tipo de pieza = %s\" %[system.sumTimes[i]/system.numPieces[i] for i in range(3)])\n",
    "print(\"Número medio de piezas esperando en cada célula = %s\" %[system.queueSizeOverTime[i]/system.time for i in range(4)])\n",
    "print(\"Tiempo (m) que están ociosas cada máquina de cada células = %s\" %system.idleTime)"
   ]
  },
  {
   "cell_type": "markdown",
   "metadata": {},
   "source": [
    "### Caso3_"
   ]
  },
  {
   "cell_type": "markdown",
   "metadata": {},
   "source": [
    "Incluímos una tercera máquina en la célula 3, dejando el resto con 1 sóla máquina como originalmente."
   ]
  },
  {
   "cell_type": "code",
   "execution_count": 60,
   "metadata": {},
   "outputs": [],
   "source": [
    "np.random.seed(0)"
   ]
  },
  {
   "cell_type": "code",
   "execution_count": 61,
   "metadata": {},
   "outputs": [],
   "source": [
    "system = System(2,[1,1,3,1])\n",
    "system.simul_main(86400)"
   ]
  },
  {
   "cell_type": "code",
   "execution_count": 62,
   "metadata": {},
   "outputs": [
    {
     "name": "stdout",
     "output_type": "stream",
     "text": [
      "Tiempo (m) de ejecución de la simulación = 86473.14191322502\n",
      "Tiempo (m) mínimo de fabricación para cada tipo de pieza = [45.473933672648855, 73.39513244279806, 39.514075187144044]\n",
      "Tiempo (m) máximo de fabricación para cada tipo de pieza = [339.0967782453081, 460.31765265221475, 201.80667928646108]\n",
      "Suma de los tiempos (m) de procesamiento de todas las piezas de cada tipo = [199693.90719749732, 526681.6579441692, 128583.35249633166]\n",
      "Cantidad de piezas fabricadas de cada tipo = [1643, 3118, 1710]\n",
      "Tiempo (m) medio de fabricación para cada tipo de pieza = [121.54224418593873, 168.91650350999655, 75.19494298031091]\n",
      "Número medio de piezas esperando en cada célula = [0.7941252146966267, 1.817734294868606, 0.09075191873481893, 2.2738004388493245]\n",
      "Tiempo (m) que están ociosas cada máquina de cada células = [[25304.66511633963], [11952.688263918666], [19451.813146655215, 27685.687160481866, 40575.63050791411], [10746.164318299881]]\n"
     ]
    }
   ],
   "source": [
    "print(\"Tiempo (m) de ejecución de la simulación = %s\" %system.time)\n",
    "print(\"Tiempo (m) mínimo de fabricación para cada tipo de pieza = %s\" %system.minTime)\n",
    "print(\"Tiempo (m) máximo de fabricación para cada tipo de pieza = %s\" %system.maxTime)\n",
    "print(\"Suma de los tiempos (m) de procesamiento de todas las piezas de cada tipo = %s\" %system.sumTimes)\n",
    "print(\"Cantidad de piezas fabricadas de cada tipo = %s\" %system.numPieces)\n",
    "print(\"Tiempo (m) medio de fabricación para cada tipo de pieza = %s\" %[system.sumTimes[i]/system.numPieces[i] for i in range(3)])\n",
    "print(\"Número medio de piezas esperando en cada célula = %s\" %[system.queueSizeOverTime[i]/system.time for i in range(4)])\n",
    "print(\"Tiempo (m) que están ociosas cada máquina de cada células = %s\" %system.idleTime)"
   ]
  },
  {
   "cell_type": "markdown",
   "metadata": {},
   "source": [
    "### Caso4_"
   ]
  },
  {
   "cell_type": "markdown",
   "metadata": {},
   "source": [
    "Incluímos una segunda máquina en la célula 4, dejando por tanto 2 máquinas en las células 3 y 4."
   ]
  },
  {
   "cell_type": "code",
   "execution_count": 57,
   "metadata": {},
   "outputs": [],
   "source": [
    "np.random.seed(0)"
   ]
  },
  {
   "cell_type": "code",
   "execution_count": 58,
   "metadata": {},
   "outputs": [],
   "source": [
    "system = System(2,[1,1,2,2])\n",
    "system.simul_main(86400)"
   ]
  },
  {
   "cell_type": "code",
   "execution_count": 59,
   "metadata": {},
   "outputs": [
    {
     "name": "stdout",
     "output_type": "stream",
     "text": [
      "Tiempo (m) de ejecución de la simulación = 90978.78410476734\n",
      "Tiempo (m) mínimo de fabricación para cada tipo de pieza = [56.01027400608059, 78.41684193040646, 41.06650984300086]\n",
      "Tiempo (m) máximo de fabricación para cada tipo de pieza = [4672.664629949257, 4807.400585790936, 4656.451163079866]\n",
      "Suma de los tiempos (m) de procesamiento de todas las piezas de cada tipo = [4427834.57719557, 9129042.19626566, 4762691.002954683]\n",
      "Cantidad de piezas fabricadas de cada tipo = [1624, 3339, 1822]\n",
      "Tiempo (m) medio de fabricación para cada tipo de pieza = [2726.499123888898, 2734.0647488067266, 2613.990671215523]\n",
      "Número medio de piezas esperando en cada célula = [0.996068576447633, 5.365861926483923, 190.024958495495, 0.05865031210040428]\n",
      "Tiempo (m) que están ociosas cada máquina de cada células = [[22319.08180552545], [7725.071312840195], [384.2193116882794, 520.5412171392961], [41463.81919499286, 60405.21400908038]]\n"
     ]
    }
   ],
   "source": [
    "print(\"Tiempo (m) de ejecución de la simulación = %s\" %system.time)\n",
    "print(\"Tiempo (m) mínimo de fabricación para cada tipo de pieza = %s\" %system.minTime)\n",
    "print(\"Tiempo (m) máximo de fabricación para cada tipo de pieza = %s\" %system.maxTime)\n",
    "print(\"Suma de los tiempos (m) de procesamiento de todas las piezas de cada tipo = %s\" %system.sumTimes)\n",
    "print(\"Cantidad de piezas fabricadas de cada tipo = %s\" %system.numPieces)\n",
    "print(\"Tiempo (m) medio de fabricación para cada tipo de pieza = %s\" %[system.sumTimes[i]/system.numPieces[i] for i in range(3)])\n",
    "print(\"Número medio de piezas esperando en cada célula = %s\" %[system.queueSizeOverTime[i]/system.time for i in range(4)])\n",
    "print(\"Tiempo (m) que están ociosas cada máquina de cada células = %s\" %system.idleTime)"
   ]
  },
  {
   "cell_type": "markdown",
   "metadata": {},
   "source": [
    "### Comparación de Resultados obtenidos en Caso1, Caso2, Caso3, Caso4"
   ]
  },
  {
   "cell_type": "markdown",
   "metadata": {},
   "source": [
    "Los resultados que se obtienen tras comparar los cuatro casos anteriores son los siguientes:"
   ]
  },
  {
   "cell_type": "markdown",
   "metadata": {},
   "source": [
    "![r1.png](./imagenes/r1.PNG)"
   ]
  },
  {
   "cell_type": "markdown",
   "metadata": {},
   "source": [
    "![r2.png](./imagenes/r2.PNG)"
   ]
  },
  {
   "cell_type": "markdown",
   "metadata": {},
   "source": [
    "Podemos leer de los resultados que se muestran en las imágenes anteriores que el Caso3, en el que se añade una tercera máquina a la célula 3, es el que resulta más favorable al analizar todas las métricas (marcado en verde los resultados mejores)\n",
    "\n",
    "Si analizamos concretamente estos resultados vemos que la agregación de tiempos (máximos, mínimos y suma) de la fabricación para las 3 piezas dan resultados muy inferiores al resto de casos y que destaca fundamentalmente en la suma de tiempos de procesamiento de todas las piezas independientemente del tipo.\n",
    "\n",
    "Aunque el número mayor de piezas fabricadas corresponde al Caso4, si comparamos la diferencia entre número de piezas y tiempo total empleado en fabricarlas para los Caso3 y Caso4, resulta mucho más óptima el comportamiento en el Caso4 ya que el tiempo necesario empleado en el caso 4 es 20 veces superior al del Caso3 para sólo un incremento del 5% en la producción de las piezas.\n",
    "\n",
    "El resultado para el promedio de tiempo de espera de las piezas es también muy inferior en el Caso3 respecto al resto mientras el tiempo total que están paradas las máquinas es el mayor, siendo este aspecto en el que tiene un comportamiento menos óptimo en Caso3."
   ]
  }
 ],
 "metadata": {
  "kernelspec": {
   "display_name": "Python 3",
   "language": "python",
   "name": "python3"
  },
  "language_info": {
   "codemirror_mode": {
    "name": "ipython",
    "version": 3
   },
   "file_extension": ".py",
   "mimetype": "text/x-python",
   "name": "python",
   "nbconvert_exporter": "python",
   "pygments_lexer": "ipython3",
   "version": "3.6.6"
  }
 },
 "nbformat": 4,
 "nbformat_minor": 2
}
