{
 "cells": [
  {
   "cell_type": "markdown",
   "metadata": {},
   "source": [
    "# Práctica Métodos de Simulación - Parte 2"
   ]
  },
  {
   "cell_type": "markdown",
   "metadata": {},
   "source": [
    "## Elena Rivas, Teresa Grau, Ignacio Casso"
   ]
  },
  {
   "cell_type": "markdown",
   "metadata": {},
   "source": [
    "**Enunciado. Simulación de sucesos discretos.**\n",
    "\n",
    "Un taller de fabricación se dedica a procesar tres tipos de piezas, para ello el taller consta de cuatro células de procesamiento.\n",
    "\n",
    "En el interior de cada célula se dispone de una máquina de procesado, excepto en la célula 3 formada por dos máquinas con las mismas características, y de un almacén (de capacidad ilimitada).\n",
    "\n",
    "La secuencia de fabricación de cada una de las piezas así como los tiempos de procesado (expresados en minutos y distribuidos según una triangular) en cada célula se muestran en la siguiente tabla:\n",
    "\n",
    "\n",
    "**TODO:** Escribir tabla usando sintáxis de hml:\n",
    "\n",
    "| A | B | C |\n",
    "| --- | --- | --- |\n",
    "| a | b | c |\n",
    "\n",
    "Los tiempos entre llegadas de las piezas al taller tiene carácter aleatorio. En el fichero `llegadas.txt` se proporciona una muestra de tiempos entre llegadas de piezas. Contrástese si la distribución de dichos tiempos es normal (truncada), weibull o exponencial y estímense los parámetros de la distribución correspondiente.\n",
    "\n",
    "El fichero `piezas.txt` incluye un histórico de piezas que han llegado al taller, que nos permitirá identificar la proporción de piezas que hay de cada uno de los tres tipos.\n",
    "\n",
    "Los tiempos de transporte de cada pieza entre las diferentes células es de 2 minutos.\n",
    "\n",
    "A. Suponiendo que el taller trabaja de forma ininterrumpida (hay tres turnos de trabajadores), simular el comportamiento del sistema durante 2 meses para estimar el tiempo mínimo, medio y máximo que tardan en fabricarse los tres tipos de piezas, el número medio de piezas esperando en cada una de las 4 células y la proporción de tiempo que están ociosas las máquinas de procesado de las células.\n",
    "\n",
    "B. Calcular las medidas anteriores si el tiempo de transporte de las piezas entre las distintas células se reduce la mitad.\n",
    "\n",
    "En caso de que fuese posible disponer de una máquina de procesado adicional, ¿en qué célula sería más beneficioso ponerla?"
   ]
  },
  {
   "cell_type": "markdown",
   "metadata": {},
   "source": [
    "## Distribución de los tiempos de llegada"
   ]
  },
  {
   "cell_type": "markdown",
   "metadata": {},
   "source": [
    "En primer lugar comprobamos si los tiempos de llegada proporcionados en el fichero `E1.llegadas.txt` siguen una distribución normal truncada, weibull o exponencial, y estimar los parámetros correspondientes. Para ello podemos usar los contrastes de hipótesis vistos en clase, en concreto el contraste de ***Kolmogorov-Smirnov***."
   ]
  },
  {
   "cell_type": "markdown",
   "metadata": {},
   "source": [
    "En estadística, la prueba de *Kolmogórov-Smirnov* (también prueba K-S) es una prueba no paramétrica que determina la bondad de ajuste de dos distribuciones de probabilidad entre sí. Consiste en lo siguiente:"
   ]
  },
  {
   "cell_type": "markdown",
   "metadata": {},
   "source": [
    "Deseamos contrastar la hipotesis\n",
    "    $$H_0: F_n(x) = F_0(x)$$\n",
    "\n",
    "Para ello, utilizamos el estadístico de contraste\n",
    " $$D = sup|\\hat F_n(x_i) - F_0(x_i)|$$\n",
    "donde:\n",
    "* $x_i$ es el i-ésimo valor observado en la muestra (cuyos valores se han ordenado previamente de menor a mayor).\n",
    "* $\\hat F_n(x_i)$ es un estimador de la probabilidad de observar valores menores o iguales que $x_i$.\n",
    "* $F_0(x_i)$ es la probabilidad de observar valores menores o iguales que $x_i$ cuando $H_0$ es cierta.\n",
    "\n",
    "Así pues, $D$ es la mayor diferencia absoluta observada entre la frecuencia acumulada observada $\\hat F_n(x_i)$ y la frecuencia acumulada teórica $F_0(x_i)$, obtenida a partir de la distribución de probabilidad que se especifica como hipótesis nula.\n",
    "\n",
    "Si los valores observados $\\hat F_n(x_i)$ son similares a los esperados $F_0(x_i)$, el valor de $D$ será pequeño. Cuanto mayor sea la discrepancia entre la distribución empírica $\\hat F_n(x_i)$ y la distribución teórica $F_0(x_i)$, mayor será el valor de $D$."
   ]
  },
  {
   "cell_type": "code",
   "execution_count": 3,
   "metadata": {},
   "outputs": [],
   "source": [
    "import numpy as np\n",
    "import random\n",
    "import queue\n",
    "import math\n",
    "import matplotlib.pyplot as plt\n",
    "from scipy import stats\n",
    "from scipy.stats import kstest"
   ]
  },
  {
   "cell_type": "code",
   "execution_count": 4,
   "metadata": {},
   "outputs": [],
   "source": [
    "archivo_llegadas = open('./E1.llegadas.txt', 'r')\n",
    "llegadas = [float(line) for line in archivo_llegadas.readlines()]\n",
    "archivo_llegadas.close()"
   ]
  },
  {
   "cell_type": "code",
   "execution_count": 5,
   "metadata": {},
   "outputs": [],
   "source": [
    "archivo_piezas = open('./E1.piezas.txt', 'r')\n",
    "piezas = [int(line) for line in archivo_piezas.readlines()]\n",
    "archivo_piezas.close()"
   ]
  },
  {
   "cell_type": "markdown",
   "metadata": {},
   "source": [
    "Con el paquete estadístico `stats` de la librería `scipy` de Python podemos contrastar la distribución de nuestra muestra con la prueba de ***Kolmogorov***."
   ]
  },
  {
   "cell_type": "code",
   "execution_count": 6,
   "metadata": {},
   "outputs": [],
   "source": [
    "from scipy.stats import expon, exponweib, truncnorm\n",
    "\n",
    "middle = len(llegadas)//2 #TODO: no lo usamos\n",
    "\n",
    "llegadas1, llegadas2 = llegadas[:middle], llegadas[middle:]"
   ]
  },
  {
   "cell_type": "markdown",
   "metadata": {},
   "source": [
    "Comenzamos testando la distribución exponencial. Según la documentación del paquete `stats`, la función de densidad de la exponencial es:\n",
    "$$f(x) = \\exp(-x)$$ para $x\\geq0$."
   ]
  },
  {
   "cell_type": "markdown",
   "metadata": {},
   "source": [
    "La densidad de probabilidad anterior se define en la forma \"estandarizada\". Para cambiar y/o escalar la distribución, utilizamos los parámetros `loc` y `scale`. Específicamente, `expon.pdf (x, loc, scale)` (probability density function), que es equivalente a `expon.pd(y) / scale` con `y = (x - loc) / scale`.\n",
    "\n",
    "Una parametrización común de la exponencial es en términos del parámetro *lambda*, tal que `pdf = lambda * exp (-lambda * x)`. Esta parametrización corresponde a usar `scale = 1/lambda`.\n",
    "\n",
    "Para realizar el contraste con la librería `stats` primero necesitamos estimar los parametros que corresponderían a nuestra muestra para la distribución que queremos contrastar. Para esta tarea, `stats` cuenta con el método `scipy.stats.rv_continuous.fit`.\n",
    "\n",
    "Éste devuelve los *MLE* para los parámetros de forma (si corresponde), ubicación y escala a partir de la muestra. MLE significa Estimación de máxima verosimilitud (Maximum Likelihood Estimate).\n",
    "Hay que tener en cuenta que `fit` se calcula al maximizar una función *log-likehood*, aplicando una penalización para muestras fuera del rango de distribución. No se garantiza que la respuesta devuelta sea el MLE globalmente óptimo, puede que solo sea óptimo local o la optimización puede fallar por completo.\n",
    "\n",
    "Una vez estimados los parametros de la exponencial, ya podemos utilizar el método `scipy.stats.kstest` que ejecuta la prueba de Kolmogorov-Smirnov para comprobar la bondad del ajuste. Que devuelve el valor del estadístico $D$ y un ***p-valor***.\n",
    "\n",
    "La decisión de aceptar o rechazar la hipotesis es tomada a partir de este ***p-valor***. Si el ***p-valor*** es grande significa  que, siendo cierta la hipótesis nula, el valor observado del estadístico $D$ era  esperable, y por tanto, no hay razón para rechazar la hipótesis. Asimismo, si el ***p-valor*** es pequeño, indica que, siendo cierta la hipótesis nula, es muy difícil que se produjera el valor de $D$ que efectivamente se ha observado. Ello obliga a poner muy en duda, y  por tanto a rechazar la hipótesis nula."
   ]
  },
  {
   "cell_type": "markdown",
   "metadata": {},
   "source": [
    "Ya podemos testar la distribución exponencial:"
   ]
  },
  {
   "cell_type": "code",
   "execution_count": 7,
   "metadata": {},
   "outputs": [
    {
     "data": {
      "text/plain": [
       "KstestResult(statistic=0.010470714624899208, pvalue=0.64335948653523267)"
      ]
     },
     "execution_count": 7,
     "metadata": {},
     "output_type": "execute_result"
    }
   ],
   "source": [
    "loc, scale = expon.fit(llegadas)\n",
    "\n",
    "# kstest(llegadas, lambda x : expon.cdf(x, loc = loc, scale = scale))\n",
    "\n",
    "kstest(llegadas,'expon', (loc, scale))"
   ]
  },
  {
   "cell_type": "markdown",
   "metadata": {},
   "source": [
    "Hipotesis no rechazada. Los párametros serían:"
   ]
  },
  {
   "cell_type": "code",
   "execution_count": 8,
   "metadata": {},
   "outputs": [
    {
     "name": "stdout",
     "output_type": "stream",
     "text": [
      "(0.0011736909087417102, 12.996337543335594)\n"
     ]
    }
   ],
   "source": [
    "print((loc, scale))"
   ]
  },
  {
   "cell_type": "markdown",
   "metadata": {},
   "source": [
    "A continuación testamos la distribución de weibull, que según la documentación de `stats` tiene la siguiente funcion de distribución:\n",
    "$$f(x,a,c) = ac(1-exp(-x^c))^{a-1}exp(-x^c)^{c-1}$$\n",
    "para $x>0$, $a>0$, $c>0$."
   ]
  },
  {
   "cell_type": "markdown",
   "metadata": {},
   "source": [
    "$a$ y $c$ son parámetros de forma. La densidad de probabilidad anterior se define en la forma \"estandarizada\". Para cambiar y/o escalar la distribución, al igual que explicamos antes en la exponencial, se utilizan los parametros *loc* y *scale*. Concretamente, `exponweib.pdf(x, a, c, loc, scale)`, que es equivalente a `exponweib.pdf(y, a, c) / scale` con `y = (x - loc) / scale.`"
   ]
  },
  {
   "cell_type": "code",
   "execution_count": 13,
   "metadata": {},
   "outputs": [
    {
     "data": {
      "text/plain": [
       "KstestResult(statistic=0.0090628755311315534, pvalue=0.80604772543015868)"
      ]
     },
     "execution_count": 13,
     "metadata": {},
     "output_type": "execute_result"
    }
   ],
   "source": [
    "params = exponweib.fit(llegadas, fa=1) # an exponential weibull with a = 1 is the normal weibull\n",
    "#params = exponweib.fit(llegadas)\n",
    "#kstest(llegadas, lambda x : exponweib.cdf(x, a = 1, c= c, loc = loc, scale = scale))\n",
    "\n",
    "kstest(llegadas,'exponweib', args=params)\n"
   ]
  },
  {
   "cell_type": "markdown",
   "metadata": {},
   "source": [
    "Hypotesis not rejected"
   ]
  },
  {
   "cell_type": "code",
   "execution_count": 14,
   "metadata": {},
   "outputs": [
    {
     "name": "stdout",
     "output_type": "stream",
     "text": [
      "(1, 0.98351789950351987, 0.0011736909999999997, 12.916844528285321)\n"
     ]
    }
   ],
   "source": [
    "print(params)"
   ]
  },
  {
   "cell_type": "markdown",
   "metadata": {},
   "source": [
    "Tampoco rechaza la hipotesis de que nuestra muestra siga una distribución Weibull. Esto podemos explicarlo observando los parametros que obtenemos con la funcion `fit`. Observamos que el parametro $c$ es casi 1 (c = 0.98), cuando se da esto lo que en realidad tenemos es una exponencial. Por eso la hipotesis no es rechazada.\n",
    "\n",
    "***However we see that the paramenter k of the distribution is estimated to be 0.98, and with k = 1 we actually have an exponential, so that's why it is not rejected #TODO: quitar***"
   ]
  },
  {
   "cell_type": "markdown",
   "metadata": {},
   "source": [
    "Y por último testamos la distribución normal truncada:"
   ]
  },
  {
   "cell_type": "code",
   "execution_count": 13,
   "metadata": {},
   "outputs": [
    {
     "name": "stderr",
     "output_type": "stream",
     "text": [
      "/home/ignacio/.local/lib/python3.6/site-packages/scipy/stats/_continuous_distns.py:5823: RuntimeWarning: divide by zero encountered in log\n",
      "  self._logdelta = np.log(self._delta)\n",
      "/home/ignacio/.local/lib/python3.6/site-packages/scipy/stats/_continuous_distns.py:5823: RuntimeWarning: invalid value encountered in log\n",
      "  self._logdelta = np.log(self._delta)\n"
     ]
    },
    {
     "data": {
      "text/plain": [
       "KstestResult(statistic=0.16126924639176748, pvalue=2.2424395794550417e-113)"
      ]
     },
     "execution_count": 13,
     "metadata": {},
     "output_type": "execute_result"
    }
   ],
   "source": [
    "from scipy.stats import truncnorm\n",
    "\n",
    "a,b,loc,scale = truncnorm.fit(llegadas)\n",
    "\n",
    "# The bounds are given w.r.t the standard distribution, prior to applying scale and location paramenters.\n",
    "# Therefore we can't specify that the lower bound is 0 (fa=0). The information we have is that\n",
    "# a = -loc, but that is a constraint we can not pass to the method fit. To satisfy the constraint, we propose\n",
    "# the following fixpoint\n",
    "\n",
    "while abs(loc+a) > 0.0001:\n",
    "    a,b,loc,scale = truncnorm.fit(llegadas, fa=-loc)\n",
    "    \n",
    "# just needs one iteration\n",
    "\n",
    "kstest(llegadas,'truncnorm', (a,b,loc,scale))"
   ]
  },
  {
   "cell_type": "markdown",
   "metadata": {},
   "source": [
    "La hipotesis es rechazada. Por tanto, nuestra muestra sigue una distribución exponencial con los siguientes parametros `loc` y `scale`:"
   ]
  },
  {
   "cell_type": "code",
   "execution_count": 15,
   "metadata": {},
   "outputs": [
    {
     "name": "stdout",
     "output_type": "stream",
     "text": [
      "(0.0011736909087417102, 12.996337543335594)\n"
     ]
    }
   ],
   "source": [
    "loc, scale = expon.fit(llegadas)\n",
    "print((loc, scale))"
   ]
  },
  {
   "cell_type": "markdown",
   "metadata": {},
   "source": [
    "A continuación visualizamos la distribución de nuestra muestra mediante un histograma:"
   ]
  },
  {
   "cell_type": "code",
   "execution_count": 17,
   "metadata": {
    "scrolled": false
   },
   "outputs": [
    {
     "data": {
      "image/png": "[encoded data removed]",
      "text/plain": [
       "<matplotlib.figure.Figure at 0x7f4e4326a9e8>"
      ]
     },
     "metadata": {},
     "output_type": "display_data"
    }
   ],
   "source": [
    "# histograma de llegadas\n",
    "cuenta, cajas, ignorar = plt.hist(llegadas, 500)\n",
    "plt.ylabel('frequencia')\n",
    "plt.xlabel('valores')\n",
    "plt.title('Histograma')\n",
    "plt.show()"
   ]
  },
  {
   "cell_type": "markdown",
   "metadata": {},
   "source": [
    "### Distribución de las piezas"
   ]
  },
  {
   "cell_type": "markdown",
   "metadata": {},
   "source": [
    "El fichero `E1.piezas.txt` incluye un histórico de piezas que han llegado al taller, que nos permitirá identificar la proporción de piezas que hay de cada uno de los tres tipos. Esta proporción la utilizaremos después en el generador aleatorio de piezas de nuestro simulador."
   ]
  },
  {
   "cell_type": "code",
   "execution_count": 3,
   "metadata": {},
   "outputs": [
    {
     "data": {
      "text/plain": [
       "array([[   1, 1254],\n",
       "       [   2, 2407],\n",
       "       [   3, 1339]])"
      ]
     },
     "execution_count": 3,
     "metadata": {},
     "output_type": "execute_result"
    }
   ],
   "source": [
    "archivo_piezas = open('./E1.piezas.txt', 'r')\n",
    "piezas = [int(line) for line in archivo_piezas.readlines()]\n",
    "archivo_piezas.close()\n",
    "#cantidad de piezas de cada tipo\n",
    "stats.itemfreq(piezas)"
   ]
  },
  {
   "cell_type": "markdown",
   "metadata": {},
   "source": [
    "## Simulación del Sistema"
   ]
  },
  {
   "cell_type": "markdown",
   "metadata": {},
   "source": [
    "**#TODO: imagen del sistema**\n",
    "Asumimos FIFO para cada celula de procesamiento.\n",
    "También explicar que los transportes entre las distintas células deberían ser tomados como si de otro servicio se tratase y por lo tanto ser nodos en la red. En ellos ninguna pieza espera a ser transportada, ya que estos nodos tienen infinitos servidores y por lo tanto, no tienen cola. Debido a esto, para simplificar el código y nuestro sistema hemos decidido no tratar el transporte entre nodos como otro nodo. **##TODO: ¿veis bien decir esto?##**\n",
    "\n",
    "A continuación se muestra el código de nuestro simulador."
   ]
  },
  {
   "cell_type": "code",
   "execution_count": 6,
   "metadata": {},
   "outputs": [],
   "source": [
    "import numpy as np\n",
    "import random\n",
    "import queue\n",
    "import math"
   ]
  },
  {
   "cell_type": "markdown",
   "metadata": {},
   "source": [
    "Este es nuestro generador aleatorio de tiempos de llegada de las piezas. Son generados con una distribución exponencial con los parametros obtenidos en el contraste realizado anteriormente. Para ello utilizamos `numpy.random.exponential`."
   ]
  },
  {
   "cell_type": "code",
   "execution_count": 7,
   "metadata": {},
   "outputs": [],
   "source": [
    "# times = [1,2,200]\n",
    "\n",
    "def genArrival():\n",
    "    return np.random.exponential(13)\n",
    "    # debug\n",
    "    global times\n",
    "    time = times[0]\n",
    "    times = times[1:]\n",
    "    return time"
   ]
  },
  {
   "cell_type": "markdown",
   "metadata": {},
   "source": [
    "El tipo de pieza se generará de forma aleatoria, pero siguiendo la proporción que muestra el archivo `E1.piezas.txt` que se nos entrega con el enunciado."
   ]
  },
  {
   "cell_type": "code",
   "execution_count": 8,
   "metadata": {},
   "outputs": [],
   "source": [
    "def genPieceType():\n",
    "    x = np.random.random()\n",
    "    if x < 0.2508: # 1254/5000\n",
    "        return 1\n",
    "    elif x < 0.7322: # (1254+2407)/5000\n",
    "        return 2\n",
    "    else: # x < 1 (1254+2407+1339)\n",
    "        return 3\n",
    "# TODO: use 0.25, 0.5, 0.25 instead?"
   ]
  },
  {
   "cell_type": "markdown",
   "metadata": {},
   "source": [
    "Como nos indica el enunciado los tiempos de procesado de cada pieza en cada célula siguen una distribución triangular de los tiempos expresados en minutos de la tabla del enunciado. Para ello utilizamos `numpy.random.triangular`."
   ]
  },
  {
   "cell_type": "code",
   "execution_count": 9,
   "metadata": {},
   "outputs": [],
   "source": [
    "class System():\n",
    "    \n",
    "    def __init__(self, transportTime, num_machines):\n",
    "        self.eventsQueue = queue.PriorityQueue()\n",
    "        \n",
    "        #if debug:\n",
    "        #    self.arrivals = open(\"E1.llegadas.txt\",\"r\")\n",
    "        #    self.pieces = open(\"E1.piezas.txt\",\"r\")\n",
    "        # open files\n",
    "        \n",
    "        # fabrication sequence for each type of piece\n",
    "        self.steps = [[0,1,2,3],\n",
    "                      [0,1,3,1,2],\n",
    "                      [1,0,2]]\n",
    "        \n",
    "        # processing times for each type of piece at each step of its phabrication sequence\n",
    "        self.processingTimes =[[(6,9,10), (5,8,10), (15,20,25), (8,12,16)],\n",
    "                           [(1,13,15), (4,6,8), (15,18,21), (6,9,12), (27,30,39)], # El 30 es un 3 en el enunciado, errata\n",
    "                           [(7,9,11), (7,10,13), (18,23,28)]]\n",
    "        \n",
    "        \n",
    "        # cell queues\n",
    "        self.queue = [queue.Queue(),queue.Queue(),queue.Queue(),queue.Queue()]\n",
    "        \n",
    "        # number of machines in each cell\n",
    "        self.num_machines = num_machines\n",
    "        \n",
    "        # number of idle machines in each clell\n",
    "        self.idle_machines = num_machines[:] # copy\n",
    "        \n",
    "        # transportation time between cells\n",
    "        self.transportTime = transportTime\n",
    "        \n",
    "        # stats counters\n",
    "        self.minTime = [math.inf, math.inf, math.inf] # min processing type of each type of piece\n",
    "        self.maxTime = [0,0,0] # max processing type of each type of piece\n",
    "        self.sumTimes = [0,0,0] # Sum of the processing times of all pieces for each type of piece\n",
    "        self.numPieces = [0,0,0] # Total number of pieces processed for each type of piece\n",
    "        \n",
    "        # like the area under the integral of the size of each queue over time, but discrete\n",
    "        self.queueSizeOverTime = [0,0,0,0] \n",
    "        self.lastUpdate = [0,0,0,0] # Last time the previous counter was updated\n",
    "        \n",
    "        self.idleTime = [0,0,0,0] # total time the machine(s) in a cell have been idle\n",
    "        self.lastUpdateMachine = [0,0,0,0] # Last time the previous counter was updated\n",
    "        \n",
    "        self.debug = False\n",
    "        \n",
    "    # destructor\n",
    "        # close files\n",
    "\n",
    "    def simul_main(self,simulationTime):\n",
    "    \n",
    "        self.time = 0\n",
    "        \n",
    "        self.simulationTime = simulationTime\n",
    "        \n",
    "        self.nextPiece()\n",
    "    \n",
    "        while not self.eventsQueue.empty():\n",
    "            self.time, _, nextEvent = self.eventsQueue.get()\n",
    "            nextEvent()\n",
    "            \n",
    "    def simul_main_debug(self, simulationTime):\n",
    "            \n",
    "        self.time = 0\n",
    "    \n",
    "        self.simulationTime = simulationTime\n",
    "    \n",
    "        self.nextPiece()\n",
    "            \n",
    "    def debug_step(self):\n",
    "        \n",
    "        if not self.eventsQueue.empty():\n",
    "            self.time, eventDescription, nextEvent = self.eventsQueue.get()\n",
    "            print(self.time)\n",
    "            print(eventDescription)\n",
    "            nextEvent()\n",
    "        \n",
    "    def nextPiece(self):\n",
    "        nextArrival = self.timeTillNextArrival()\n",
    "        nextArrivalTime = self.time + nextArrival\n",
    "        if nextArrivalTime < self.simulationTime:\n",
    "            nextPieceType = self.nextPieceType()\n",
    "            nextPiece = (nextArrivalTime, nextPieceType, 0)\n",
    "            #eventsQueue.put(self.advancePiece(nextPiece), nextArrivalTime)\n",
    "            #eventsQueue.put(self.nextPiece(), nextArrivalTime)\n",
    "            # The prority queue as it is breaks if two events happen at the same time\n",
    "            eventDescription = \"piece \" + str(nextPiece) + \" arrives\"\n",
    "            event = lambda : self.arrivePiece(nextPiece)\n",
    "            self.eventsQueue.put((nextArrivalTime, eventDescription, event))\n",
    "    \n",
    "    def arrivePiece(self,piece):\n",
    "        self.nextPiece()\n",
    "        self.advancePiece(piece)\n",
    "        \n",
    "    def nextPieceType(self):\n",
    "        #if debug:\n",
    "        #    piece = self.pieces.readline()\n",
    "        #    return int(piece)-1\n",
    "        #else:\n",
    "            return genPieceType()-1\n",
    "        # Types of pieces are shifted so that the first one is 0\n",
    "        \n",
    "    def timeTillNextArrival(self):\n",
    "        #if debug:\n",
    "        #    arrival = self.arrivals.readline()\n",
    "        #    return float(arrival)\n",
    "        #else:\n",
    "            return genArrival()\n",
    "    \n",
    "    def advancePiece(self,piece):\n",
    "        \n",
    "        arrivalTime, pieceType, step = piece\n",
    "\n",
    "        if self.steps[pieceType][step:] == []:\n",
    "            self.finishPiece(piece)\n",
    "            if self.debug:\n",
    "                print(\"piece \" + str(arrivalTime) + \" finishes\")\n",
    "        else:\n",
    "            next_cell = self.steps[pieceType][step]\n",
    "            if step == 0:\n",
    "                self.enter(next_cell,piece)\n",
    "            else:\n",
    "                eventTime = self.time + self.transportTime\n",
    "                eventDescription = \"piece \" + str(piece) + \" enters cell \" + str(next_cell)\n",
    "                event = lambda : self.enter(next_cell,piece)\n",
    "                self.eventsQueue.put((eventTime, eventDescription, event))\n",
    "    \n",
    "    def finishPiece(self,piece):\n",
    "        \n",
    "        arrivalTime, pieceType, _ = piece\n",
    "        \n",
    "        totalTime = self.time - arrivalTime\n",
    "        \n",
    "        if totalTime < self.minTime[pieceType]: # use dictionaries, since index needs shifting\n",
    "            self.minTime[pieceType] = totalTime\n",
    "       \n",
    "        if totalTime > self.maxTime[pieceType]:\n",
    "            self.maxTime[pieceType] = totalTime\n",
    "        \n",
    "        self.sumTimes[pieceType] += totalTime\n",
    "        \n",
    "        self.numPieces[pieceType] += 1\n",
    "        \n",
    "    \n",
    "    def enter(self,cell,piece):\n",
    "        \n",
    "        if self.idle_machines[cell] > 0:\n",
    "            self.process(cell,piece)\n",
    "        else:\n",
    "            self.queueSizeOverTime[cell] += self.queue[cell].qsize()*(self.time-self.lastUpdate[cell])\n",
    "            self.lastUpdate[cell] = self.time\n",
    "            self.queue[cell].put(piece)\n",
    "\n",
    "    def process(self,cell,piece):\n",
    "        \n",
    "        self.idleTime[cell] += (self.time - self.lastUpdateMachine[cell])*self.idle_machines[cell]\n",
    "        self.lastUpdateMachine[cell] = self.time\n",
    "        \n",
    "        _, pieceType, step = piece\n",
    "        \n",
    "        low, mode, upp = self.processingTimes[pieceType][step]\n",
    "        \n",
    "        if self.debug:\n",
    "            processing_time = mode\n",
    "        else:\n",
    "            processing_time = np.random.triangular(low,mode,upp)\n",
    "        \n",
    "        \n",
    "        self.idle_machines[cell] -= 1\n",
    "        \n",
    "        eventDescription = \"piece \" + str(piece) + \" done in cell \" + str(cell)\n",
    "        self.eventsQueue.put((self.time+processing_time, eventDescription, lambda : self.done(cell,piece)))\n",
    "        \n",
    "    def done(self,cell,piece):\n",
    "        \n",
    "        self.idle_machines[cell] += 1\n",
    "        \n",
    "        if self.queue[cell].empty():\n",
    "            \n",
    "            self.lastUpdateMachine[cell] = self.time\n",
    "                   \n",
    "        else:\n",
    "            \n",
    "            self.queueSizeOverTime[cell] += self.queue[cell].qsize()*(self.time-self.lastUpdate[cell])\n",
    "            self.lastUpdate[cell] = self.time\n",
    "            nextPiece = self.queue[cell].get()\n",
    "            self.process(cell,nextPiece)\n",
    "        \n",
    "        arrivalTime, pieceType, step = piece\n",
    "        piece = arrivalTime, pieceType, step + 1\n",
    "        self.advancePiece(piece)"
   ]
  },
  {
   "cell_type": "markdown",
   "metadata": {},
   "source": [
    "Vamos a probar nuestro simulador durante 60 minutos y mostraremos la traza de la ejecución del simulador, así como los estadísticos calculados para este tiempo, con el fin de comprobar que el simulador funciona como se espera.\n",
    "Para iniciar nuestro simulador necesitamos llamar a `System` pasandole como parametros el tiempo de transporte entre células en minutos (en este caso dos minutos) y una tupla especificando el número de máquinas de procesado en cada célula. En nuestro caso una máquina para cada célula, salvo la tercera, que dispone de dos."
   ]
  },
  {
   "cell_type": "code",
   "execution_count": 12,
   "metadata": {
    "scrolled": false
   },
   "outputs": [
    {
     "name": "stdout",
     "output_type": "stream",
     "text": [
      "0.9699499242846261\n",
      "piece (0.9699499242846261, 2, 0) arrives\n",
      "5.01090870406607\n",
      "piece (5.01090870406607, 2, 0) arrives\n",
      "9.969949924284625\n",
      "piece (0.9699499242846261, 2, 0) done in cell 1\n",
      "11.969949924284625\n",
      "piece (0.9699499242846261, 2, 1) enters cell 0\n",
      "12.667223545354593\n",
      "piece (12.667223545354593, 0, 0) arrives\n",
      "16.20344598520087\n",
      "piece (16.20344598520087, 0, 0) arrives\n",
      "18.969949924284627\n",
      "piece (5.01090870406607, 2, 0) done in cell 1\n",
      "20.969949924284627\n",
      "piece (5.01090870406607, 2, 1) enters cell 0\n",
      "21.969949924284627\n",
      "piece (0.9699499242846261, 2, 1) done in cell 0\n",
      "22.0053049450812\n",
      "piece (22.0053049450812, 0, 0) arrives\n",
      "23.969949924284627\n",
      "piece (0.9699499242846261, 2, 2) enters cell 2\n",
      "30.969949924284627\n",
      "piece (12.667223545354593, 0, 0) done in cell 0\n",
      "32.96994992428463\n",
      "piece (12.667223545354593, 0, 1) enters cell 1\n",
      "39.39424774532945\n",
      "piece (39.39424774532945, 1, 0) arrives\n",
      "39.96994992428463\n",
      "piece (16.20344598520087, 0, 0) done in cell 0\n",
      "40.96994992428463\n",
      "piece (12.667223545354593, 0, 1) done in cell 1\n",
      "41.56607642047746\n",
      "piece (41.56607642047746, 0, 0) arrives\n",
      "41.96994992428463\n",
      "piece (16.20344598520087, 0, 1) enters cell 1\n",
      "42.96994992428463\n",
      "piece (12.667223545354593, 0, 2) enters cell 2\n",
      "46.96994992428463\n",
      "piece (0.9699499242846261, 2, 2) done in cell 2\n",
      "piece 0.9699499242846261 finishes\n",
      "48.25784615151051\n",
      "piece (48.25784615151051, 0, 0) arrives\n",
      "49.96994992428463\n",
      "piece (16.20344598520087, 0, 1) done in cell 1\n",
      "49.96994992428463\n",
      "piece (5.01090870406607, 2, 1) done in cell 0\n",
      "51.96994992428463\n",
      "piece (16.20344598520087, 0, 2) enters cell 2\n",
      "51.96994992428463\n",
      "piece (5.01090870406607, 2, 2) enters cell 2\n",
      "58.96994992428463\n",
      "piece (22.0053049450812, 0, 0) done in cell 0\n",
      "60.96994992428463\n",
      "piece (22.0053049450812, 0, 1) enters cell 1\n",
      "62.96994992428463\n",
      "piece (12.667223545354593, 0, 2) done in cell 2\n",
      "64.96994992428463\n",
      "piece (12.667223545354593, 0, 3) enters cell 3\n",
      "68.96994992428463\n",
      "piece (22.0053049450812, 0, 1) done in cell 1\n",
      "70.96994992428463\n",
      "piece (22.0053049450812, 0, 2) enters cell 2\n",
      "71.96994992428463\n",
      "piece (16.20344598520087, 0, 2) done in cell 2\n",
      "71.96994992428463\n",
      "piece (39.39424774532945, 1, 0) done in cell 0\n",
      "73.96994992428463\n",
      "piece (16.20344598520087, 0, 3) enters cell 3\n",
      "73.96994992428463\n",
      "piece (39.39424774532945, 1, 1) enters cell 1\n",
      "76.96994992428463\n",
      "piece (12.667223545354593, 0, 3) done in cell 3\n",
      "piece 12.667223545354593 finishes\n",
      "79.96994992428463\n",
      "piece (39.39424774532945, 1, 1) done in cell 1\n",
      "80.96994992428463\n",
      "piece (41.56607642047746, 0, 0) done in cell 0\n",
      "81.96994992428463\n",
      "piece (39.39424774532945, 1, 2) enters cell 3\n",
      "82.96994992428463\n",
      "piece (41.56607642047746, 0, 1) enters cell 1\n",
      "85.96994992428463\n",
      "piece (5.01090870406607, 2, 2) done in cell 2\n",
      "piece 5.01090870406607 finishes\n",
      "88.96994992428463\n",
      "piece (16.20344598520087, 0, 3) done in cell 3\n",
      "piece 16.20344598520087 finishes\n",
      "89.96994992428463\n",
      "piece (48.25784615151051, 0, 0) done in cell 0\n",
      "90.96994992428463\n",
      "piece (41.56607642047746, 0, 1) done in cell 1\n",
      "91.96994992428463\n",
      "piece (22.0053049450812, 0, 2) done in cell 2\n",
      "91.96994992428463\n",
      "piece (48.25784615151051, 0, 1) enters cell 1\n",
      "92.96994992428463\n",
      "piece (41.56607642047746, 0, 2) enters cell 2\n",
      "93.96994992428463\n",
      "piece (22.0053049450812, 0, 3) enters cell 3\n",
      "99.96994992428463\n",
      "piece (48.25784615151051, 0, 1) done in cell 1\n",
      "101.96994992428463\n",
      "piece (48.25784615151051, 0, 2) enters cell 2\n",
      "106.96994992428463\n",
      "piece (39.39424774532945, 1, 2) done in cell 3\n",
      "108.96994992428463\n",
      "piece (39.39424774532945, 1, 3) enters cell 1\n",
      "112.96994992428463\n",
      "piece (41.56607642047746, 0, 2) done in cell 2\n",
      "114.96994992428463\n",
      "piece (41.56607642047746, 0, 3) enters cell 3\n",
      "117.96994992428463\n",
      "piece (39.39424774532945, 1, 3) done in cell 1\n",
      "118.96994992428463\n",
      "piece (22.0053049450812, 0, 3) done in cell 3\n",
      "piece 22.0053049450812 finishes\n",
      "119.96994992428463\n",
      "piece (39.39424774532945, 1, 4) enters cell 2\n",
      "121.96994992428463\n",
      "piece (48.25784615151051, 0, 2) done in cell 2\n",
      "123.96994992428463\n",
      "piece (48.25784615151051, 0, 3) enters cell 3\n",
      "130.96994992428463\n",
      "piece (41.56607642047746, 0, 3) done in cell 3\n",
      "piece 41.56607642047746 finishes\n",
      "142.96994992428463\n",
      "piece (48.25784615151051, 0, 3) done in cell 3\n",
      "piece 48.25784615151051 finishes\n",
      "149.96994992428463\n",
      "piece (39.39424774532945, 1, 4) done in cell 2\n",
      "piece 39.39424774532945 finishes\n"
     ]
    }
   ],
   "source": [
    "system = System(2,[1,1,2,1])\n",
    "system.simul_main_debug(60)\n",
    "system.debug = True\n",
    "for _ in range(500):\n",
    "    system.debug_step()"
   ]
  },
  {
   "cell_type": "code",
   "execution_count": 13,
   "metadata": {},
   "outputs": [
    {
     "name": "stdout",
     "output_type": "stream",
     "text": [
      "Tiempo (m) de ejecución de la simulación = 149.96994992428463\n",
      "Tiempo (m) mínimo de fabricación para cada tipo de pieza = [64.30272637893005, 110.57570217895518, 46.0]\n",
      "Tiempo (m) máximo de fabricación para cada tipo de pieza = [96.96464497920343, 110.57570217895518, 80.95904122021857]\n",
      "Suma de los tiempos (m) de procesamiento de todas las piezas de cada tipo = [418.14985257379857, 110.57570217895518, 126.95904122021857]\n",
      "Cantidad de piezas fabricadas de cada tipo = [5, 1, 2]\n",
      "Tiempo (m) medio de fabricación para cada tipo de pieza = [83.62997051475972, 110.57570217895518, 63.47952061010928]\n",
      "Número medio de piezas esperando en cada célula = [1.0250423823597004, 0.03306689922029198, 0.08001602991838327, 0.2267120847687526]\n",
      "Tiempo (m) que están ociosas las células = [80.96994992428463, 53.96994992428463, 109.93989984856927, 130.96994992428463]\n"
     ]
    }
   ],
   "source": [
    "print(\"Tiempo (m) de ejecución de la simulación = %s\" %system.time)\n",
    "print(\"Tiempo (m) mínimo de fabricación para cada tipo de pieza = %s\" %system.minTime)#TODO: asegurarse de que es tiempo de fabricacion y no de procesado\n",
    "print(\"Tiempo (m) máximo de fabricación para cada tipo de pieza = %s\" %system.maxTime)#TODO: lo mismo\n",
    "print(\"Suma de los tiempos (m) de procesamiento de todas las piezas de cada tipo = %s\" %system.sumTimes)\n",
    "print(\"Cantidad de piezas fabricadas de cada tipo = %s\" %system.numPieces)\n",
    "print(\"Tiempo (m) medio de fabricación para cada tipo de pieza = %s\" %[system.sumTimes[i]/system.numPieces[i] for i in range(3)])\n",
    "print(\"Número medio de piezas esperando en cada célula = %s\" %[system.queueSizeOverTime[i]/system.time for i in range(4)])\n",
    "print(\"Tiempo (m) que están ociosas las células = %s\" %system.idleTime)"
   ]
  },
  {
   "cell_type": "markdown",
   "metadata": {},
   "source": [
    "Observando la traza y las estadísticas comprobamos que funciona como se espera."
   ]
  },
  {
   "cell_type": "code",
   "execution_count": 252,
   "metadata": {},
   "outputs": [
    {
     "data": {
      "text/plain": [
       "[832.6736934616771, 827.4331821415414, 1485.9400048702266, 0]"
      ]
     },
     "execution_count": 252,
     "metadata": {},
     "output_type": "execute_result"
    }
   ],
   "source": [
    "system.idleTime # TODO: fix"
   ]
  },
  {
   "cell_type": "code",
   "execution_count": null,
   "metadata": {},
   "outputs": [],
   "source": []
  },
  {
   "cell_type": "markdown",
   "metadata": {},
   "source": [
    "### Apartado A: Tiempo de transporte = 2 min."
   ]
  },
  {
   "cell_type": "markdown",
   "metadata": {},
   "source": [
    "En este apartado simulamos el comportamiento del sistema durante 2 meses, suponiendo que el taller trabaja de forma ininterrumpida, y calculamos el tiempo mínimo, medio y máximo que tardan en fabricarse los tres tipos de piezas, el número medio de piezas esperando en cada una de las 4 células y la proporción de tiempo que están ociosas las máquinas de procesado de las células."
   ]
  },
  {
   "cell_type": "code",
   "execution_count": 14,
   "metadata": {},
   "outputs": [],
   "source": [
    "system = System(2,[1,1,2,1])\n",
    "system.simul_main(86400) # 2 months"
   ]
  },
  {
   "cell_type": "code",
   "execution_count": 15,
   "metadata": {},
   "outputs": [
    {
     "name": "stdout",
     "output_type": "stream",
     "text": [
      "Tiempo (m) de ejecución de la simulación = 88083.87521556253\n",
      "Tiempo (m) mínimo de fabricación para cada tipo de pieza = [59.5738178776007, 85.37506520833765, 47.2629191241829]\n",
      "Tiempo (m) máximo de fabricación para cada tipo de pieza = [1774.3111597513634, 1970.3280054530915, 1690.2601184934028]\n",
      "Suma de los tiempos (m) de procesamiento de todas las piezas de cada tipo = [1353107.4981652077, 2793265.5066233235, 1362689.8455185955]\n",
      "Cantidad de piezas fabricadas de cada tipo = [1643, 3177, 1804]\n",
      "Tiempo (m) medio de fabricación para cada tipo de pieza = [823.5590372277588, 879.2148273916662, 755.3713112630795]\n",
      "Número medio de piezas esperando en cada célula = [0.8894606431213669, 2.8845644025011583, 51.30454553512475, 2.536319573946124]\n",
      "Tiempo (m) que están ociosas las células = [68960.86316126307, 75466.86043181058, 87945.77740772085, 78166.12866651877]\n"
     ]
    }
   ],
   "source": [
    "print(\"Tiempo (m) de ejecución de la simulación = %s\" %system.time)\n",
    "print(\"Tiempo (m) mínimo de fabricación para cada tipo de pieza = %s\" %system.minTime)#TODO: asegurarse de que es tiempo de fabricacion y no de procesado\n",
    "print(\"Tiempo (m) máximo de fabricación para cada tipo de pieza = %s\" %system.maxTime)#TODO: lo mismo\n",
    "print(\"Suma de los tiempos (m) de procesamiento de todas las piezas de cada tipo = %s\" %system.sumTimes)\n",
    "print(\"Cantidad de piezas fabricadas de cada tipo = %s\" %system.numPieces)\n",
    "print(\"Tiempo (m) medio de fabricación para cada tipo de pieza = %s\" %[system.sumTimes[i]/system.numPieces[i] for i in range(3)])\n",
    "print(\"Número medio de piezas esperando en cada célula = %s\" %[system.queueSizeOverTime[i]/system.time for i in range(4)])\n",
    "print(\"Tiempo (m) que están ociosas las células = %s\" %system.idleTime)"
   ]
  },
  {
   "cell_type": "code",
   "execution_count": 49,
   "metadata": {},
   "outputs": [
    {
     "data": {
      "text/plain": [
       "[68848.28091819512, 76623.89639972759, 88731.43893006715, 80413.26636371735]"
      ]
     },
     "execution_count": 49,
     "metadata": {},
     "output_type": "execute_result"
    }
   ],
   "source": [
    "system.idleTime # TODO: fix"
   ]
  },
  {
   "cell_type": "markdown",
   "metadata": {},
   "source": [
    "### Apartado B: Tiempo de transporte = 1 min."
   ]
  },
  {
   "cell_type": "code",
   "execution_count": 18,
   "metadata": {},
   "outputs": [
    {
     "name": "stdout",
     "output_type": "stream",
     "text": [
      "Tiempo (m) de ejecución de la simulación = 88856.71365851162\n",
      "Tiempo (m) mínimo de fabricación para cada tipo de pieza = [51.010011284997375, 78.07123796300812, 40.686200954532524]\n",
      "Tiempo (m) máximo de fabricación para cada tipo de pieza = [2547.6993139878905, 2682.164793932956, 2454.995370667937]\n",
      "Suma de los tiempos (m) de procesamiento de todas las piezas de cada tipo = [1986097.0570824686, 3969618.535224857, 2023209.0407812332]\n",
      "Cantidad de piezas fabricadas de cada tipo = [1664, 3207, 1807]\n",
      "Tiempo (m) medio de fabricación para cada tipo de pieza = [1193.5679429582144, 1237.798108894561, 1119.6508250034494]\n",
      "Número medio de piezas esperando en cada célula = [0.8612970730980438, 2.855510003322014, 78.75402562243715, 2.635572180616627]\n",
      "Tiempo (m) que están ociosas las células = [69060.91878420078, 76430.10944418923, 88585.1678539692, 79020.22656601395]\n"
     ]
    }
   ],
   "source": [
    "system = System(1,[1,1,2,1])\n",
    "system.simul_main(86400) # 2 months\n",
    "print(\"Tiempo (m) de ejecución de la simulación = %s\" %system.time)\n",
    "print(\"Tiempo (m) mínimo de fabricación para cada tipo de pieza = %s\" %system.minTime)#TODO: asegurarse de que es tiempo de fabricacion y no de procesado\n",
    "print(\"Tiempo (m) máximo de fabricación para cada tipo de pieza = %s\" %system.maxTime)#TODO: lo mismo\n",
    "print(\"Suma de los tiempos (m) de procesamiento de todas las piezas de cada tipo = %s\" %system.sumTimes)\n",
    "print(\"Cantidad de piezas fabricadas de cada tipo = %s\" %system.numPieces)\n",
    "print(\"Tiempo (m) medio de fabricación para cada tipo de pieza = %s\" %[system.sumTimes[i]/system.numPieces[i] for i in range(3)])\n",
    "print(\"Número medio de piezas esperando en cada célula = %s\" %[system.queueSizeOverTime[i]/system.time for i in range(4)])\n",
    "print(\"Tiempo (m) que están ociosas las células = %s\" %system.idleTime)"
   ]
  },
  {
   "cell_type": "markdown",
   "metadata": {},
   "source": [
    "## Máquina de procesado adicional"
   ]
  },
  {
   "cell_type": "markdown",
   "metadata": {},
   "source": [
    "Habrá que definir beneficio. Consideramos solo el tiempo?"
   ]
  },
  {
   "cell_type": "code",
   "execution_count": null,
   "metadata": {},
   "outputs": [],
   "source": [
    "np.random.seed()"
   ]
  },
  {
   "cell_type": "code",
   "execution_count": null,
   "metadata": {},
   "outputs": [],
   "source": [
    "system = System(2,[2,1,2,1])\n",
    "system.simulate()\n",
    "system.showStats()"
   ]
  },
  {
   "cell_type": "code",
   "execution_count": null,
   "metadata": {},
   "outputs": [],
   "source": [
    "system = System(2,[1,2,2,1])\n",
    "system.simulate()\n",
    "system.showStats()"
   ]
  },
  {
   "cell_type": "code",
   "execution_count": null,
   "metadata": {},
   "outputs": [],
   "source": [
    "system = System(2,[1,1,3,1])\n",
    "system.simulate()\n",
    "system.showStats()"
   ]
  },
  {
   "cell_type": "code",
   "execution_count": null,
   "metadata": {},
   "outputs": [],
   "source": [
    "system = System(2,[1,1,2,2])\n",
    "system.simulate()\n",
    "system.showStats()"
   ]
  },
  {
   "cell_type": "code",
   "execution_count": null,
   "metadata": {},
   "outputs": [],
   "source": []
  },
  {
   "cell_type": "code",
   "execution_count": null,
   "metadata": {},
   "outputs": [],
   "source": []
  },
  {
   "cell_type": "code",
   "execution_count": null,
   "metadata": {},
   "outputs": [],
   "source": []
  }
 ],
 "metadata": {
  "kernelspec": {
   "display_name": "Python 3",
   "language": "python",
   "name": "python3"
  },
  "language_info": {
   "codemirror_mode": {
    "name": "ipython",
    "version": 3
   },
   "file_extension": ".py",
   "mimetype": "text/x-python",
   "name": "python",
   "nbconvert_exporter": "python",
   "pygments_lexer": "ipython3",
   "version": "3.6.6"
  }
 },
 "nbformat": 4,
 "nbformat_minor": 2
}
