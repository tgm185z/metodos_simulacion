{
 "cells": [
  {
   "cell_type": "markdown",
   "metadata": {},
   "source": [
    "# Práctica Métodos de Simulación - Parte 1"
   ]
  },
  {
   "cell_type": "markdown",
   "metadata": {},
   "source": [
    "## Elena Rivas, Teresa Grau, Ignacio Casso"
   ]
  },
  {
   "cell_type": "markdown",
   "metadata": {},
   "source": [
    "**Enunciado. Simulación de sucesos discretos.**\n",
    "\n",
    "Un taller de fabricación se dedica a procesar tres tipos de piezas, para ello el\n",
    "taller consta de cuatro células de procesamiento.\n",
    "\n",
    "En el interior de cada célula se dispone de una máquina de procesado, excepto\n",
    "en la célula 3 formada por dos máquinas con las mismas características, y de un\n",
    "almacén (de capacidad ilimitada).\n",
    "\n",
    "La secuencia de fabricación de cada una de las piezas así como los tiempos de\n",
    "procesado (expresados en minutos y distribuidos según una triangular) en cada\n",
    "célula se muestran en la siguiente tabla:\n",
    "\n",
    "\n",
    "**TODO:** Escribir tabla usando sintáxis de hml:\n",
    "\n",
    "| A | B | C |\n",
    "| --- | --- | --- |\n",
    "| a | b | c |\n",
    "\n",
    "Los tiempos entre llegadas de las piezas al taller tiene carácter aleatorio. En el\n",
    "fichero llegadas.txt se proporciona una muestra de tiempos entre llegadas de\n",
    "piezas. Contrástese si la distribución de dichos tiempos es normal (truncada),\n",
    "weibull o exponencial y estímense los parámetros de la distribución\n",
    "correspondiente.\n",
    "\n",
    "El fichero piezas.text incluye un histórico de piezas que han llegado al taller, que\n",
    "nos permitirá identificar la proporción de piezas que hay de cada uno de los tres\n",
    "tipos.Los tiempos de transporte de cada pieza entre las diferentes células es de 2\n",
    "minutos.\n",
    "\n",
    "A. Suponiendo que el taller trabaja de forma ininterrumpida (hay tres turnos de\n",
    "trabajadores), simular el comportamiento del sistema durante 2 meses para\n",
    "estimar el tiempo mínimo, medio y máximo que tardan en fabricarse los tres\n",
    "tipos de piezas, el número medio de piezas esperando en cada una de las 4\n",
    "células y la proporción de tiempo que están ociosas las máquinas de\n",
    "procesado de las células.\n",
    "\n",
    "B. Calcular las medidas anteriores si el tiempo de transporte de las piezas entre\n",
    "las distintas células se reduce la mitad.\n",
    "\n",
    "En caso de que fuese posible disponer de una máquina de procesado adicional,\n",
    "¿en qué célula sería más beneficioso ponerla?"
   ]
  },
  {
   "cell_type": "markdown",
   "metadata": {},
   "source": [
    "## Distribución de los tiempos de llegada"
   ]
  },
  {
   "cell_type": "markdown",
   "metadata": {},
   "source": [
    "Tenemos que comprobar si los tiempos de llegada dados en el fichero llegadas.txt siguen una distribución normal truncada, weibull o exponencial, y estimar los parámetros correspondientes. Para ello podemos usar los contrastes de hipótesis vistos en ..."
   ]
  },
  {
   "cell_type": "code",
   "execution_count": null,
   "metadata": {},
   "outputs": [],
   "source": []
  },
  {
   "cell_type": "markdown",
   "metadata": {},
   "source": [
    "## Simulación del Sistema"
   ]
  },
  {
   "cell_type": "markdown",
   "metadata": {},
   "source": [
    "A continuación simulamos el sistema...\n",
    "\n",
    "Asumimos FIFO para cada celula de procesamiento...\n",
    "\n",
    "Usamos los tiempos de llegada y las piezas de los ficheros (aunque tambien podriamos generarlos aleatoriamente, conociendo su distribucion)...\n",
    "**TODO:** Usar un generador aleatorio? Implementarlo nosotros?\n",
    "\n",
    "Usamos numpy.random.triangular para generar tiempos de procesado aleatorio...\n",
    "**TODO:** Implementarlo nosotros?"
   ]
  },
  {
   "cell_type": "markdown",
   "metadata": {},
   "source": [
    "En primer lugar escribimos los generadores de tiempos y piezas..."
   ]
  },
  {
   "cell_type": "code",
   "execution_count": 1,
   "metadata": {},
   "outputs": [],
   "source": [
    "import numpy as np\n",
    "import random\n",
    "import queue\n",
    "import math"
   ]
  },
  {
   "cell_type": "code",
   "execution_count": 2,
   "metadata": {},
   "outputs": [],
   "source": [
    "class System():\n",
    "    \n",
    "    def __init__(self, transportTime, num_machines):\n",
    "        self.eventsQueue = queue.PriorityQueue() # TODO: if two events occur at the exact same time,\n",
    "                                                              # the priority queue will crash\n",
    "        self.arrivals = open(\"E1.llegadas.txt\",\"r\")\n",
    "        self.pieces = open(\"E1.piezas.txt\",\"r\")\n",
    "        # open files\n",
    "        \n",
    "        # fabrication sequence for each type of piece\n",
    "        self.steps = [[0,1,2,3],\n",
    "                      [0,1,3,1,2],\n",
    "                      [1,0,2]]\n",
    "        \n",
    "        # processing times for each type of piece at each step of its phabrication sequence\n",
    "        self.processingTimes =[[(6,9,10), (5,8,10), (15,20,25), (8,12,16)],\n",
    "                           [(1,13,15), (4,6,8), (15,18,21), (6,9,12), (27,30,39)], # El 30 es un 3 en el enunciado, errata\n",
    "                           [(7,9,11), (7,10,13), (18,23,28)]]\n",
    "        \n",
    "        \n",
    "        # cell queues\n",
    "        self.queue = [queue.Queue(),queue.Queue(),queue.Queue(),queue.Queue()]\n",
    "        \n",
    "        # number of machines in each cell\n",
    "        self.num_machines = num_machines\n",
    "        \n",
    "        # number of idle machines in each clell\n",
    "        self.idle_machines = num_machines[:] # copy\n",
    "        \n",
    "        # transportation time between cells\n",
    "        self.transportTime = transportTime\n",
    "        \n",
    "        # stats counters\n",
    "        self.minTime = [math.inf, math.inf, math.inf] # min processing type of each type of piece\n",
    "        self.maxTime = [0,0,0] # max processing type of each type of piece\n",
    "        self.sumTimes = [0,0,0] # Sum of the processing times of all pieces for each type of piece\n",
    "        self.numPieces = [0,0,0] # Total number of pieces processed for each type of piece\n",
    "        \n",
    "        self.queueSizeOverTime = [0,0,0,0] # like the area under the integral of the size of each queue over time, but discrete\n",
    "        self.lastUpdate = [0,0,0,0] # Last time the previous counter was updated\n",
    "        \n",
    "        self.idleTime = [0,0,0,0] # total time the machine(s) in a cell have been idle\n",
    "        self.lastUpdateMachine = [0,0,0,0] # Last time the previous counter was updated\n",
    "        \n",
    "    # destructor\n",
    "        # close files\n",
    "\n",
    "    def simul_main(self,simulationTime):\n",
    "    \n",
    "        self.time = 0\n",
    "        \n",
    "        self.simulationTime = simulationTime\n",
    "        \n",
    "        if simulationTime > 64500:\n",
    "            print(\"File is not big enough, generators needed\")\n",
    "            return False\n",
    "    \n",
    "        self.nextPiece()\n",
    "    \n",
    "        while not self.eventsQueue.empty():\n",
    "            self.time, _, nextEvent = self.eventsQueue.get()\n",
    "            nextEvent()\n",
    "            \n",
    "    def simul_main_debug(self, simulationTime):\n",
    "            \n",
    "        self.time = 0\n",
    "    \n",
    "        self.simulationTime = simulationTime\n",
    "    \n",
    "        self.nextPiece()\n",
    "            \n",
    "    def debug_step(self):\n",
    "        \n",
    "        if not self.eventsQueue.empty():\n",
    "            self.time, eventDescription, nextEvent = self.eventsQueue.get()\n",
    "            print(self.time)\n",
    "            print(eventDescription)\n",
    "            nextEvent()\n",
    "        \n",
    "    def nextPiece(self):\n",
    "        nextArrival = self.timeTillNextArrival()\n",
    "        nextArrivalTime = self.time + nextArrival\n",
    "        if nextArrivalTime < self.simulationTime: # TODO: use 86400 (2 months) when we use true distribution instead of files\n",
    "            nextPieceType = self.nextPieceType()\n",
    "            nextPiece = (nextArrivalTime, nextPieceType, 0)\n",
    "            #eventsQueue.put(self.advancePiece(nextPiece), nextArrivalTime)\n",
    "            #eventsQueue.put(self.nextPiece(), nextArrivalTime)\n",
    "            # The prority queue as it is breaks if two events happen at the same time\n",
    "            eventDescription = \"piece \" + str(nextPiece) + \" arrives\"\n",
    "            event = lambda : self.arrivePiece(nextPiece)\n",
    "            self.eventsQueue.put((nextArrivalTime, eventDescription, event))\n",
    "    \n",
    "    def arrivePiece(self,piece):\n",
    "        self.nextPiece()\n",
    "        self.advancePiece(piece)\n",
    "        \n",
    "    def nextPieceType(self):\n",
    "        piece = self.pieces.readline()\n",
    "        return int(piece)-1\n",
    "        # Types of pieces are shifted so that the first one is 0\n",
    "        # TODO: use true distribution?\n",
    "        \n",
    "    def timeTillNextArrival(self):\n",
    "        arrival = self.arrivals.readline()\n",
    "        return float(arrival)\n",
    "        # TODO: use true distribution?\n",
    "    \n",
    "    def advancePiece(self,piece):\n",
    "        \n",
    "        _, pieceType, step = piece\n",
    "\n",
    "        if self.steps[pieceType][step:] == []:\n",
    "            self.finishPiece(piece)\n",
    "        else:\n",
    "            next_cell = self.steps[pieceType][step]\n",
    "            if step == 0:\n",
    "                self.enter(next_cell,piece)\n",
    "            else:\n",
    "                eventTime = self.time + self.transportTime\n",
    "                eventDescription = \"piece \" + str(piece) + \" enters cell \" + str(next_cell)\n",
    "                event = lambda : self.enter(next_cell,piece)\n",
    "                self.eventsQueue.put((eventTime, eventDescription, event))\n",
    "    \n",
    "    def finishPiece(self,piece):\n",
    "        \n",
    "        arrivalTime, pieceType, _ = piece\n",
    "        \n",
    "        totalTime = self.time - arrivalTime\n",
    "        \n",
    "        if totalTime < self.minTime[pieceType]: # use dictionaries, since index needs shifting\n",
    "            self.minTime[pieceType] = totalTime\n",
    "       \n",
    "        if totalTime > self.maxTime[pieceType]:\n",
    "            self.maxTime[pieceType] = totalTime\n",
    "        \n",
    "        self.sumTimes[pieceType] += totalTime\n",
    "        \n",
    "        self.numPieces[pieceType] += 1\n",
    "        \n",
    "    \n",
    "    def enter(self,cell,piece):\n",
    "        \n",
    "        if self.idle_machines[cell] > 0:\n",
    "            self.process(cell,piece)\n",
    "        else:\n",
    "            self.queueSizeOverTime[cell] += self.queue[cell].qsize()*(self.time-self.lastUpdate[cell])\n",
    "            self.lastUpdate[cell] = self.time\n",
    "            self.queue[cell].put(piece)\n",
    "\n",
    "    def process(self,cell,piece):\n",
    "        \n",
    "        self.idleTime[cell] += (self.time - self.lastUpdateMachine[cell])*self.idle_machines[cell]\n",
    "        self.lastUpdateMachine[cell] = self.time\n",
    "        \n",
    "        _, pieceType, step = piece\n",
    "        \n",
    "        low, mode, upp = self.processingTimes[pieceType][step]\n",
    "        \n",
    "        processing_time = np.random.triangular(low,mode,upp)\n",
    "        \n",
    "        self.idle_machines[cell] -= 1\n",
    "        \n",
    "        eventDescription = \"piece \" + str(piece) + \" done in cell \" + str(cell)\n",
    "        self.eventsQueue.put((self.time+processing_time, eventDescription, lambda : self.done(cell,piece)))\n",
    "        \n",
    "    def done(self,cell,piece):\n",
    "        \n",
    "        if self.queue[cell].empty():\n",
    "            \n",
    "            self.lastUpdateMachine[cell] = self.time\n",
    "            self.idle_machines[cell] += 1\n",
    "        \n",
    "        else:\n",
    "            \n",
    "            self.queueSizeOverTime[cell] += self.queue[cell].qsize()*(self.time-self.lastUpdate[cell])\n",
    "            self.lastUpdate[cell] = self.time\n",
    "            nextPiece = self.queue[cell].get()\n",
    "            self.process(cell,nextPiece)\n",
    "        \n",
    "        arrivalTime, pieceType, step = piece\n",
    "        piece = arrivalTime, pieceType, step + 1\n",
    "        self.advancePiece(piece)\n",
    "    \n",
    "    # TODO: pieces finish two seconds later\n",
    "    \n",
    "    # processing time (piece)"
   ]
  },
  {
   "cell_type": "code",
   "execution_count": 3,
   "metadata": {},
   "outputs": [],
   "source": [
    "system = System(2,[1,1,2,1])\n",
    "system.simul_main_debug(50)"
   ]
  },
  {
   "cell_type": "code",
   "execution_count": 4,
   "metadata": {},
   "outputs": [
    {
     "name": "stdout",
     "output_type": "stream",
     "text": [
      "20.3694\n",
      "piece (20.3694, 2, 0) arrives\n",
      "29.021197357846816\n",
      "piece (20.3694, 2, 0) done in cell 1\n",
      "31.021197357846816\n",
      "piece (20.3694, 2, 1) enters cell 0\n",
      "31.3829\n",
      "piece (31.3829, 0, 0) arrives\n",
      "31.6520544\n",
      "piece (31.6520544, 1, 0) arrives\n",
      "39.8116384\n",
      "piece (39.8116384, 0, 0) arrives\n",
      "41.55426361839897\n",
      "piece (20.3694, 2, 1) done in cell 0\n",
      "43.55426361839897\n",
      "piece (20.3694, 2, 2) enters cell 2\n",
      "49.59208650549597\n",
      "piece (31.3829, 0, 0) done in cell 0\n",
      "49.7992314\n",
      "piece (49.7992314, 1, 0) arrives\n",
      "51.59208650549597\n",
      "piece (31.3829, 0, 1) enters cell 1\n",
      "57.05128051520387\n",
      "piece (31.6520544, 1, 0) done in cell 0\n",
      "58.96044995809295\n",
      "piece (31.3829, 0, 1) done in cell 1\n",
      "59.05128051520387\n",
      "piece (31.6520544, 1, 1) enters cell 1\n",
      "60.96044995809295\n",
      "piece (31.3829, 0, 2) enters cell 2\n",
      "64.01608106431878\n",
      "piece (31.6520544, 1, 1) done in cell 1\n",
      "65.22159437108373\n",
      "piece (39.8116384, 0, 0) done in cell 0\n",
      "66.01608106431878\n",
      "piece (31.6520544, 1, 2) enters cell 3\n",
      "67.22159437108373\n",
      "piece (39.8116384, 0, 1) enters cell 1\n",
      "69.67266239321867\n",
      "piece (20.3694, 2, 2) done in cell 2\n",
      "72.85084995316612\n",
      "piece (49.7992314, 1, 0) done in cell 0\n",
      "74.23161641017992\n",
      "piece (39.8116384, 0, 1) done in cell 1\n",
      "74.85084995316612\n",
      "piece (49.7992314, 1, 1) enters cell 1\n",
      "76.23161641017992\n",
      "piece (39.8116384, 0, 2) enters cell 2\n",
      "81.47745049140354\n",
      "piece (49.7992314, 1, 1) done in cell 1\n",
      "83.19477025124614\n",
      "piece (31.3829, 0, 2) done in cell 2\n",
      "83.47745049140354\n",
      "piece (49.7992314, 1, 2) enters cell 3\n",
      "85.09247826151554\n",
      "piece (31.6520544, 1, 2) done in cell 3\n",
      "85.19477025124614\n",
      "piece (31.3829, 0, 3) enters cell 3\n",
      "87.09247826151554\n",
      "piece (31.6520544, 1, 3) enters cell 1\n",
      "96.78337623820984\n",
      "piece (39.8116384, 0, 2) done in cell 2\n",
      "97.22783678799378\n",
      "piece (31.6520544, 1, 3) done in cell 1\n",
      "98.78337623820984\n",
      "piece (39.8116384, 0, 3) enters cell 3\n",
      "99.22783678799378\n",
      "piece (31.6520544, 1, 4) enters cell 2\n",
      "102.67365058066275\n",
      "piece (49.7992314, 1, 2) done in cell 3\n",
      "104.67365058066275\n",
      "piece (49.7992314, 1, 3) enters cell 1\n",
      "111.25211570416684\n",
      "piece (49.7992314, 1, 3) done in cell 1\n",
      "113.25211570416684\n",
      "piece (49.7992314, 1, 4) enters cell 2\n",
      "116.28652492495272\n",
      "piece (31.3829, 0, 3) done in cell 3\n",
      "126.80686795087092\n",
      "piece (39.8116384, 0, 3) done in cell 3\n",
      "131.49984577057296\n",
      "piece (31.6520544, 1, 4) done in cell 2\n",
      "143.57012776695984\n",
      "piece (49.7992314, 1, 4) done in cell 2\n"
     ]
    }
   ],
   "source": [
    "for _ in range(100):\n",
    "    system.debug_step()"
   ]
  },
  {
   "cell_type": "code",
   "execution_count": 5,
   "metadata": {},
   "outputs": [
    {
     "data": {
      "text/plain": [
       "143.57012776695984"
      ]
     },
     "execution_count": 5,
     "metadata": {},
     "output_type": "execute_result"
    }
   ],
   "source": [
    "system.time"
   ]
  },
  {
   "cell_type": "markdown",
   "metadata": {},
   "source": [
    "### Apartado A: Tiempo de transporte = 2 min."
   ]
  },
  {
   "cell_type": "code",
   "execution_count": 6,
   "metadata": {},
   "outputs": [],
   "source": [
    "system = System(2,[1,1,2,1])\n",
    "system.simul_main(60000)"
   ]
  },
  {
   "cell_type": "code",
   "execution_count": null,
   "metadata": {},
   "outputs": [],
   "source": []
  },
  {
   "cell_type": "code",
   "execution_count": null,
   "metadata": {},
   "outputs": [],
   "source": [
    "system.showStats()"
   ]
  },
  {
   "cell_type": "markdown",
   "metadata": {},
   "source": [
    "### Apartado B: Tiempo de transporte = 1 min."
   ]
  },
  {
   "cell_type": "code",
   "execution_count": null,
   "metadata": {},
   "outputs": [],
   "source": [
    "system = System(1,[1,1,2,1])\n",
    "system.simulate()\n",
    "system.showStats()"
   ]
  },
  {
   "cell_type": "markdown",
   "metadata": {},
   "source": [
    "## Máquina de procesado adicional"
   ]
  },
  {
   "cell_type": "markdown",
   "metadata": {},
   "source": [
    "Habrá que definir beneficio. Consideramos solo el tiempo?"
   ]
  },
  {
   "cell_type": "code",
   "execution_count": null,
   "metadata": {},
   "outputs": [],
   "source": [
    "system = System(2,[2,1,2,1])\n",
    "system.simulate()\n",
    "system.showStats()"
   ]
  },
  {
   "cell_type": "code",
   "execution_count": null,
   "metadata": {},
   "outputs": [],
   "source": [
    "system = System(2,[1,2,2,1])\n",
    "system.simulate()\n",
    "system.showStats()"
   ]
  },
  {
   "cell_type": "code",
   "execution_count": null,
   "metadata": {},
   "outputs": [],
   "source": [
    "system = System(2,[1,1,3,1])\n",
    "system.simulate()\n",
    "system.showStats()"
   ]
  },
  {
   "cell_type": "code",
   "execution_count": null,
   "metadata": {},
   "outputs": [],
   "source": [
    "system = System(2,[1,1,2,2])\n",
    "system.simulate()\n",
    "system.showStats()"
   ]
  },
  {
   "cell_type": "code",
   "execution_count": null,
   "metadata": {},
   "outputs": [],
   "source": []
  },
  {
   "cell_type": "code",
   "execution_count": null,
   "metadata": {},
   "outputs": [],
   "source": []
  },
  {
   "cell_type": "code",
   "execution_count": null,
   "metadata": {},
   "outputs": [],
   "source": []
  }
 ],
 "metadata": {
  "kernelspec": {
   "display_name": "Python 3",
   "language": "python",
   "name": "python3"
  },
  "language_info": {
   "codemirror_mode": {
    "name": "ipython",
    "version": 3
   },
   "file_extension": ".py",
   "mimetype": "text/x-python",
   "name": "python",
   "nbconvert_exporter": "python",
   "pygments_lexer": "ipython3",
   "version": "3.6.6"
  }
 },
 "nbformat": 4,
 "nbformat_minor": 2
}
