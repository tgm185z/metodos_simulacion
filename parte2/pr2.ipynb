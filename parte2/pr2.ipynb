{
 "cells": [
  {
   "cell_type": "markdown",
   "metadata": {},
   "source": [
    "# Práctica Métodos de Simulación - Parte 1"
   ]
  },
  {
   "cell_type": "markdown",
   "metadata": {},
   "source": [
    "## Elena Rivas, Teresa Grau, Ignacio Casso"
   ]
  },
  {
   "cell_type": "markdown",
   "metadata": {},
   "source": [
    "**Enunciado. Simulación de sucesos discretos.**\n",
    "\n",
    "Un taller de fabricación se dedica a procesar tres tipos de piezas, para ello el\n",
    "taller consta de cuatro células de procesamiento.\n",
    "\n",
    "En el interior de cada célula se dispone de una máquina de procesado, excepto\n",
    "en la célula 3 formada por dos máquinas con las mismas características, y de un\n",
    "almacén (de capacidad ilimitada).\n",
    "\n",
    "La secuencia de fabricación de cada una de las piezas así como los tiempos de\n",
    "procesado (expresados en minutos y distribuidos según una triangular) en cada\n",
    "célula se muestran en la siguiente tabla:\n",
    "\n",
    "\n",
    "**TODO:** Escribir tabla usando sintáxis de hml:\n",
    "\n",
    "| A | B | C |\n",
    "| --- | --- | --- |\n",
    "| a | b | c |\n",
    "\n",
    "Los tiempos entre llegadas de las piezas al taller tiene carácter aleatorio. En el\n",
    "fichero llegadas.txt se proporciona una muestra de tiempos entre llegadas de\n",
    "piezas. Contrástese si la distribución de dichos tiempos es normal (truncada),\n",
    "weibull o exponencial y estímense los parámetros de la distribución\n",
    "correspondiente.\n",
    "\n",
    "El fichero piezas.text incluye un histórico de piezas que han llegado al taller, que\n",
    "nos permitirá identificar la proporción de piezas que hay de cada uno de los tres\n",
    "tipos.Los tiempos de transporte de cada pieza entre las diferentes células es de 2\n",
    "minutos.\n",
    "\n",
    "A. Suponiendo que el taller trabaja de forma ininterrumpida (hay tres turnos de\n",
    "trabajadores), simular el comportamiento del sistema durante 2 meses para\n",
    "estimar el tiempo mínimo, medio y máximo que tardan en fabricarse los tres\n",
    "tipos de piezas, el número medio de piezas esperando en cada una de las 4\n",
    "células y la proporción de tiempo que están ociosas las máquinas de\n",
    "procesado de las células.\n",
    "\n",
    "B. Calcular las medidas anteriores si el tiempo de transporte de las piezas entre\n",
    "las distintas células se reduce la mitad.\n",
    "\n",
    "En caso de que fuese posible disponer de una máquina de procesado adicional,\n",
    "¿en qué célula sería más beneficioso ponerla?"
   ]
  },
  {
   "cell_type": "markdown",
   "metadata": {},
   "source": [
    "## Distribución de los tiempos de llegada"
   ]
  },
  {
   "cell_type": "markdown",
   "metadata": {},
   "source": [
    "Tenemos que comprobar si los tiempos de llegada dados en el fichero llegadas.txt siguen una distribución normal truncada, weibull o exponencial, y estimar los parámetros correspondientes. Para ello podemos usar los contrastes de hipótesis vistos en ..."
   ]
  },
  {
   "cell_type": "code",
   "execution_count": null,
   "metadata": {},
   "outputs": [],
   "source": []
  },
  {
   "cell_type": "markdown",
   "metadata": {},
   "source": [
    "## Simulación del Sistema"
   ]
  },
  {
   "cell_type": "markdown",
   "metadata": {},
   "source": [
    "A continuación simulamos el sistema...\n",
    "\n",
    "Asumimos FIFO para cada celula de procesamiento...\n",
    "\n",
    "Usamos los tiempos de llegada y las piezas de los ficheros (aunque tambien podriamos generarlos aleatoriamente, conociendo su distribucion)...\n",
    "**TODO:** Usar un generador aleatorio? Implementarlo nosotros?\n",
    "\n",
    "Usamos numpy.random.triangular para generar tiempos de procesado aleatorio...\n",
    "**TODO:** Implementarlo nosotros?"
   ]
  },
  {
   "cell_type": "markdown",
   "metadata": {},
   "source": [
    "En primer lugar escribimos los generadores de tiempos y piezas..."
   ]
  },
  {
   "cell_type": "code",
   "execution_count": 80,
   "metadata": {},
   "outputs": [],
   "source": [
    "import numpy as np\n",
    "import random\n",
    "import queue\n",
    "import math"
   ]
  },
  {
   "cell_type": "code",
   "execution_count": 81,
   "metadata": {},
   "outputs": [],
   "source": [
    "class Piece:\n",
    "    \n",
    "    def __init__(self,pieceType, arrivalTime):\n",
    "        \n",
    "        self.arrivalTime = arrivalTime\n",
    "        self.pieceType = pieceType\n",
    "        self.step = 0\n",
    "\n",
    "# TODO: are there structs in python?\n",
    "# For our purposes, tuples would be enough, even if they are not mutable"
   ]
  },
  {
   "cell_type": "code",
   "execution_count": 89,
   "metadata": {},
   "outputs": [],
   "source": [
    "class System():\n",
    "    \n",
    "    def __init__(self, transportTime, num_machines):\n",
    "        self.eventsQueue = queue.PriorityQueue() # TODO: if two events occur at the exact same time,\n",
    "                                                              # the priority queue will crash\n",
    "        arrivals = open(\"E1.llegadas.txt\",\"r\")\n",
    "        pieces = open(\"E1.piezas.txt\",\"r\")\n",
    "        # open files\n",
    "        \n",
    "        # fabrication sequence for each type of piece\n",
    "        self.steps = [[0,1,2,3],\n",
    "                      [0,1,3,1,2],\n",
    "                      [1,0,2]]\n",
    "        \n",
    "        # processing times for each type of piece at each step of its phabrication sequence\n",
    "        processing_times =[[(6,9,10), (5,8,10), (15,20,25), (8,12,16)],\n",
    "                           [(1,13,15), (4,6,8), (15,18,21), (6,9,12), (27,30,39)], # El 30 es un 3 en el enunciado, errata\n",
    "                           [(7,9,11), (7,10,13), (18,23,28)]]\n",
    "        \n",
    "        \n",
    "        # cell queues\n",
    "        self.queue = [queue.Queue(),queue.Queue(),queue.Queue(),queue.Queue()]\n",
    "        \n",
    "        # number of machines in each cell\n",
    "        self.num_machines = num_machines\n",
    "        \n",
    "        # number of idle machines in each clell\n",
    "        self.idle_machines = num_machines[:] # copy\n",
    "        \n",
    "        # transportation time between cells\n",
    "        self.transportTime = transportTime\n",
    "        \n",
    "        # stats counters\n",
    "        self.minTime = [math.inf, math.inf, math.inf] # min processing type of each type of piece\n",
    "        self.maxTime = [0,0,0] # max processing type of each type of piece\n",
    "        self.sumTimes = [0,0,0] # Sum of the processing times of all pieces for each type of piece\n",
    "        self.numPieces = [0,0,0] # Total number of pieces processed for each type of piece\n",
    "        \n",
    "        self.queueSizeOverTime = [0,0,0,0] # like the area under the integral of the size of each queue over time, but discrete\n",
    "        self.lastUpdate = [0,0,0,0] # Last time the previous counter was updated\n",
    "        \n",
    "        self.idleTime = [0,0,0,0] # total time the machine(s) in a cell have been idle\n",
    "        self.lastUpdateMachines = [0,0,0,0] # Last time the previous counter was updated\n",
    "        \n",
    "    # destructor\n",
    "        # close files\n",
    "\n",
    "    def simul_main(self,simulationTime):\n",
    "    \n",
    "        self.time = 0\n",
    "    \n",
    "        self.nextPiece()\n",
    "    \n",
    "        while not eventsQueue.empty():\n",
    "            self.time, nextEvent = eventsQueue.get()\n",
    "            nextEvent()\n",
    "            \n",
    "    def simul_main_debug(self, simulationTime):\n",
    "            \n",
    "        self.time = 0\n",
    "    \n",
    "        self.nextPiece()\n",
    "            \n",
    "    def debug_step(self):\n",
    "        self.time, nextEvent = self.eventsQueue.get()\n",
    "        nextEvent()\n",
    "        \n",
    "    def nextPiece(self):\n",
    "        if self.time < 86400: # 2 months\n",
    "            nextPieceType = self.nextPieceType()\n",
    "            nextArrival = self.timeTillNextArrival()\n",
    "            nextArrivalTime = self.time + nextArrival\n",
    "            nextPiece = Piece(nextPieceType,nextArrivalTime)\n",
    "            #eventsQueue.put(self.advancePiece(nextPiece), nextArrivalTime)\n",
    "            #eventsQueue.put(self.nextPiece(), nextArrivalTime)\n",
    "            # The prority queue as it is breaks if two events happen at the same time\n",
    "            self.eventsQueue.put((nextArrivalTime, lambda : self.arrivePiece(nextPiece)))\n",
    "    \n",
    "    def arrivePiece(self,piece):\n",
    "        self.nextPiece()\n",
    "        self.advancePiece(Piece)\n",
    "        \n",
    "    def nextPieceType(self):\n",
    "        return random.randint(0,2)\n",
    "        # Types of pieces are shifted so that the first one is 0\n",
    "        # TODO: read from file or use true distribution\n",
    "        \n",
    "    def timeTillNextArrival(self):\n",
    "        # arrival = arrivals.readline()\n",
    "        return 10\n",
    "        # TODO: read from file or use true distribution\n",
    "    \n",
    "    def advancePiece(self,piece):\n",
    "        pieceType = piece.pieceType()\n",
    "        step = piece.step()+1\n",
    "        piece.step = step\n",
    "        if self.steps[pieceType][step:] == []:\n",
    "            self.finishPiece(piece)\n",
    "        else:\n",
    "            next_cell = self.steps[pieceType][step]\n",
    "            self.enter(next_cell,piece)\n",
    "    \n",
    "    def finishPiece(self,piece):\n",
    "        \n",
    "        pieceType = piece.pieceType\n",
    "        \n",
    "        totalTime = self.time - piece.arrivalTime\n",
    "        \n",
    "        if self.totalTime < self.minTime[pieceType]: # use dictionaries, since index needs shifting\n",
    "            self.minTime[pieceType] = self.totalTime\n",
    "       \n",
    "        if self.totalTime > self.maxTime[pieceType]:\n",
    "            self.maxTime[pieceType] = self.totalTime\n",
    "        \n",
    "        self.sumTimes[pieceType] += self.totalTime\n",
    "        \n",
    "        self.numPieces[pieceType] += 1\n",
    "        \n",
    "    \n",
    "    def enter(self,cell,piece):\n",
    "        \n",
    "        if self.idle_machines[cell] > 0:\n",
    "            self.process(cell,piece)\n",
    "        else:\n",
    "            self.queueSizeOverTime[cell] += self.queue[cell].qsize()*(self.time-self.lastUpdate[cell])\n",
    "            self.lastUpdate[cell] = self.time\n",
    "            self.queue[cell].put(piece)\n",
    "\n",
    "    def process(self,cell,piece):\n",
    "        \n",
    "        self.idle_time[cell] += (self.time - self.lastUpdateMachines[cell])*self.idle_machines[cell]\n",
    "        self.lastUpdateMachine = self.time\n",
    "        \n",
    "        pieceType = piece.pieceType\n",
    "        step = piece.step\n",
    "        \n",
    "        low, mode, upp = self.processingTimes[pieceType][step]\n",
    "        \n",
    "        processing_time = numpy.random.triangular(low,mode,up)\n",
    "        \n",
    "        self.idle_machines[cell] -= 1\n",
    "        \n",
    "        self.eventsQueue.put((time+processing_time, lambda : self.done(cell,piece)))\n",
    "        \n",
    "    def done(self,cell,piece):\n",
    "       \n",
    "        if self.queue[cell].empty():\n",
    "            \n",
    "            self.lastUpdateMachine[cell] = self.time\n",
    "            self.idle_machine[cell] += 1\n",
    "        \n",
    "        else:\n",
    "            \n",
    "            self.queueSizeOverTime[cell] += self.queue[cell].qsize*(self.time-self.lastUpdate[cell])\n",
    "            self.lastUpdate[cell] = self.time\n",
    "            piece = self.queue[cell].get()\n",
    "            self.process(cell,piece)\n",
    "        \n",
    "        eventsQueue.put((self.time+self.transportTime, lambda : self.advancePiece()))\n",
    "    \n",
    "    # processing time (piece)"
   ]
  },
  {
   "cell_type": "code",
   "execution_count": 90,
   "metadata": {},
   "outputs": [],
   "source": [
    "system = System(2,[1,1,2,1])\n",
    "system.simul_main_debug(100)"
   ]
  },
  {
   "cell_type": "code",
   "execution_count": 91,
   "metadata": {},
   "outputs": [
    {
     "ename": "AttributeError",
     "evalue": "type object 'Piece' has no attribute 'pieceType'",
     "output_type": "error",
     "traceback": [
      "\u001b[0;31m---------------------------------------------------------------------------\u001b[0m",
      "\u001b[0;31mAttributeError\u001b[0m                            Traceback (most recent call last)",
      "\u001b[0;32m<ipython-input-91-a475da204731>\u001b[0m in \u001b[0;36m<module>\u001b[0;34m()\u001b[0m\n\u001b[0;32m----> 1\u001b[0;31m \u001b[0msystem\u001b[0m\u001b[0;34m.\u001b[0m\u001b[0mdebug_step\u001b[0m\u001b[0;34m(\u001b[0m\u001b[0;34m)\u001b[0m\u001b[0;34m\u001b[0m\u001b[0m\n\u001b[0m",
      "\u001b[0;32m<ipython-input-89-202b7c2c4e18>\u001b[0m in \u001b[0;36mdebug_step\u001b[0;34m(self)\u001b[0m\n\u001b[1;32m     64\u001b[0m     \u001b[0;32mdef\u001b[0m \u001b[0mdebug_step\u001b[0m\u001b[0;34m(\u001b[0m\u001b[0mself\u001b[0m\u001b[0;34m)\u001b[0m\u001b[0;34m:\u001b[0m\u001b[0;34m\u001b[0m\u001b[0m\n\u001b[1;32m     65\u001b[0m         \u001b[0mself\u001b[0m\u001b[0;34m.\u001b[0m\u001b[0mtime\u001b[0m\u001b[0;34m,\u001b[0m \u001b[0mnextEvent\u001b[0m \u001b[0;34m=\u001b[0m \u001b[0mself\u001b[0m\u001b[0;34m.\u001b[0m\u001b[0meventsQueue\u001b[0m\u001b[0;34m.\u001b[0m\u001b[0mget\u001b[0m\u001b[0;34m(\u001b[0m\u001b[0;34m)\u001b[0m\u001b[0;34m\u001b[0m\u001b[0m\n\u001b[0;32m---> 66\u001b[0;31m         \u001b[0mnextEvent\u001b[0m\u001b[0;34m(\u001b[0m\u001b[0;34m)\u001b[0m\u001b[0;34m\u001b[0m\u001b[0m\n\u001b[0m\u001b[1;32m     67\u001b[0m \u001b[0;34m\u001b[0m\u001b[0m\n\u001b[1;32m     68\u001b[0m     \u001b[0;32mdef\u001b[0m \u001b[0mnextPiece\u001b[0m\u001b[0;34m(\u001b[0m\u001b[0mself\u001b[0m\u001b[0;34m)\u001b[0m\u001b[0;34m:\u001b[0m\u001b[0;34m\u001b[0m\u001b[0m\n",
      "\u001b[0;32m<ipython-input-89-202b7c2c4e18>\u001b[0m in \u001b[0;36m<lambda>\u001b[0;34m()\u001b[0m\n\u001b[1;32m     75\u001b[0m             \u001b[0;31m#eventsQueue.put(self.nextPiece(), nextArrivalTime)\u001b[0m\u001b[0;34m\u001b[0m\u001b[0;34m\u001b[0m\u001b[0m\n\u001b[1;32m     76\u001b[0m             \u001b[0;31m# The prority queue as it is breaks if two events happen at the same time\u001b[0m\u001b[0;34m\u001b[0m\u001b[0;34m\u001b[0m\u001b[0m\n\u001b[0;32m---> 77\u001b[0;31m             \u001b[0mself\u001b[0m\u001b[0;34m.\u001b[0m\u001b[0meventsQueue\u001b[0m\u001b[0;34m.\u001b[0m\u001b[0mput\u001b[0m\u001b[0;34m(\u001b[0m\u001b[0;34m(\u001b[0m\u001b[0mnextArrivalTime\u001b[0m\u001b[0;34m,\u001b[0m \u001b[0;32mlambda\u001b[0m \u001b[0;34m:\u001b[0m \u001b[0mself\u001b[0m\u001b[0;34m.\u001b[0m\u001b[0marrivePiece\u001b[0m\u001b[0;34m(\u001b[0m\u001b[0mnextPiece\u001b[0m\u001b[0;34m)\u001b[0m\u001b[0;34m)\u001b[0m\u001b[0;34m)\u001b[0m\u001b[0;34m\u001b[0m\u001b[0m\n\u001b[0m\u001b[1;32m     78\u001b[0m \u001b[0;34m\u001b[0m\u001b[0m\n\u001b[1;32m     79\u001b[0m     \u001b[0;32mdef\u001b[0m \u001b[0marrivePiece\u001b[0m\u001b[0;34m(\u001b[0m\u001b[0mself\u001b[0m\u001b[0;34m,\u001b[0m\u001b[0mpiece\u001b[0m\u001b[0;34m)\u001b[0m\u001b[0;34m:\u001b[0m\u001b[0;34m\u001b[0m\u001b[0m\n",
      "\u001b[0;32m<ipython-input-89-202b7c2c4e18>\u001b[0m in \u001b[0;36marrivePiece\u001b[0;34m(self, piece)\u001b[0m\n\u001b[1;32m     79\u001b[0m     \u001b[0;32mdef\u001b[0m \u001b[0marrivePiece\u001b[0m\u001b[0;34m(\u001b[0m\u001b[0mself\u001b[0m\u001b[0;34m,\u001b[0m\u001b[0mpiece\u001b[0m\u001b[0;34m)\u001b[0m\u001b[0;34m:\u001b[0m\u001b[0;34m\u001b[0m\u001b[0m\n\u001b[1;32m     80\u001b[0m         \u001b[0mself\u001b[0m\u001b[0;34m.\u001b[0m\u001b[0mnextPiece\u001b[0m\u001b[0;34m(\u001b[0m\u001b[0;34m)\u001b[0m\u001b[0;34m\u001b[0m\u001b[0m\n\u001b[0;32m---> 81\u001b[0;31m         \u001b[0mself\u001b[0m\u001b[0;34m.\u001b[0m\u001b[0madvancePiece\u001b[0m\u001b[0;34m(\u001b[0m\u001b[0mPiece\u001b[0m\u001b[0;34m)\u001b[0m\u001b[0;34m\u001b[0m\u001b[0m\n\u001b[0m\u001b[1;32m     82\u001b[0m \u001b[0;34m\u001b[0m\u001b[0m\n\u001b[1;32m     83\u001b[0m     \u001b[0;32mdef\u001b[0m \u001b[0mnextPieceType\u001b[0m\u001b[0;34m(\u001b[0m\u001b[0mself\u001b[0m\u001b[0;34m)\u001b[0m\u001b[0;34m:\u001b[0m\u001b[0;34m\u001b[0m\u001b[0m\n",
      "\u001b[0;32m<ipython-input-89-202b7c2c4e18>\u001b[0m in \u001b[0;36madvancePiece\u001b[0;34m(self, piece)\u001b[0m\n\u001b[1;32m     92\u001b[0m \u001b[0;34m\u001b[0m\u001b[0m\n\u001b[1;32m     93\u001b[0m     \u001b[0;32mdef\u001b[0m \u001b[0madvancePiece\u001b[0m\u001b[0;34m(\u001b[0m\u001b[0mself\u001b[0m\u001b[0;34m,\u001b[0m\u001b[0mpiece\u001b[0m\u001b[0;34m)\u001b[0m\u001b[0;34m:\u001b[0m\u001b[0;34m\u001b[0m\u001b[0m\n\u001b[0;32m---> 94\u001b[0;31m         \u001b[0mpieceType\u001b[0m \u001b[0;34m=\u001b[0m \u001b[0mpiece\u001b[0m\u001b[0;34m.\u001b[0m\u001b[0mpieceType\u001b[0m\u001b[0;34m(\u001b[0m\u001b[0;34m)\u001b[0m\u001b[0;34m\u001b[0m\u001b[0m\n\u001b[0m\u001b[1;32m     95\u001b[0m         \u001b[0mstep\u001b[0m \u001b[0;34m=\u001b[0m \u001b[0mpiece\u001b[0m\u001b[0;34m.\u001b[0m\u001b[0mstep\u001b[0m\u001b[0;34m(\u001b[0m\u001b[0;34m)\u001b[0m\u001b[0;34m+\u001b[0m\u001b[0;36m1\u001b[0m\u001b[0;34m\u001b[0m\u001b[0m\n\u001b[1;32m     96\u001b[0m         \u001b[0mpiece\u001b[0m\u001b[0;34m.\u001b[0m\u001b[0mstep\u001b[0m \u001b[0;34m=\u001b[0m \u001b[0mstep\u001b[0m\u001b[0;34m\u001b[0m\u001b[0m\n",
      "\u001b[0;31mAttributeError\u001b[0m: type object 'Piece' has no attribute 'pieceType'"
     ]
    }
   ],
   "source": [
    "system.debug_step()"
   ]
  },
  {
   "cell_type": "code",
   "execution_count": null,
   "metadata": {},
   "outputs": [],
   "source": []
  },
  {
   "cell_type": "markdown",
   "metadata": {},
   "source": [
    "### Apartado A: Tiempo de transporte = 2 min."
   ]
  },
  {
   "cell_type": "code",
   "execution_count": 55,
   "metadata": {},
   "outputs": [
    {
     "ename": "NameError",
     "evalue": "name 'nextPiece' is not defined",
     "output_type": "error",
     "traceback": [
      "\u001b[0;31m---------------------------------------------------------------------------\u001b[0m",
      "\u001b[0;31mNameError\u001b[0m                                 Traceback (most recent call last)",
      "\u001b[0;32m<ipython-input-55-9d1e71275a26>\u001b[0m in \u001b[0;36m<module>\u001b[0;34m()\u001b[0m\n\u001b[1;32m      1\u001b[0m \u001b[0msystem\u001b[0m \u001b[0;34m=\u001b[0m \u001b[0mSystem\u001b[0m\u001b[0;34m(\u001b[0m\u001b[0;36m2\u001b[0m\u001b[0;34m,\u001b[0m\u001b[0;34m[\u001b[0m\u001b[0;36m1\u001b[0m\u001b[0;34m,\u001b[0m\u001b[0;36m1\u001b[0m\u001b[0;34m,\u001b[0m\u001b[0;36m2\u001b[0m\u001b[0;34m,\u001b[0m\u001b[0;36m1\u001b[0m\u001b[0;34m]\u001b[0m\u001b[0;34m)\u001b[0m\u001b[0;34m\u001b[0m\u001b[0m\n\u001b[0;32m----> 2\u001b[0;31m \u001b[0msystem\u001b[0m\u001b[0;34m.\u001b[0m\u001b[0msimul_main_debug\u001b[0m\u001b[0;34m(\u001b[0m\u001b[0;36m100\u001b[0m\u001b[0;34m)\u001b[0m\u001b[0;34m\u001b[0m\u001b[0m\n\u001b[0m",
      "\u001b[0;32m<ipython-input-54-a1308c458009>\u001b[0m in \u001b[0;36msimul_main_debug\u001b[0;34m(self, simulationTime)\u001b[0m\n\u001b[1;32m     60\u001b[0m         \u001b[0mself\u001b[0m\u001b[0;34m.\u001b[0m\u001b[0mtime\u001b[0m \u001b[0;34m=\u001b[0m \u001b[0;36m0\u001b[0m\u001b[0;34m\u001b[0m\u001b[0m\n\u001b[1;32m     61\u001b[0m \u001b[0;34m\u001b[0m\u001b[0m\n\u001b[0;32m---> 62\u001b[0;31m         \u001b[0mnextPiece\u001b[0m\u001b[0;34m(\u001b[0m\u001b[0;34m)\u001b[0m\u001b[0;34m\u001b[0m\u001b[0m\n\u001b[0m\u001b[1;32m     63\u001b[0m \u001b[0;34m\u001b[0m\u001b[0m\n\u001b[1;32m     64\u001b[0m     \u001b[0;32mdef\u001b[0m \u001b[0mdebug_step\u001b[0m\u001b[0;34m(\u001b[0m\u001b[0mself\u001b[0m\u001b[0;34m)\u001b[0m\u001b[0;34m:\u001b[0m\u001b[0;34m\u001b[0m\u001b[0m\n",
      "\u001b[0;31mNameError\u001b[0m: name 'nextPiece' is not defined"
     ]
    }
   ],
   "source": [
    "system = System(2,[1,1,2,1])\n",
    "system.simul_main_debug(100)"
   ]
  },
  {
   "cell_type": "code",
   "execution_count": null,
   "metadata": {},
   "outputs": [],
   "source": []
  },
  {
   "cell_type": "code",
   "execution_count": null,
   "metadata": {},
   "outputs": [],
   "source": [
    "system.showStats()"
   ]
  },
  {
   "cell_type": "markdown",
   "metadata": {},
   "source": [
    "### Apartado B: Tiempo de transporte = 1 min."
   ]
  },
  {
   "cell_type": "code",
   "execution_count": null,
   "metadata": {},
   "outputs": [],
   "source": [
    "system = System(1,[1,1,2,1])\n",
    "system.simulate()\n",
    "system.showStats()"
   ]
  },
  {
   "cell_type": "markdown",
   "metadata": {},
   "source": [
    "## Máquina de procesado adicional"
   ]
  },
  {
   "cell_type": "markdown",
   "metadata": {},
   "source": [
    "Habrá que definir beneficio. Consideramos solo el tiempo?"
   ]
  },
  {
   "cell_type": "code",
   "execution_count": null,
   "metadata": {},
   "outputs": [],
   "source": [
    "system = System(2,[2,1,2,1])\n",
    "system.simulate()\n",
    "system.showStats()"
   ]
  },
  {
   "cell_type": "code",
   "execution_count": null,
   "metadata": {},
   "outputs": [],
   "source": [
    "system = System(2,[1,2,2,1])\n",
    "system.simulate()\n",
    "system.showStats()"
   ]
  },
  {
   "cell_type": "code",
   "execution_count": null,
   "metadata": {},
   "outputs": [],
   "source": [
    "system = System(2,[1,1,3,1])\n",
    "system.simulate()\n",
    "system.showStats()"
   ]
  },
  {
   "cell_type": "code",
   "execution_count": null,
   "metadata": {},
   "outputs": [],
   "source": [
    "system = System(2,[1,1,2,2])\n",
    "system.simulate()\n",
    "system.showStats()"
   ]
  },
  {
   "cell_type": "code",
   "execution_count": null,
   "metadata": {},
   "outputs": [],
   "source": []
  },
  {
   "cell_type": "code",
   "execution_count": null,
   "metadata": {},
   "outputs": [],
   "source": []
  },
  {
   "cell_type": "code",
   "execution_count": null,
   "metadata": {},
   "outputs": [],
   "source": []
  }
 ],
 "metadata": {
  "kernelspec": {
   "display_name": "Python 3",
   "language": "python",
   "name": "python3"
  },
  "language_info": {
   "codemirror_mode": {
    "name": "ipython",
    "version": 3
   },
   "file_extension": ".py",
   "mimetype": "text/x-python",
   "name": "python",
   "nbconvert_exporter": "python",
   "pygments_lexer": "ipython3",
   "version": "3.6.6"
  }
 },
 "nbformat": 4,
 "nbformat_minor": 2
}
