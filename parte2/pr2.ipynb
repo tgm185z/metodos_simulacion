{
 "cells": [
  {
   "cell_type": "markdown",
   "metadata": {},
   "source": [
    "# Práctica Métodos de Simulación - Parte 1"
   ]
  },
  {
   "cell_type": "markdown",
   "metadata": {},
   "source": [
    "## Elena Rivas, Teresa Grau, Ignacio Casso"
   ]
  },
  {
   "cell_type": "markdown",
   "metadata": {},
   "source": [
    "**Enunciado. Simulación de sucesos discretos.**\n",
    "\n",
    "Un taller de fabricación se dedica a procesar tres tipos de piezas, para ello el\n",
    "taller consta de cuatro células de procesamiento.\n",
    "\n",
    "En el interior de cada célula se dispone de una máquina de procesado, excepto\n",
    "en la célula 3 formada por dos máquinas con las mismas características, y de un\n",
    "almacén (de capacidad ilimitada).\n",
    "\n",
    "La secuencia de fabricación de cada una de las piezas así como los tiempos de\n",
    "procesado (expresados en minutos y distribuidos según una triangular) en cada\n",
    "célula se muestran en la siguiente tabla:\n",
    "\n",
    "\n",
    "**TODO:** Escribir tabla usando sintáxis de hml:\n",
    "\n",
    "| A | B | C |\n",
    "| --- | --- | --- |\n",
    "| a | b | c |\n",
    "\n",
    "Los tiempos entre llegadas de las piezas al taller tiene carácter aleatorio. En el\n",
    "fichero llegadas.txt se proporciona una muestra de tiempos entre llegadas de\n",
    "piezas. Contrástese si la distribución de dichos tiempos es normal (truncada),\n",
    "weibull o exponencial y estímense los parámetros de la distribución\n",
    "correspondiente.\n",
    "\n",
    "El fichero piezas.text incluye un histórico de piezas que han llegado al taller, que\n",
    "nos permitirá identificar la proporción de piezas que hay de cada uno de los tres\n",
    "tipos.Los tiempos de transporte de cada pieza entre las diferentes células es de 2\n",
    "minutos.\n",
    "\n",
    "A. Suponiendo que el taller trabaja de forma ininterrumpida (hay tres turnos de\n",
    "trabajadores), simular el comportamiento del sistema durante 2 meses para\n",
    "estimar el tiempo mínimo, medio y máximo que tardan en fabricarse los tres\n",
    "tipos de piezas, el número medio de piezas esperando en cada una de las 4\n",
    "células y la proporción de tiempo que están ociosas las máquinas de\n",
    "procesado de las células.\n",
    "\n",
    "B. Calcular las medidas anteriores si el tiempo de transporte de las piezas entre\n",
    "las distintas células se reduce la mitad.\n",
    "\n",
    "En caso de que fuese posible disponer de una máquina de procesado adicional,\n",
    "¿en qué célula sería más beneficioso ponerla?"
   ]
  },
  {
   "cell_type": "markdown",
   "metadata": {},
   "source": [
    "## Distribución de los tiempos de llegada"
   ]
  },
  {
   "cell_type": "markdown",
   "metadata": {},
   "source": [
    "Tenemos que comprobar si los tiempos de llegada dados en el fichero llegadas.txt siguen una distribución normal truncada, weibull o exponencial, y estimar los parámetros correspondientes. Para ello podemos usar los contrastes de hipótesis vistos en ..."
   ]
  },
  {
   "cell_type": "code",
   "execution_count": null,
   "metadata": {},
   "outputs": [],
   "source": []
  },
  {
   "cell_type": "markdown",
   "metadata": {},
   "source": [
    "## Simulación del Sistema"
   ]
  },
  {
   "cell_type": "code",
   "execution_count": null,
   "metadata": {},
   "outputs": [],
   "source": []
  },
  {
   "cell_type": "markdown",
   "metadata": {},
   "source": [
    "### Apartado A: Tiempo de transporte = 2 min."
   ]
  },
  {
   "cell_type": "code",
   "execution_count": null,
   "metadata": {},
   "outputs": [],
   "source": []
  },
  {
   "cell_type": "markdown",
   "metadata": {},
   "source": [
    "### Apartado B: Tiempo de transporte = 1 min."
   ]
  },
  {
   "cell_type": "code",
   "execution_count": null,
   "metadata": {},
   "outputs": [],
   "source": []
  },
  {
   "cell_type": "markdown",
   "metadata": {},
   "source": [
    "## Máquina de procesado adicional"
   ]
  },
  {
   "cell_type": "code",
   "execution_count": null,
   "metadata": {},
   "outputs": [],
   "source": []
  }
 ],
 "metadata": {
  "kernelspec": {
   "display_name": "Python 3",
   "language": "python",
   "name": "python3"
  },
  "language_info": {
   "codemirror_mode": {
    "name": "ipython",
    "version": 3
   },
   "file_extension": ".py",
   "mimetype": "text/x-python",
   "name": "python",
   "nbconvert_exporter": "python",
   "pygments_lexer": "ipython3",
   "version": "3.6.6"
  }
 },
 "nbformat": 4,
 "nbformat_minor": 2
}
