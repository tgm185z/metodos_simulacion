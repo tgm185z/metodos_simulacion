{
 "cells": [
  {
   "cell_type": "markdown",
   "metadata": {},
   "source": [
    "# Práctica Métodos de Simulación - Parte 1"
   ]
  },
  {
   "cell_type": "markdown",
   "metadata": {},
   "source": [
    "## Elena Rivas, Teresa Grau, Ignacio Casso"
   ]
  },
  {
   "cell_type": "markdown",
   "metadata": {},
   "source": [
    "**Enunciado. Simulación de sucesos discretos.**\n",
    "\n",
    "Un taller de fabricación se dedica a procesar tres tipos de piezas, para ello el\n",
    "taller consta de cuatro células de procesamiento.\n",
    "\n",
    "En el interior de cada célula se dispone de una máquina de procesado, excepto\n",
    "en la célula 3 formada por dos máquinas con las mismas características, y de un\n",
    "almacén (de capacidad ilimitada).\n",
    "\n",
    "La secuencia de fabricación de cada una de las piezas así como los tiempos de\n",
    "procesado (expresados en minutos y distribuidos según una triangular) en cada\n",
    "célula se muestran en la siguiente tabla:\n",
    "\n",
    "\n",
    "**TODO:** Escribir tabla usando sintáxis de hml:\n",
    "\n",
    "| A | B | C |\n",
    "| --- | --- | --- |\n",
    "| a | b | c |\n",
    "\n",
    "Los tiempos entre llegadas de las piezas al taller tiene carácter aleatorio. En el\n",
    "fichero llegadas.txt se proporciona una muestra de tiempos entre llegadas de\n",
    "piezas. Contrástese si la distribución de dichos tiempos es normal (truncada),\n",
    "weibull o exponencial y estímense los parámetros de la distribución\n",
    "correspondiente.\n",
    "\n",
    "El fichero piezas.text incluye un histórico de piezas que han llegado al taller, que\n",
    "nos permitirá identificar la proporción de piezas que hay de cada uno de los tres\n",
    "tipos.Los tiempos de transporte de cada pieza entre las diferentes células es de 2\n",
    "minutos.\n",
    "\n",
    "A. Suponiendo que el taller trabaja de forma ininterrumpida (hay tres turnos de\n",
    "trabajadores), simular el comportamiento del sistema durante 2 meses para\n",
    "estimar el tiempo mínimo, medio y máximo que tardan en fabricarse los tres\n",
    "tipos de piezas, el número medio de piezas esperando en cada una de las 4\n",
    "células y la proporción de tiempo que están ociosas las máquinas de\n",
    "procesado de las células.\n",
    "\n",
    "B. Calcular las medidas anteriores si el tiempo de transporte de las piezas entre\n",
    "las distintas células se reduce la mitad.\n",
    "\n",
    "En caso de que fuese posible disponer de una máquina de procesado adicional,\n",
    "¿en qué célula sería más beneficioso ponerla?"
   ]
  },
  {
   "cell_type": "markdown",
   "metadata": {},
   "source": [
    "## Distribución de los tiempos de llegada"
   ]
  },
  {
   "cell_type": "markdown",
   "metadata": {},
   "source": [
    "Tenemos que comprobar si los tiempos de llegada dados en el fichero llegadas.txt siguen una distribución normal truncada, weibull o exponencial, y estimar los parámetros correspondientes. Para ello podemos usar los contrastes de hipótesis vistos en ..."
   ]
  },
  {
   "cell_type": "code",
   "execution_count": null,
   "metadata": {},
   "outputs": [],
   "source": []
  },
  {
   "cell_type": "markdown",
   "metadata": {},
   "source": [
    "## Simulación del Sistema"
   ]
  },
  {
   "cell_type": "markdown",
   "metadata": {},
   "source": [
    "A continuación simulamos el sistema...\n",
    "\n",
    "Asumimos FIFO para cada celula de procesamiento...\n",
    "\n",
    "Usamos los tiempos de llegada y las piezas de los ficheros (aunque tambien podriamos generarlos aleatoriamente, conociendo su distribucion)...\n",
    "**TODO:** Usar un generador aleatorio? Implementarlo nosotros?\n",
    "\n",
    "Usamos numpy.random.triangular para generar tiempos de procesado aleatorio...\n",
    "**TODO:** Implementarlo nosotros?"
   ]
  },
  {
   "cell_type": "markdown",
   "metadata": {},
   "source": [
    "En primer lugar escribimos los generadores de tiempos y piezas..."
   ]
  },
  {
   "cell_type": "code",
   "execution_count": 30,
   "metadata": {},
   "outputs": [],
   "source": [
    "import numpy as np\n",
    "import random\n",
    "import queue"
   ]
  },
  {
   "cell_type": "code",
   "execution_count": null,
   "metadata": {},
   "outputs": [],
   "source": [
    "class System():\n",
    "    \n",
    "    def __init__(self, transportTime, numMachines):\n",
    "        self.eventsQueue = queue.PriorityQueue() # TODO: if two events occur at the exact same time,\n",
    "                                                              # the priority queue will crash\n",
    "        arrivals = open(\"E1.llegadas.txt\",\"r\")\n",
    "        pieces = open(\"E1.piezas.txt\",\"r\")\n",
    "        # open files\n",
    "        \n",
    "        self.transportTime = transportTime\n",
    "        self.numMachines = numMachines        \n",
    "        \n",
    "        self.steps = [[1,2,3,4],\n",
    "                      [1,2,4,2,3],\n",
    "                      [2,1,3]]\n",
    "        \n",
    "        processing_times =[[(6,9,10), (5,8,10), (15,20,25), (8,12,16)],\n",
    "                           [(1,13,15), (4,6,8), (15,18,21), (6,9,12), (27,30,39)], # El 30 es un 3 en el enunciado\n",
    "                           [(7,9,11), (7,10,13), (18,23,28)]]\n",
    "        \n",
    "        machines = \n",
    "    # destructor\n",
    "        # close files\n",
    "\n",
    "    def simul_main(self,simulationTime):\n",
    "    \n",
    "        self.time = 0\n",
    "    \n",
    "        nextPiece()\n",
    "    \n",
    "        while not eventsQueue.empty():\n",
    "            self.time, nextEvent = eventsQueue.get()\n",
    "            nextEvent()\n",
    "        \n",
    "    def nextPiece(self):\n",
    "        if self.time < 86400: # 2 months\n",
    "            nextPieceType = self.nextPieceType()\n",
    "            nextArrival = self.timeTillNextArrival()\n",
    "            nextArrivalTime = self.time + nextArrival\n",
    "            nextPiece = Piece(nextPieceType,nextArrivalTime)\n",
    "            #eventsQueue.put(self.advancePiece(nextPiece), nextArrivalTime)\n",
    "            #eventsQueue.put(self.nextPiece(), nextArrivalTime)\n",
    "            # The prority queue as it is breaks if two events happen at the same time\n",
    "            eventsQueue.put(self.arrivePiece(nextPiece), nextArrivalTime)\n",
    "    \n",
    "    def arrivePiece(self,piece):\n",
    "        self.nextPiece()\n",
    "        self.advance(Piece)\n",
    "        \n",
    "    def nextPieceType(self):\n",
    "        return random.randint(1,3)\n",
    "        # TODO: read from file or use true distribution\n",
    "        \n",
    "    def timeTillNextArrival(self):\n",
    "        # arrival = arrivals.readline()\n",
    "        return 10\n",
    "        # TODO: read from file or use true distribution\n",
    "    \n",
    "    def advancePiece(self,piece):\n",
    "        pieceType = piece.pieceType()\n",
    "        step = piece.step()+1\n",
    "        piece.step = step\n",
    "        if self.steps[pieceType][step:] = []\n",
    "            self.finishPiece(piece)\n",
    "        else:\n",
    "            next_cell = self.steps[pieceType][step]\n",
    "            self.enter(nextCell,piece)\n",
    "    \n",
    "    def finishPiece(self,piece):\n",
    "        \n",
    "        pieceType = piece.pieceType\n",
    "        \n",
    "        totalTime = self.time - piece.arrivalTime\n",
    "        \n",
    "        if self.totalTime < self.minTime[pieceType]: # use dictionaries, since index needs shifting\n",
    "            self.minTime[pieceType] = self.totalTime\n",
    "       \n",
    "        if self.totalTime > self.maxTime[pieceType]:\n",
    "            self.maxTime[pieceType] = self.totalTime\n",
    "        \n",
    "        self.sumTimes[pieceType] += self.totalTime\n",
    "        \n",
    "        self.numPieces[pieceType] += 1\n",
    "        \n",
    "    \n",
    "    def enter(self,cell,piece):\n",
    "        \n",
    "        machines = machines[cell]\n",
    "        \n",
    "        for machine in machines:\n",
    "            if not machine.busy:\n",
    "                self.process(machine,piece)\n",
    "                return\n",
    "        \n",
    "        cell.queueSizeOverTime += queue.size*(self.time-lastUpdate)\n",
    "        lastUpdate = time\n",
    "        queue.put(piece)\n",
    "        \n",
    "  \n",
    "    def process(self,machine,piece):\n",
    "        \n",
    "        machine.idleTime += (self.time - machine.idleSince)\n",
    "        \n",
    "        pieceType = piece.pieceType\n",
    "        step = piece.step\n",
    "        \n",
    "        low, mode, upp = self.processingTimes[pieceType][step]\n",
    "        \n",
    "        processing_time = numpy.random.triangular(low,mode,up)\n",
    "        \n",
    "        machine.busy = True\n",
    "        \n",
    "        self.eventsQueue.put((time+processing_time, self.done(machine,piece)))\n",
    "        \n",
    "    def done(self,cell,machine,piece):\n",
    "        \n",
    "        machine.busy = False\n",
    "        \n",
    "        self.idleSince = self.time\n",
    "        \n",
    "        cell.exit(piece)\n",
    "        \n",
    "        if not cell.queue.empty():\n",
    "            \n",
    "            cell.queueSizeOverTime += cell.queue.qsize*(self.time-cell.lastUpdate)\n",
    "            cell.lastUpdate = self.time\n",
    "            piece = cell.queue.get()\n",
    "            self.process(machine,piece)\n",
    "        \n",
    "        eventsQueue.put((self.time+self.transportTime, self.advancePiece()))\n",
    "    \n",
    "    # processing time (piece)"
   ]
  },
  {
   "cell_type": "code",
   "execution_count": null,
   "metadata": {},
   "outputs": [],
   "source": [
    "class Piece:\n",
    "    \n",
    "    def __init__(self,pieceType, arrivalTime):\n",
    "        \n",
    "        self.arrivalTime = arrivalTime\n",
    "        self.pieceType = pieceType\n",
    "        self.step = 0\n",
    "\n",
    "# TODO: are there structs in python?\n",
    "# For our purposes, tuples would be enough, even if they are not mutable"
   ]
  },
  {
   "cell_type": "code",
   "execution_count": null,
   "metadata": {},
   "outputs": [],
   "source": [
    "class Cell:\n",
    "    \n",
    "    def __init__(self):\n",
    "        self.queue = queue.Queue()\n",
    "        self.queueSizeOverTime = 0\n",
    "        self.lastUpdate = 0"
   ]
  },
  {
   "cell_type": "code",
   "execution_count": null,
   "metadata": {},
   "outputs": [],
   "source": [
    "class Machine:\n",
    "    \n",
    "    def __init__(self):\n",
    "        self.busy = False\n",
    "        self.idleSince = 0\n",
    "        self.idleTime = 0"
   ]
  },
  {
   "cell_type": "markdown",
   "metadata": {},
   "source": [
    "### Apartado A: Tiempo de transporte = 2 min."
   ]
  },
  {
   "cell_type": "code",
   "execution_count": null,
   "metadata": {},
   "outputs": [],
   "source": [
    "system = System(2,[1,1,2,1])\n",
    "system.simulate()\n",
    "system.showStats()"
   ]
  },
  {
   "cell_type": "markdown",
   "metadata": {},
   "source": [
    "### Apartado B: Tiempo de transporte = 1 min."
   ]
  },
  {
   "cell_type": "code",
   "execution_count": null,
   "metadata": {},
   "outputs": [],
   "source": [
    "system = System(1,[1,1,2,1])\n",
    "system.simulate()\n",
    "system.showStats()"
   ]
  },
  {
   "cell_type": "markdown",
   "metadata": {},
   "source": [
    "## Máquina de procesado adicional"
   ]
  },
  {
   "cell_type": "markdown",
   "metadata": {},
   "source": [
    "Habrá que definir beneficio. Consideramos solo el tiempo?"
   ]
  },
  {
   "cell_type": "code",
   "execution_count": null,
   "metadata": {},
   "outputs": [],
   "source": [
    "system = System(2,[2,1,2,1])\n",
    "system.simulate()\n",
    "system.showStats()"
   ]
  },
  {
   "cell_type": "code",
   "execution_count": null,
   "metadata": {},
   "outputs": [],
   "source": [
    "system = System(2,[1,2,2,1])\n",
    "system.simulate()\n",
    "system.showStats()"
   ]
  },
  {
   "cell_type": "code",
   "execution_count": null,
   "metadata": {},
   "outputs": [],
   "source": [
    "system = System(2,[1,1,3,1])\n",
    "system.simulate()\n",
    "system.showStats()"
   ]
  },
  {
   "cell_type": "code",
   "execution_count": null,
   "metadata": {},
   "outputs": [],
   "source": [
    "system = System(2,[1,1,2,2])\n",
    "system.simulate()\n",
    "system.showStats()"
   ]
  },
  {
   "cell_type": "code",
   "execution_count": 34,
   "metadata": {},
   "outputs": [
    {
     "data": {
      "text/plain": [
       "[]"
      ]
     },
     "execution_count": 34,
     "metadata": {},
     "output_type": "execute_result"
    }
   ],
   "source": [
    "a = [1,2,3,4]\n",
    "a[4:]"
   ]
  },
  {
   "cell_type": "code",
   "execution_count": null,
   "metadata": {},
   "outputs": [],
   "source": []
  }
 ],
 "metadata": {
  "kernelspec": {
   "display_name": "Python 3",
   "language": "python",
   "name": "python3"
  },
  "language_info": {
   "codemirror_mode": {
    "name": "ipython",
    "version": 3
   },
   "file_extension": ".py",
   "mimetype": "text/x-python",
   "name": "python",
   "nbconvert_exporter": "python",
   "pygments_lexer": "ipython3",
   "version": "3.6.6"
  }
 },
 "nbformat": 4,
 "nbformat_minor": 2
}
