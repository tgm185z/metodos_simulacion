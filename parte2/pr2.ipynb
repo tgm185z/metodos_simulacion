{
 "cells": [
  {
   "cell_type": "markdown",
   "metadata": {},
   "source": [
    "# Práctica Métodos de Simulación - Parte 1"
   ]
  },
  {
   "cell_type": "markdown",
   "metadata": {},
   "source": [
    "## Elena Rivas, Teresa Grau, Ignacio Casso"
   ]
  },
  {
   "cell_type": "markdown",
   "metadata": {},
   "source": [
    "**Enunciado. Simulación de sucesos discretos.**\n",
    "\n",
    "Un taller de fabricación se dedica a procesar tres tipos de piezas, para ello el\n",
    "taller consta de cuatro células de procesamiento.\n",
    "\n",
    "En el interior de cada célula se dispone de una máquina de procesado, excepto\n",
    "en la célula 3 formada por dos máquinas con las mismas características, y de un\n",
    "almacén (de capacidad ilimitada).\n",
    "\n",
    "La secuencia de fabricación de cada una de las piezas así como los tiempos de\n",
    "procesado (expresados en minutos y distribuidos según una triangular) en cada\n",
    "célula se muestran en la siguiente tabla:\n",
    "\n",
    "\n",
    "**TODO:** Escribir tabla usando sintáxis de hml:\n",
    "\n",
    "| A | B | C |\n",
    "| --- | --- | --- |\n",
    "| a | b | c |\n",
    "\n",
    "Los tiempos entre llegadas de las piezas al taller tiene carácter aleatorio. En el\n",
    "fichero llegadas.txt se proporciona una muestra de tiempos entre llegadas de\n",
    "piezas. Contrástese si la distribución de dichos tiempos es normal (truncada),\n",
    "weibull o exponencial y estímense los parámetros de la distribución\n",
    "correspondiente.\n",
    "\n",
    "El fichero piezas.text incluye un histórico de piezas que han llegado al taller, que\n",
    "nos permitirá identificar la proporción de piezas que hay de cada uno de los tres\n",
    "tipos.Los tiempos de transporte de cada pieza entre las diferentes células es de 2\n",
    "minutos.\n",
    "\n",
    "A. Suponiendo que el taller trabaja de forma ininterrumpida (hay tres turnos de\n",
    "trabajadores), simular el comportamiento del sistema durante 2 meses para\n",
    "estimar el tiempo mínimo, medio y máximo que tardan en fabricarse los tres\n",
    "tipos de piezas, el número medio de piezas esperando en cada una de las 4\n",
    "células y la proporción de tiempo que están ociosas las máquinas de\n",
    "procesado de las células.\n",
    "\n",
    "B. Calcular las medidas anteriores si el tiempo de transporte de las piezas entre\n",
    "las distintas células se reduce la mitad.\n",
    "\n",
    "En caso de que fuese posible disponer de una máquina de procesado adicional,\n",
    "¿en qué célula sería más beneficioso ponerla?"
   ]
  },
  {
   "cell_type": "markdown",
   "metadata": {},
   "source": [
    "## Distribución de los tiempos de llegada"
   ]
  },
  {
   "cell_type": "markdown",
   "metadata": {},
   "source": [
    "Tenemos que comprobar si los tiempos de llegada dados en el fichero llegadas.txt siguen una distribución normal truncada, weibull o exponencial, y estimar los parámetros correspondientes. Para ello podemos usar los contrastes de hipótesis vistos en ..."
   ]
  },
  {
   "cell_type": "code",
   "execution_count": null,
   "metadata": {},
   "outputs": [],
   "source": []
  },
  {
   "cell_type": "markdown",
   "metadata": {},
   "source": [
    "## Simulación del Sistema"
   ]
  },
  {
   "cell_type": "markdown",
   "metadata": {},
   "source": [
    "A continuación simulamos el sistema...\n",
    "\n",
    "Asumimos FIFO para cada celula de procesamiento...\n",
    "\n",
    "Usamos los tiempos de llegada y las piezas de los ficheros (aunque tambien podriamos generarlos aleatoriamente, conociendo su distribucion)...\n",
    "**TODO:** Usar un generador aleatorio? Implementarlo nosotros?\n",
    "\n",
    "Usamos numpy.random.triangular para generar tiempos de procesado aleatorio...\n",
    "**TODO:** Implementarlo nosotros?"
   ]
  },
  {
   "cell_type": "markdown",
   "metadata": {},
   "source": [
    "En primer lugar escribimos los generadores de tiempos y piezas..."
   ]
  },
  {
   "cell_type": "code",
   "execution_count": 13,
   "metadata": {},
   "outputs": [],
   "source": [
    "class Arrivals:\n",
    "    \n",
    "    def __init__(self):\n",
    "        self.arrivals = None # TODO: Open file\n",
    "        \n",
    "    def nextArrival(self):\n",
    "        return 10 # TODO: Read from file"
   ]
  },
  {
   "cell_type": "code",
   "execution_count": 19,
   "metadata": {},
   "outputs": [],
   "source": [
    "class Pieces:\n",
    "    \n",
    "    def __init__(self):\n",
    "        self.pieces = None # TODO: Open file\n",
    "        self.x = 0\n",
    "        \n",
    "    def nextPiece(self):\n",
    "        self.x += 1\n",
    "        return self.x % 3 + 1 # TODO: Read from file\n",
    "# TODO: return object"
   ]
  },
  {
   "cell_type": "code",
   "execution_count": 27,
   "metadata": {},
   "outputs": [],
   "source": [
    "import numpy as np"
   ]
  },
  {
   "cell_type": "code",
   "execution_count": null,
   "metadata": {},
   "outputs": [],
   "source": [
    "class System():\n",
    "    \n",
    "    def __init__(self):\n",
    "        ...\n",
    "        \n",
    "        \n",
    "    def simul_main():\n",
    "    \n",
    "    time = 0\n",
    "    \n",
    "    piece = Pieces.nextPiece()\n",
    "    arrival = Arrivals.nextArrival()\n",
    "    \n",
    "    eventsQueue.put(piece.arrive(),arrival)\n",
    "    \n",
    "    while not eventsQueue.isEmpty and time < 2*30*24*60:\n",
    "        nextEvent, time = eventsQueue.pop()\n",
    "        nextEvent()\n",
    "    "
   ]
  },
  {
   "cell_type": "code",
   "execution_count": null,
   "metadata": {},
   "outputs": [],
   "source": [
    "class Piece:\n",
    "    \n",
    "    def __init__(self,pieceType,arrivalTime):\n",
    "        \n",
    "        self.pieceType = pieceType\n",
    "        self.arrivalTime = arrivalTime\n",
    "        \n",
    "        if pieceType==1:\n",
    "            self.nextCells = [1,2,3,4]\n",
    "        elif pieceType==2:\n",
    "            self.nextCells = [1,2,4,2,3]\n",
    "        elif pieceType==3\n",
    "            self.nextCells = [2,1,3]\n",
    "            \n",
    "    def arrive(self):\n",
    "    \n",
    "        piece = Pieces.nextPiece()\n",
    "        arrival = Arrivals.nextArrival()\n",
    "        eventsQueue.put(piece.arrive(), time + arrival)\n",
    "        self.advance()\n",
    "    \n",
    "    \n",
    "    def advance(self):\n",
    "        \n",
    "        if nextCells=[]:\n",
    "            self.finish()\n",
    "            \n",
    "        else:\n",
    "            nextCell = self.nextCells[0]\n",
    "            self.nextCelss = nextCells[1:]\n",
    "            nextCell.enter(cell)\n",
    "            \n",
    "    def finish(self)\n",
    "        \n",
    "        self.totalTime = time-arrivalTime\n",
    "        \n",
    "        if self.totalTime < minTime:\n",
    "            minTime = self.totalTime\n",
    "       \n",
    "        if self.totalTime > maxTime:\n",
    "            maxTime = self.totalTime\n",
    "        \n",
    "        sumTimes += self.totalTime\n",
    "        \n",
    "        numPieces += 1\n",
    "        # TODO: Une counter for each type of piece"
   ]
  },
  {
   "cell_type": "code",
   "execution_count": null,
   "metadata": {},
   "outputs": [],
   "source": [
    "class Cell:\n",
    "    \n",
    "    def __init__(self):\n",
    "        self.queue = ...\n",
    "        self.machines = ...\n",
    "        self.queueSizeOverTime = 0\n",
    "        self.lastUpdate = 0\n",
    "    \n",
    "    def process(self,piece):\n",
    "        \n",
    "        for machine in self.machines:\n",
    "            if not machine.isBusy():\n",
    "                machine.process(piece)\n",
    "                return True\n",
    "        return False\n",
    "    \n",
    "    def enter(self,piece):\n",
    "        \n",
    "        if all(machine.isBusy() for machine in self.machines):\n",
    "            queueSizeOverTime += queue.size*(time-lastUpdate)\n",
    "            lastUpdate = time\n",
    "            queue.add(piece)\n",
    "            \n",
    "        else self.process(piece):\n",
    "            \n",
    "    def exit(self,piece):\n",
    "        \n",
    "        if not queue.isEmpty():\n",
    "            queueSizeOverTime += queue.size*(time-lastUpdate)\n",
    "            lastUpdate = time\n",
    "            piece = queue.get()\n",
    "            self.process(Piece)\n",
    "        \n",
    "        eventsQueue.put(piece.advance(), time+2)"
   ]
  },
  {
   "cell_type": "code",
   "execution_count": null,
   "metadata": {},
   "outputs": [],
   "source": [
    "class Machine:\n",
    "    \n",
    "    def __init__(self):\n",
    "        self.cell = ...\n",
    "        self.busy = False\n",
    "        self.idleSince = 0\n",
    "        self.idleTime = 0\n",
    "    \n",
    "    def process(piece):\n",
    "        self.idleTime += (time - self.idleSince)\n",
    "        \n",
    "        low, mode, upp = ...\n",
    "        \n",
    "        processing_time = numpy.random.triangular(low,mode,up)\n",
    "        \n",
    "        busy = True\n",
    "        \n",
    "        eventsQueue.put(self.done(piece),time+processing_time)\n",
    "        \n",
    "    def done(self,piece):\n",
    "        \n",
    "        busy = False\n",
    "        \n",
    "        self.idleSince = time\n",
    "        \n",
    "        cell.exit(piece)\n",
    "        \n",
    "    def isBusy(self):\n",
    "        \n",
    "        return self.busy"
   ]
  },
  {
   "cell_type": "markdown",
   "metadata": {},
   "source": [
    "### Apartado A: Tiempo de transporte = 2 min."
   ]
  },
  {
   "cell_type": "code",
   "execution_count": null,
   "metadata": {},
   "outputs": [],
   "source": []
  },
  {
   "cell_type": "markdown",
   "metadata": {},
   "source": [
    "### Apartado B: Tiempo de transporte = 1 min."
   ]
  },
  {
   "cell_type": "code",
   "execution_count": null,
   "metadata": {},
   "outputs": [],
   "source": []
  },
  {
   "cell_type": "markdown",
   "metadata": {},
   "source": [
    "## Máquina de procesado adicional"
   ]
  },
  {
   "cell_type": "markdown",
   "metadata": {},
   "source": [
    "Habrá que definir beneficio. Consideramos solo el tiempo?"
   ]
  }
 ],
 "metadata": {
  "kernelspec": {
   "display_name": "Python 3",
   "language": "python",
   "name": "python3"
  },
  "language_info": {
   "codemirror_mode": {
    "name": "ipython",
    "version": 3
   },
   "file_extension": ".py",
   "mimetype": "text/x-python",
   "name": "python",
   "nbconvert_exporter": "python",
   "pygments_lexer": "ipython3",
   "version": "3.6.6"
  }
 },
 "nbformat": 4,
 "nbformat_minor": 2
}
