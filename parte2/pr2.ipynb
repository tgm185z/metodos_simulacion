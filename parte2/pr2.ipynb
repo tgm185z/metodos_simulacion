{
 "cells": [
  {
   "cell_type": "markdown",
   "metadata": {},
   "source": [
    "# Práctica Métodos de Simulación - Parte 2"
   ]
  },
  {
   "cell_type": "markdown",
   "metadata": {},
   "source": [
    "## Elena Rivas, Teresa Grau, Ignacio Casso"
   ]
  },
  {
   "cell_type": "markdown",
   "metadata": {},
   "source": [
    "**Enunciado. Simulación de sucesos discretos.**\n",
    "\n",
    "Un taller de fabricación se dedica a procesar tres tipos de piezas, para ello el\n",
    "taller consta de cuatro células de procesamiento.\n",
    "\n",
    "En el interior de cada célula se dispone de una máquina de procesado, excepto\n",
    "en la célula 3 formada por dos máquinas con las mismas características, y de un\n",
    "almacén (de capacidad ilimitada).\n",
    "\n",
    "La secuencia de fabricación de cada una de las piezas así como los tiempos de\n",
    "procesado (expresados en minutos y distribuidos según una triangular) en cada\n",
    "célula se muestran en la siguiente tabla:\n",
    "\n",
    "\n",
    "**TODO:** Escribir tabla usando sintáxis de hml:\n",
    "\n",
    "| A | B | C |\n",
    "| --- | --- | --- |\n",
    "| a | b | c |\n",
    "\n",
    "Los tiempos entre llegadas de las piezas al taller tiene carácter aleatorio. En el\n",
    "fichero llegadas.txt se proporciona una muestra de tiempos entre llegadas de\n",
    "piezas. Contrástese si la distribución de dichos tiempos es normal (truncada),\n",
    "weibull o exponencial y estímense los parámetros de la distribución\n",
    "correspondiente.\n",
    "\n",
    "El fichero piezas.text incluye un histórico de piezas que han llegado al taller, que\n",
    "nos permitirá identificar la proporción de piezas que hay de cada uno de los tres\n",
    "tipos.Los tiempos de transporte de cada pieza entre las diferentes células es de 2\n",
    "minutos.\n",
    "\n",
    "A. Suponiendo que el taller trabaja de forma ininterrumpida (hay tres turnos de\n",
    "trabajadores), simular el comportamiento del sistema durante 2 meses para\n",
    "estimar el tiempo mínimo, medio y máximo que tardan en fabricarse los tres\n",
    "tipos de piezas, el número medio de piezas esperando en cada una de las 4\n",
    "células y la proporción de tiempo que están ociosas las máquinas de\n",
    "procesado de las células.\n",
    "\n",
    "B. Calcular las medidas anteriores si el tiempo de transporte de las piezas entre\n",
    "las distintas células se reduce la mitad.\n",
    "\n",
    "En caso de que fuese posible disponer de una máquina de procesado adicional,\n",
    "¿en qué célula sería más beneficioso ponerla?"
   ]
  },
  {
   "cell_type": "markdown",
   "metadata": {},
   "source": [
    "## Distribución de los tiempos de llegada"
   ]
  },
  {
   "cell_type": "markdown",
   "metadata": {},
   "source": [
    "En primer lugar comprobamos si los tiempos de llegada proporcionados en el fichero `llegadas.txt` siguen una distribución normal truncada, weibull o exponencial, y estimar los parámetros correspondientes. Para ello podemos usar los contrastes de hipótesis vistos en clase, en concreto el contraste de ***Kolmogorov-Smirnov***."
   ]
  },
  {
   "cell_type": "markdown",
   "metadata": {},
   "source": [
    "En estadística, la prueba de *Kolmogórov-Smirnov* (también prueba K-S) es una prueba no paramétrica que determina la bondad de ajuste de dos distribuciones de probabilidad entre sí. Consiste en lo siguiente:"
   ]
  },
  {
   "cell_type": "markdown",
   "metadata": {},
   "source": [
    "Deseamos contrastar la hipotesis\n",
    "    H0: Fn(x) = F0(x) **TODO**\n",
    "Para ello, utilizamos el estadístico de contraste\n",
    "    **#imagen captura1_sm TODO**\n",
    "donde:\n",
    "* xi es el i-ésimo valor observado en la muestra (cuyos valores se han ordenado previamente de menor a mayor).\n",
    "* ^Fn(xi) es un estimador de la probabilidad de observar valores menores o iguales que xi.\n",
    "* F0(xi) es la probabilidad de observar valores menores o iguales que xi cuando H0 es cierta.\n",
    "\n",
    "Así pues, D es la mayor diferencia absoluta observada entre la frecuencia acumulada observada ^Fn(xi) y la frecuencia acumulada teórica F0(xi), obtenida a partir de la distribución de probabilidad que se especifica como hipótesis nula.\n",
    "\n",
    "Si los valores observados ^Fn(xi) son similares a los esperados F0(xi), el valor de D será pequeño. Cuanto mayor sea la discrepancia entre la distribución empírica ^Fn(xi) y la distribución teórica F0(xi), mayor será el valor de D."
   ]
  },
  {
   "cell_type": "code",
   "execution_count": 3,
   "metadata": {},
   "outputs": [],
   "source": [
    "import numpy as np\n",
    "import random\n",
    "import queue\n",
    "import math\n",
    "import matplotlib.pyplot as plt\n",
    "from scipy import stats\n",
    "from scipy.stats import kstest"
   ]
  },
  {
   "cell_type": "code",
   "execution_count": 4,
   "metadata": {},
   "outputs": [],
   "source": [
    "archivo_llegadas = open('./E1.llegadas.txt', 'r')\n",
    "llegadas = [float(line) for line in archivo_llegadas.readlines()]\n",
    "archivo_llegadas.close()"
   ]
  },
  {
   "cell_type": "code",
   "execution_count": 5,
   "metadata": {},
   "outputs": [],
   "source": [
    "archivo_piezas = open('./E1.piezas.txt', 'r')\n",
    "piezas = [int(line) for line in archivo_piezas.readlines()]\n",
    "archivo_piezas.close()"
   ]
  },
  {
   "cell_type": "markdown",
   "metadata": {},
   "source": [
    "Con el paquete estadístico `stats` de la librería `scipy` de Python podemos contrastar la distribución de nuestra muestra con la prueba de ***Kolmogorov***."
   ]
  },
  {
   "cell_type": "code",
   "execution_count": 6,
   "metadata": {},
   "outputs": [],
   "source": [
    "from scipy.stats import expon, exponweib, truncnorm\n",
    "\n",
    "middle = len(llegadas)//2 #TODO: no lo usamos\n",
    "\n",
    "llegadas1, llegadas2 = llegadas[:middle], llegadas[middle:]"
   ]
  },
  {
   "cell_type": "markdown",
   "metadata": {},
   "source": [
    "Comenzamos testando la distribución exponencial. Según la documentación del paquete `stats`, la función de densidad de la exponencial es:\n",
    "\\[f(x) = \\exp(-x)\\] para x>=0.\n",
    "La densidad de probabilidad anterior se define en la forma \"estandarizada\". Para cambiar y/o escalar la distribución, utilizamos los parámetros `loc` y `scale`. Específicamente, `expon.pdf (x, loc, scale)` (probability density function), que es equivalente a `expon.pd(y) / scale` con `y = (x - loc) / scale`.\n",
    "\n",
    "Una parametrización común de la exponencial es en términos del parámetro *lambda*, tal que `pdf = lambda * exp (-lambda * x)`. Esta parametrización corresponde a usar `scale = 1/lambda`.\n",
    "\n",
    "Para realizar el contraste con la librería `stats` primero necesitamos estimar los parametros que corresponderían a nuestra muestra para la distribución que queremos contrastar. Para esta tarea, `stats` cuenta con el método `scipy.stats.rv_continuous.fit`.\n",
    "\n",
    "Éste devuelve los *MLE* para los parámetros de forma (si corresponde), ubicación y escala a partir de la muestra. MLE significa Estimación de máxima verosimilitud (Maximum Likelihood Estimate).\n",
    "Hay que tener en cuenta que `fit` se calcula al maximizar una función *log-likehood*, aplicando una penalización para muestras fuera del rango de distribución. No se garantiza que la respuesta devuelta sea el MLE globalmente óptimo, puede que solo sea óptimo local o la optimización puede fallar por completo.\n",
    "\n",
    "Una vez estimados los parametros de la exponencial, ya podemos utilizar el método `scipy.stats.kstest` que ejecuta la prueba de Kolmogorov-Smirnov para comprobar la bondad del ajuste. Que devuelve el valor del estadístico *D* y un *p-valor*.\n",
    "\n",
    "La decisión de aceptar o rechazar la hipotesis es tomada a partir de este *p-valor*. Si el *p-valor* es grande significa  que, siendo cierta la hipótesis nula, el valor observado del estadístico *D* era  esperable, y por tanto, no hay razón para rechazar la hipótesis. Asimismo, si el *p-valor* es pequeño, indica que, siendo cierta la hipótesis nula, es muy difícil que se produjera el valor de *D* que efectivamente se ha observado. Ello obliga a poner muy en duda, y  por tanto a rechazar la hipótesis nula."
   ]
  },
  {
   "cell_type": "markdown",
   "metadata": {},
   "source": [
    "Ya podemos testar la distribución exponencial:"
   ]
  },
  {
   "cell_type": "code",
   "execution_count": 7,
   "metadata": {},
   "outputs": [
    {
     "data": {
      "text/plain": [
       "KstestResult(statistic=0.010470714624899208, pvalue=0.64335948653523267)"
      ]
     },
     "execution_count": 7,
     "metadata": {},
     "output_type": "execute_result"
    }
   ],
   "source": [
    "loc, scale = expon.fit(llegadas)\n",
    "\n",
    "# kstest(llegadas, lambda x : expon.cdf(x, loc = loc, scale = scale))\n",
    "\n",
    "kstest(llegadas,'expon', (loc, scale))"
   ]
  },
  {
   "cell_type": "markdown",
   "metadata": {},
   "source": [
    "Hipotesis no rechazada. Los párametros serían:"
   ]
  },
  {
   "cell_type": "code",
   "execution_count": 8,
   "metadata": {},
   "outputs": [
    {
     "name": "stdout",
     "output_type": "stream",
     "text": [
      "(0.0011736909087417102, 12.996337543335594)\n"
     ]
    }
   ],
   "source": [
    "print((loc, scale))"
   ]
  },
  {
   "cell_type": "markdown",
   "metadata": {},
   "source": [
    "A continuación testamos la distribución de weibull, que según la documentación de `stats` tiene la siguiente funcion de distribución:\n",
    "**#imagen captura2_sm TODO**\n",
    "\n",
    "*a* y *c* son parámetros de forma. La densidad de probabilidad anterior se define en la forma \"estandarizada\". Para cambiar y/o escalar la distribución, al igual que explicamos antes en la exponencial, se utilizan los parametros *loc* y *scale*. Concretamente, `exponweib.pdf(x, a, c, loc, scale)`, que es equivalente a `exponweib.pdf(y, a, c) / scale` con `y = (x - loc) / scale.`"
   ]
  },
  {
   "cell_type": "code",
   "execution_count": 13,
   "metadata": {},
   "outputs": [
    {
     "data": {
      "text/plain": [
       "KstestResult(statistic=0.0090628755311315534, pvalue=0.80604772543015868)"
      ]
     },
     "execution_count": 13,
     "metadata": {},
     "output_type": "execute_result"
    }
   ],
   "source": [
    "params = exponweib.fit(llegadas, fa=1) # an exponential weibull with a = 1 is the normal weibull\n",
    "#params = exponweib.fit(llegadas)\n",
    "#kstest(llegadas, lambda x : exponweib.cdf(x, a = 1, c= c, loc = loc, scale = scale))\n",
    "\n",
    "kstest(llegadas,'exponweib', args=params)\n"
   ]
  },
  {
   "cell_type": "markdown",
   "metadata": {},
   "source": [
    "Hypotesis not rejected"
   ]
  },
  {
   "cell_type": "code",
   "execution_count": 14,
   "metadata": {},
   "outputs": [
    {
     "name": "stdout",
     "output_type": "stream",
     "text": [
      "(1, 0.98351789950351987, 0.0011736909999999997, 12.916844528285321)\n"
     ]
    }
   ],
   "source": [
    "print(params)"
   ]
  },
  {
   "cell_type": "markdown",
   "metadata": {},
   "source": [
    "Tampoco rechaza la hipotesis de que nuestra muestra siga una distribución Weibull. Esto podemos explicarlo observando los parametros que obtenemos con la funcion `fit`. Observamos que el parametro *c* es casi 1, cuando se da esto lo que en realidad tenemos es una exponencial. Por eso la hipotesis no es rechazada.\n",
    "\n",
    "***However we see that the paramenter k of the distribution is estimated to be 0.98, and with k = 1 we actually have an exponential, so that's why it is not rejected #TODO: quitar***"
   ]
  },
  {
   "cell_type": "markdown",
   "metadata": {},
   "source": [
    "Y por último testamos la distribución normal truncada:"
   ]
  },
  {
   "cell_type": "code",
   "execution_count": 13,
   "metadata": {},
   "outputs": [
    {
     "name": "stderr",
     "output_type": "stream",
     "text": [
      "/home/ignacio/.local/lib/python3.6/site-packages/scipy/stats/_continuous_distns.py:5823: RuntimeWarning: divide by zero encountered in log\n",
      "  self._logdelta = np.log(self._delta)\n",
      "/home/ignacio/.local/lib/python3.6/site-packages/scipy/stats/_continuous_distns.py:5823: RuntimeWarning: invalid value encountered in log\n",
      "  self._logdelta = np.log(self._delta)\n"
     ]
    },
    {
     "data": {
      "text/plain": [
       "KstestResult(statistic=0.16126924639176748, pvalue=2.2424395794550417e-113)"
      ]
     },
     "execution_count": 13,
     "metadata": {},
     "output_type": "execute_result"
    }
   ],
   "source": [
    "from scipy.stats import truncnorm\n",
    "\n",
    "a,b,loc,scale = truncnorm.fit(llegadas)\n",
    "\n",
    "# The bounds are given w.r.t the standard distribution, prior to applying scale and location paramenters.\n",
    "# Therefore we can't specify that the lower bound is 0 (fa=0). The information we have is that\n",
    "# a = -loc, but that is a constraint we can not pass to the method fit. To satisfy the constraint, we propose\n",
    "# the following fixpoint\n",
    "\n",
    "while abs(loc+a) > 0.0001:\n",
    "    a,b,loc,scale = truncnorm.fit(llegadas, fa=-loc)\n",
    "    \n",
    "# just needs one iteration\n",
    "\n",
    "kstest(llegadas,'truncnorm', (a,b,loc,scale))"
   ]
  },
  {
   "cell_type": "markdown",
   "metadata": {},
   "source": [
    "La hipotesis es rechazada. Por tanto, nuestra muestra sigue una distribución exponencial con los siguientes parametros `loc` y `scale`:"
   ]
  },
  {
   "cell_type": "code",
   "execution_count": 15,
   "metadata": {},
   "outputs": [
    {
     "name": "stdout",
     "output_type": "stream",
     "text": [
      "(0.0011736909087417102, 12.996337543335594)\n"
     ]
    }
   ],
   "source": [
    "loc, scale = expon.fit(llegadas)\n",
    "print((loc, scale))"
   ]
  },
  {
   "cell_type": "markdown",
   "metadata": {},
   "source": [
    "A continuación visualizamos la distribución de nuestra muestra mediante un histograma:"
   ]
  },
  {
   "cell_type": "code",
   "execution_count": 17,
   "metadata": {
    "scrolled": false
   },
   "outputs": [
    {
     "data": {
      "image/png": "[encoded data removed]",
      "text/plain": [
       "<matplotlib.figure.Figure at 0x7f4e4326a9e8>"
      ]
     },
     "metadata": {},
     "output_type": "display_data"
    }
   ],
   "source": [
    "# histograma de llegadas\n",
    "cuenta, cajas, ignorar = plt.hist(llegadas, 500)\n",
    "plt.ylabel('frequencia')\n",
    "plt.xlabel('valores')\n",
    "plt.title('Histograma')\n",
    "plt.show()"
   ]
  },
  {
   "cell_type": "markdown",
   "metadata": {},
   "source": [
    "### Distribución de las piezas"
   ]
  },
  {
   "cell_type": "code",
   "execution_count": 3,
   "metadata": {},
   "outputs": [
    {
     "data": {
      "text/plain": [
       "array([[   1, 1254],\n",
       "       [   2, 2407],\n",
       "       [   3, 1339]])"
      ]
     },
     "execution_count": 3,
     "metadata": {},
     "output_type": "execute_result"
    }
   ],
   "source": [
    "#cantidad de piezas de cada tipo\n",
    "stats.itemfreq(piezas)"
   ]
  },
  {
   "cell_type": "markdown",
   "metadata": {},
   "source": [
    "## Simulación del Sistema"
   ]
  },
  {
   "cell_type": "markdown",
   "metadata": {},
   "source": [
    "A continuación simulamos el sistema...\n",
    "\n",
    "Asumimos FIFO para cada celula de procesamiento...\n",
    "\n",
    "Usamos los tiempos de llegada y las piezas de los ficheros (aunque tambien podriamos generarlos aleatoriamente, conociendo su distribucion)...\n",
    "**TODO:** Usar un generador aleatorio? Implementarlo nosotros?\n",
    "\n",
    "Usamos numpy.random.triangular para generar tiempos de procesado aleatorio...\n",
    "**TODO:** Implementarlo nosotros?"
   ]
  },
  {
   "cell_type": "markdown",
   "metadata": {},
   "source": [
    "En primer lugar escribimos los generadores de tiempos y piezas..."
   ]
  },
  {
   "cell_type": "code",
   "execution_count": 15,
   "metadata": {},
   "outputs": [],
   "source": [
    "import numpy as np\n",
    "import random\n",
    "import queue\n",
    "import math"
   ]
  },
  {
   "cell_type": "code",
   "execution_count": 16,
   "metadata": {},
   "outputs": [],
   "source": [
    "# times = [1,2,200]\n",
    "\n",
    "def genArrival():\n",
    "    return np.random.exponential(13)\n",
    "    # debug\n",
    "    global times\n",
    "    time = times[0]\n",
    "    times = times[1:]\n",
    "    return time"
   ]
  },
  {
   "cell_type": "code",
   "execution_count": 17,
   "metadata": {},
   "outputs": [],
   "source": [
    "def genPieceType():\n",
    "    x = np.random.random()\n",
    "    if x < 0.2508: # 1254/5000\n",
    "        return 1\n",
    "    elif x < 0.7322: # (1254+2407)/5000\n",
    "        return 2\n",
    "    else: # x < 1 (1254+2407+1339)\n",
    "        return 3\n",
    "# TODO: use 0.25, 0.5, 0.25 instead?"
   ]
  },
  {
   "cell_type": "code",
   "execution_count": 33,
   "metadata": {},
   "outputs": [],
   "source": [
    "class System():\n",
    "    \n",
    "    def __init__(self, transportTime, num_machines):\n",
    "        self.eventsQueue = queue.PriorityQueue()\n",
    "        \n",
    "        #if debug:\n",
    "        #    self.arrivals = open(\"E1.llegadas.txt\",\"r\")\n",
    "        #    self.pieces = open(\"E1.piezas.txt\",\"r\")\n",
    "        # open files\n",
    "        \n",
    "        # fabrication sequence for each type of piece\n",
    "        self.steps = [[0,1,2,3],\n",
    "                      [0,1,3,1,2],\n",
    "                      [1,0,2]]\n",
    "        \n",
    "        # processing times for each type of piece at each step of its phabrication sequence\n",
    "        self.processingTimes =[[(6,9,10), (5,8,10), (15,20,25), (8,12,16)],\n",
    "                           [(1,13,15), (4,6,8), (15,18,21), (6,9,12), (27,30,39)], # El 30 es un 3 en el enunciado, errata\n",
    "                           [(7,9,11), (7,10,13), (18,23,28)]]\n",
    "        \n",
    "        \n",
    "        # cell queues\n",
    "        self.queue = [queue.Queue(),queue.Queue(),queue.Queue(),queue.Queue()]\n",
    "        \n",
    "        # number of machines in each cell\n",
    "        self.num_machines = num_machines\n",
    "        \n",
    "        # number of idle machines in each clell\n",
    "        self.idle_machines = num_machines[:] # copy\n",
    "        \n",
    "        # transportation time between cells\n",
    "        self.transportTime = transportTime\n",
    "        \n",
    "        # stats counters\n",
    "        self.minTime = [math.inf, math.inf, math.inf] # min processing type of each type of piece\n",
    "        self.maxTime = [0,0,0] # max processing type of each type of piece\n",
    "        self.sumTimes = [0,0,0] # Sum of the processing times of all pieces for each type of piece\n",
    "        self.numPieces = [0,0,0] # Total number of pieces processed for each type of piece\n",
    "        \n",
    "        self.queueSizeOverTime = [0,0,0,0] # like the area under the integral of the size of each queue over time, but discrete\n",
    "        self.lastUpdate = [0,0,0,0] # Last time the previous counter was updated\n",
    "        \n",
    "        self.idleTime = [0,0,0,0] # total time the machine(s) in a cell have been idle\n",
    "        self.lastUpdateMachine = [0,0,0,0] # Last time the previous counter was updated\n",
    "        \n",
    "        self.debug = False\n",
    "        \n",
    "    # destructor\n",
    "        # close files\n",
    "\n",
    "    def simul_main(self,simulationTime):\n",
    "    \n",
    "        self.time = 0\n",
    "        \n",
    "        self.simulationTime = simulationTime\n",
    "        \n",
    "        self.nextPiece()\n",
    "    \n",
    "        while not self.eventsQueue.empty():\n",
    "            self.time, _, nextEvent = self.eventsQueue.get()\n",
    "            nextEvent()\n",
    "            \n",
    "    def simul_main_debug(self, simulationTime):\n",
    "            \n",
    "        self.time = 0\n",
    "    \n",
    "        self.simulationTime = simulationTime\n",
    "    \n",
    "        self.nextPiece()\n",
    "            \n",
    "    def debug_step(self):\n",
    "        \n",
    "        if not self.eventsQueue.empty():\n",
    "            self.time, eventDescription, nextEvent = self.eventsQueue.get()\n",
    "            print(self.time)\n",
    "            print(eventDescription)\n",
    "            nextEvent()\n",
    "        \n",
    "    def nextPiece(self):\n",
    "        nextArrival = self.timeTillNextArrival()\n",
    "        nextArrivalTime = self.time + nextArrival\n",
    "        if nextArrivalTime < self.simulationTime:\n",
    "            nextPieceType = self.nextPieceType()\n",
    "            nextPiece = (nextArrivalTime, nextPieceType, 0)\n",
    "            #eventsQueue.put(self.advancePiece(nextPiece), nextArrivalTime)\n",
    "            #eventsQueue.put(self.nextPiece(), nextArrivalTime)\n",
    "            # The prority queue as it is breaks if two events happen at the same time\n",
    "            eventDescription = \"piece \" + str(nextPiece) + \" arrives\"\n",
    "            event = lambda : self.arrivePiece(nextPiece)\n",
    "            self.eventsQueue.put((nextArrivalTime, eventDescription, event))\n",
    "    \n",
    "    def arrivePiece(self,piece):\n",
    "        self.nextPiece()\n",
    "        self.advancePiece(piece)\n",
    "        \n",
    "    def nextPieceType(self):\n",
    "        #if debug:\n",
    "        #    piece = self.pieces.readline()\n",
    "        #    return int(piece)-1\n",
    "        #else:\n",
    "            return genPieceType()-1\n",
    "        # Types of pieces are shifted so that the first one is 0\n",
    "        \n",
    "    def timeTillNextArrival(self):\n",
    "        #if debug:\n",
    "        #    arrival = self.arrivals.readline()\n",
    "        #    return float(arrival)\n",
    "        #else:\n",
    "            return genArrival()\n",
    "    \n",
    "    def advancePiece(self,piece):\n",
    "        \n",
    "        arrivalTime, pieceType, step = piece\n",
    "\n",
    "        if self.steps[pieceType][step:] == []:\n",
    "            self.finishPiece(piece)\n",
    "            if self.debug:\n",
    "                print(\"piece \" + str(arrivalTime) + \" finishes\")\n",
    "        else:\n",
    "            next_cell = self.steps[pieceType][step]\n",
    "            if step == 0:\n",
    "                self.enter(next_cell,piece)\n",
    "            else:\n",
    "                eventTime = self.time + self.transportTime\n",
    "                eventDescription = \"piece \" + str(piece) + \" enters cell \" + str(next_cell)\n",
    "                event = lambda : self.enter(next_cell,piece)\n",
    "                self.eventsQueue.put((eventTime, eventDescription, event))\n",
    "    \n",
    "    def finishPiece(self,piece):\n",
    "        \n",
    "        arrivalTime, pieceType, _ = piece\n",
    "        \n",
    "        totalTime = self.time - arrivalTime\n",
    "        \n",
    "        if totalTime < self.minTime[pieceType]: # use dictionaries, since index needs shifting\n",
    "            self.minTime[pieceType] = totalTime\n",
    "       \n",
    "        if totalTime > self.maxTime[pieceType]:\n",
    "            self.maxTime[pieceType] = totalTime\n",
    "        \n",
    "        self.sumTimes[pieceType] += totalTime\n",
    "        \n",
    "        self.numPieces[pieceType] += 1\n",
    "        \n",
    "    \n",
    "    def enter(self,cell,piece):\n",
    "        \n",
    "        if self.idle_machines[cell] > 0:\n",
    "            self.process(cell,piece)\n",
    "        else:\n",
    "            self.queueSizeOverTime[cell] += self.queue[cell].qsize()*(self.time-self.lastUpdate[cell])\n",
    "            self.lastUpdate[cell] = self.time\n",
    "            self.queue[cell].put(piece)\n",
    "\n",
    "    def process(self,cell,piece):\n",
    "        \n",
    "        self.idleTime[cell] += (self.time - self.lastUpdateMachine[cell])*self.idle_machines[cell]\n",
    "        self.lastUpdateMachine[cell] = self.time\n",
    "        \n",
    "        _, pieceType, step = piece\n",
    "        \n",
    "        low, mode, upp = self.processingTimes[pieceType][step]\n",
    "        \n",
    "        if self.debug:\n",
    "            processing_time = mode\n",
    "        else:\n",
    "            processing_time = np.random.triangular(low,mode,upp)\n",
    "        \n",
    "        \n",
    "        self.idle_machines[cell] -= 1\n",
    "        \n",
    "        eventDescription = \"piece \" + str(piece) + \" done in cell \" + str(cell)\n",
    "        self.eventsQueue.put((self.time+processing_time, eventDescription, lambda : self.done(cell,piece)))\n",
    "        \n",
    "    def done(self,cell,piece):\n",
    "        \n",
    "        self.idle_machines[cell] += 1\n",
    "        \n",
    "        if self.queue[cell].empty():\n",
    "            \n",
    "            self.lastUpdateMachine[cell] = self.time\n",
    "                   \n",
    "        else:\n",
    "            \n",
    "            self.queueSizeOverTime[cell] += self.queue[cell].qsize()*(self.time-self.lastUpdate[cell])\n",
    "            self.lastUpdate[cell] = self.time\n",
    "            nextPiece = self.queue[cell].get()\n",
    "            self.process(cell,nextPiece)\n",
    "        \n",
    "        arrivalTime, pieceType, step = piece\n",
    "        piece = arrivalTime, pieceType, step + 1\n",
    "        self.advancePiece(piece)"
   ]
  },
  {
   "cell_type": "code",
   "execution_count": 37,
   "metadata": {},
   "outputs": [],
   "source": [
    "system = System(2,[1,1,2,1])\n",
    "system.simul_main_debug(100)"
   ]
  },
  {
   "cell_type": "code",
   "execution_count": 38,
   "metadata": {},
   "outputs": [],
   "source": [
    "system.debug = True"
   ]
  },
  {
   "cell_type": "code",
   "execution_count": 39,
   "metadata": {},
   "outputs": [
    {
     "name": "stdout",
     "output_type": "stream",
     "text": [
      "12.11178981618215\n",
      "piece (12.11178981618215, 1, 0) arrives\n",
      "25.11178981618215\n",
      "piece (12.11178981618215, 1, 0) done in cell 0\n",
      "27.11178981618215\n",
      "piece (12.11178981618215, 1, 1) enters cell 1\n",
      "33.11178981618215\n",
      "piece (12.11178981618215, 1, 1) done in cell 1\n",
      "35.11178981618215\n",
      "piece (12.11178981618215, 1, 2) enters cell 3\n",
      "41.31089908024262\n",
      "piece (41.31089908024262, 2, 0) arrives\n",
      "47.20842860916076\n",
      "piece (47.20842860916076, 1, 0) arrives\n",
      "50.31089908024262\n",
      "piece (41.31089908024262, 2, 0) done in cell 1\n",
      "52.31089908024262\n",
      "piece (41.31089908024262, 2, 1) enters cell 0\n",
      "53.11178981618215\n",
      "piece (12.11178981618215, 1, 2) done in cell 3\n",
      "55.11178981618215\n",
      "piece (12.11178981618215, 1, 3) enters cell 1\n",
      "60.20842860916076\n",
      "piece (47.20842860916076, 1, 0) done in cell 0\n",
      "62.20842860916076\n",
      "piece (47.20842860916076, 1, 1) enters cell 1\n",
      "63.41393621218169\n",
      "piece (63.41393621218169, 2, 0) arrives\n",
      "64.11178981618215\n",
      "piece (12.11178981618215, 1, 3) done in cell 1\n",
      "66.11178981618215\n",
      "piece (12.11178981618215, 1, 4) enters cell 2\n",
      "70.11178981618215\n",
      "piece (47.20842860916076, 1, 1) done in cell 1\n",
      "70.20842860916076\n",
      "piece (41.31089908024262, 2, 1) done in cell 0\n",
      "71.50790908549168\n",
      "piece (71.50790908549168, 2, 0) arrives\n",
      "72.11178981618215\n",
      "piece (47.20842860916076, 1, 2) enters cell 3\n",
      "72.20842860916076\n",
      "piece (41.31089908024262, 2, 2) enters cell 2\n",
      "79.11178981618215\n",
      "piece (63.41393621218169, 2, 0) done in cell 1\n",
      "81.11178981618215\n",
      "piece (63.41393621218169, 2, 1) enters cell 0\n",
      "88.11178981618215\n",
      "piece (71.50790908549168, 2, 0) done in cell 1\n",
      "90.11178981618215\n",
      "piece (47.20842860916076, 1, 2) done in cell 3\n",
      "90.11178981618215\n",
      "piece (71.50790908549168, 2, 1) enters cell 0\n",
      "91.11178981618215\n",
      "piece (63.41393621218169, 2, 1) done in cell 0\n",
      "92.11178981618215\n",
      "piece (47.20842860916076, 1, 3) enters cell 1\n",
      "93.11178981618215\n",
      "piece (63.41393621218169, 2, 2) enters cell 2\n",
      "95.20842860916076\n",
      "piece (41.31089908024262, 2, 2) done in cell 2\n",
      "piece 41.31089908024262 finishes\n",
      "96.11178981618215\n",
      "piece (12.11178981618215, 1, 4) done in cell 2\n",
      "piece 12.11178981618215 finishes\n",
      "96.90613914852048\n",
      "piece (96.90613914852048, 1, 0) arrives\n",
      "97.50806288128757\n",
      "piece (97.50806288128757, 2, 0) arrives\n",
      "101.11178981618215\n",
      "piece (47.20842860916076, 1, 3) done in cell 1\n",
      "101.11178981618215\n",
      "piece (71.50790908549168, 2, 1) done in cell 0\n",
      "103.11178981618215\n",
      "piece (47.20842860916076, 1, 4) enters cell 2\n",
      "103.11178981618215\n",
      "piece (71.50790908549168, 2, 2) enters cell 2\n",
      "110.11178981618215\n",
      "piece (97.50806288128757, 2, 0) done in cell 1\n",
      "112.11178981618215\n",
      "piece (97.50806288128757, 2, 1) enters cell 0\n",
      "114.11178981618215\n",
      "piece (96.90613914852048, 1, 0) done in cell 0\n",
      "116.11178981618215\n",
      "piece (96.90613914852048, 1, 1) enters cell 1\n",
      "118.20842860916076\n",
      "piece (63.41393621218169, 2, 2) done in cell 2\n",
      "piece 63.41393621218169 finishes\n",
      "122.11178981618215\n",
      "piece (96.90613914852048, 1, 1) done in cell 1\n",
      "124.11178981618215\n",
      "piece (96.90613914852048, 1, 2) enters cell 3\n",
      "124.11178981618215\n",
      "piece (97.50806288128757, 2, 1) done in cell 0\n",
      "126.11178981618215\n",
      "piece (97.50806288128757, 2, 2) enters cell 2\n",
      "133.11178981618215\n",
      "piece (47.20842860916076, 1, 4) done in cell 2\n",
      "piece 47.20842860916076 finishes\n",
      "141.20842860916076\n",
      "piece (71.50790908549168, 2, 2) done in cell 2\n",
      "piece 71.50790908549168 finishes\n",
      "142.11178981618215\n",
      "piece (96.90613914852048, 1, 2) done in cell 3\n",
      "144.11178981618215\n",
      "piece (96.90613914852048, 1, 3) enters cell 1\n",
      "153.11178981618215\n",
      "piece (96.90613914852048, 1, 3) done in cell 1\n",
      "155.11178981618215\n",
      "piece (96.90613914852048, 1, 4) enters cell 2\n",
      "156.11178981618215\n",
      "piece (97.50806288128757, 2, 2) done in cell 2\n",
      "piece 97.50806288128757 finishes\n",
      "185.11178981618215\n",
      "piece (96.90613914852048, 1, 4) done in cell 2\n",
      "piece 96.90613914852048 finishes\n"
     ]
    }
   ],
   "source": [
    "for _ in range(100):\n",
    "    system.debug_step()"
   ]
  },
  {
   "cell_type": "code",
   "execution_count": 8,
   "metadata": {},
   "outputs": [
    {
     "data": {
      "text/plain": [
       "86384.91734354805"
      ]
     },
     "execution_count": 8,
     "metadata": {},
     "output_type": "execute_result"
    }
   ],
   "source": [
    "system.time"
   ]
  },
  {
   "cell_type": "code",
   "execution_count": 9,
   "metadata": {},
   "outputs": [
    {
     "data": {
      "text/plain": [
       "[inf, inf, 46.0]"
      ]
     },
     "execution_count": 9,
     "metadata": {},
     "output_type": "execute_result"
    }
   ],
   "source": [
    "system.minTime"
   ]
  },
  {
   "cell_type": "code",
   "execution_count": 10,
   "metadata": {},
   "outputs": [
    {
     "data": {
      "text/plain": [
       "[0, 0, 46.0]"
      ]
     },
     "execution_count": 10,
     "metadata": {},
     "output_type": "execute_result"
    }
   ],
   "source": [
    "system.maxTime"
   ]
  },
  {
   "cell_type": "code",
   "execution_count": 11,
   "metadata": {},
   "outputs": [
    {
     "data": {
      "text/plain": [
       "[0, 0, 46.0]"
      ]
     },
     "execution_count": 11,
     "metadata": {},
     "output_type": "execute_result"
    }
   ],
   "source": [
    "system.sumTimes"
   ]
  },
  {
   "cell_type": "code",
   "execution_count": 12,
   "metadata": {},
   "outputs": [
    {
     "ename": "ZeroDivisionError",
     "evalue": "division by zero",
     "output_type": "error",
     "traceback": [
      "\u001b[0;31m---------------------------------------------------------------------------\u001b[0m",
      "\u001b[0;31mZeroDivisionError\u001b[0m                         Traceback (most recent call last)",
      "\u001b[0;32m<ipython-input-12-5613b23c1cd2>\u001b[0m in \u001b[0;36m<module>\u001b[0;34m()\u001b[0m\n\u001b[0;32m----> 1\u001b[0;31m \u001b[0;34m[\u001b[0m\u001b[0msystem\u001b[0m\u001b[0;34m.\u001b[0m\u001b[0msumTimes\u001b[0m\u001b[0;34m[\u001b[0m\u001b[0mi\u001b[0m\u001b[0;34m]\u001b[0m\u001b[0;34m/\u001b[0m\u001b[0msystem\u001b[0m\u001b[0;34m.\u001b[0m\u001b[0mnumPieces\u001b[0m\u001b[0;34m[\u001b[0m\u001b[0mi\u001b[0m\u001b[0;34m]\u001b[0m \u001b[0;32mfor\u001b[0m \u001b[0mi\u001b[0m \u001b[0;32min\u001b[0m \u001b[0mrange\u001b[0m\u001b[0;34m(\u001b[0m\u001b[0;36m3\u001b[0m\u001b[0;34m)\u001b[0m\u001b[0;34m]\u001b[0m\u001b[0;34m\u001b[0m\u001b[0;34m\u001b[0m\u001b[0m\n\u001b[0m",
      "\u001b[0;32m<ipython-input-12-5613b23c1cd2>\u001b[0m in \u001b[0;36m<listcomp>\u001b[0;34m(.0)\u001b[0m\n\u001b[0;32m----> 1\u001b[0;31m \u001b[0;34m[\u001b[0m\u001b[0msystem\u001b[0m\u001b[0;34m.\u001b[0m\u001b[0msumTimes\u001b[0m\u001b[0;34m[\u001b[0m\u001b[0mi\u001b[0m\u001b[0;34m]\u001b[0m\u001b[0;34m/\u001b[0m\u001b[0msystem\u001b[0m\u001b[0;34m.\u001b[0m\u001b[0mnumPieces\u001b[0m\u001b[0;34m[\u001b[0m\u001b[0mi\u001b[0m\u001b[0;34m]\u001b[0m \u001b[0;32mfor\u001b[0m \u001b[0mi\u001b[0m \u001b[0;32min\u001b[0m \u001b[0mrange\u001b[0m\u001b[0;34m(\u001b[0m\u001b[0;36m3\u001b[0m\u001b[0;34m)\u001b[0m\u001b[0;34m]\u001b[0m\u001b[0;34m\u001b[0m\u001b[0;34m\u001b[0m\u001b[0m\n\u001b[0m",
      "\u001b[0;31mZeroDivisionError\u001b[0m: division by zero"
     ]
    }
   ],
   "source": [
    "[system.sumTimes[i]/system.numPieces[i] for i in range(3)]"
   ]
  },
  {
   "cell_type": "code",
   "execution_count": 13,
   "metadata": {},
   "outputs": [
    {
     "data": {
      "text/plain": [
       "[0, 0, 1]"
      ]
     },
     "execution_count": 13,
     "metadata": {},
     "output_type": "execute_result"
    }
   ],
   "source": [
    "system.numPieces"
   ]
  },
  {
   "cell_type": "code",
   "execution_count": 250,
   "metadata": {},
   "outputs": [
    {
     "data": {
      "text/plain": [
       "[0, 0, 0, 0]"
      ]
     },
     "execution_count": 250,
     "metadata": {},
     "output_type": "execute_result"
    }
   ],
   "source": [
    "system.queueSizeOverTime"
   ]
  },
  {
   "cell_type": "code",
   "execution_count": 251,
   "metadata": {},
   "outputs": [
    {
     "data": {
      "text/plain": [
       "[0.0, 0.0, 0.0, 0.0]"
      ]
     },
     "execution_count": 251,
     "metadata": {},
     "output_type": "execute_result"
    }
   ],
   "source": [
    "[system.queueSizeOverTime[i]/system.time for i in range(4)]"
   ]
  },
  {
   "cell_type": "code",
   "execution_count": 252,
   "metadata": {},
   "outputs": [
    {
     "data": {
      "text/plain": [
       "[832.6736934616771, 827.4331821415414, 1485.9400048702266, 0]"
      ]
     },
     "execution_count": 252,
     "metadata": {},
     "output_type": "execute_result"
    }
   ],
   "source": [
    "system.idleTime # TODO: fix"
   ]
  },
  {
   "cell_type": "code",
   "execution_count": null,
   "metadata": {},
   "outputs": [],
   "source": []
  },
  {
   "cell_type": "markdown",
   "metadata": {},
   "source": [
    "### Apartado A: Tiempo de transporte = 2 min."
   ]
  },
  {
   "cell_type": "code",
   "execution_count": 40,
   "metadata": {},
   "outputs": [],
   "source": [
    "system = System(2,[1,1,2,1])\n",
    "system.simul_main(86400) # 2 months"
   ]
  },
  {
   "cell_type": "code",
   "execution_count": 41,
   "metadata": {},
   "outputs": [
    {
     "data": {
      "text/plain": [
       "88761.59960588154"
      ]
     },
     "execution_count": 41,
     "metadata": {},
     "output_type": "execute_result"
    }
   ],
   "source": [
    "system.time"
   ]
  },
  {
   "cell_type": "code",
   "execution_count": 42,
   "metadata": {},
   "outputs": [
    {
     "data": {
      "text/plain": [
       "[71.21482780633096, 89.38205576779889, 49.97424599476568]"
      ]
     },
     "execution_count": 42,
     "metadata": {},
     "output_type": "execute_result"
    }
   ],
   "source": [
    "system.minTime"
   ]
  },
  {
   "cell_type": "code",
   "execution_count": 43,
   "metadata": {},
   "outputs": [
    {
     "data": {
      "text/plain": [
       "[2423.64649525765, 2757.2611115291365, 2421.926683951693]"
      ]
     },
     "execution_count": 43,
     "metadata": {},
     "output_type": "execute_result"
    }
   ],
   "source": [
    "system.maxTime"
   ]
  },
  {
   "cell_type": "code",
   "execution_count": 44,
   "metadata": {},
   "outputs": [
    {
     "data": {
      "text/plain": [
       "[2383050.207931501, 4766525.126049586, 2297081.06028133]"
      ]
     },
     "execution_count": 44,
     "metadata": {},
     "output_type": "execute_result"
    }
   ],
   "source": [
    "system.sumTimes"
   ]
  },
  {
   "cell_type": "code",
   "execution_count": 45,
   "metadata": {},
   "outputs": [
    {
     "data": {
      "text/plain": [
       "[1407.5901996051393, 1465.2705582691626, 1342.5371480311687]"
      ]
     },
     "execution_count": 45,
     "metadata": {},
     "output_type": "execute_result"
    }
   ],
   "source": [
    "[system.sumTimes[i]/system.numPieces[i] for i in range(3)]"
   ]
  },
  {
   "cell_type": "code",
   "execution_count": 46,
   "metadata": {},
   "outputs": [
    {
     "data": {
      "text/plain": [
       "[1693, 3253, 1711]"
      ]
     },
     "execution_count": 46,
     "metadata": {},
     "output_type": "execute_result"
    }
   ],
   "source": [
    "system.numPieces"
   ]
  },
  {
   "cell_type": "code",
   "execution_count": 47,
   "metadata": {},
   "outputs": [
    {
     "data": {
      "text/plain": [
       "[78563.07816563916, 249014.31288279485, 8351920.199934405, 328124.8471109644]"
      ]
     },
     "execution_count": 47,
     "metadata": {},
     "output_type": "execute_result"
    }
   ],
   "source": [
    "system.queueSizeOverTime"
   ]
  },
  {
   "cell_type": "code",
   "execution_count": 48,
   "metadata": {},
   "outputs": [
    {
     "data": {
      "text/plain": [
       "[0.8851020994943111, 2.8054284058474157, 94.09384505257371, 3.6966982182374073]"
      ]
     },
     "execution_count": 48,
     "metadata": {},
     "output_type": "execute_result"
    }
   ],
   "source": [
    "[system.queueSizeOverTime[i]/system.time for i in range(4)]"
   ]
  },
  {
   "cell_type": "code",
   "execution_count": 49,
   "metadata": {},
   "outputs": [
    {
     "data": {
      "text/plain": [
       "[68848.28091819512, 76623.89639972759, 88731.43893006715, 80413.26636371735]"
      ]
     },
     "execution_count": 49,
     "metadata": {},
     "output_type": "execute_result"
    }
   ],
   "source": [
    "system.idleTime # TODO: fix"
   ]
  },
  {
   "cell_type": "markdown",
   "metadata": {},
   "source": [
    "### Apartado B: Tiempo de transporte = 1 min."
   ]
  },
  {
   "cell_type": "code",
   "execution_count": null,
   "metadata": {},
   "outputs": [],
   "source": [
    "system = System(1,[1,1,2,1])\n",
    "system.simulate()\n",
    "system.showStats()"
   ]
  },
  {
   "cell_type": "markdown",
   "metadata": {},
   "source": [
    "## Máquina de procesado adicional"
   ]
  },
  {
   "cell_type": "markdown",
   "metadata": {},
   "source": [
    "Habrá que definir beneficio. Consideramos solo el tiempo?"
   ]
  },
  {
   "cell_type": "code",
   "execution_count": null,
   "metadata": {},
   "outputs": [],
   "source": [
    "np.random.seed()"
   ]
  },
  {
   "cell_type": "code",
   "execution_count": null,
   "metadata": {},
   "outputs": [],
   "source": [
    "system = System(2,[2,1,2,1])\n",
    "system.simulate()\n",
    "system.showStats()"
   ]
  },
  {
   "cell_type": "code",
   "execution_count": null,
   "metadata": {},
   "outputs": [],
   "source": [
    "system = System(2,[1,2,2,1])\n",
    "system.simulate()\n",
    "system.showStats()"
   ]
  },
  {
   "cell_type": "code",
   "execution_count": null,
   "metadata": {},
   "outputs": [],
   "source": [
    "system = System(2,[1,1,3,1])\n",
    "system.simulate()\n",
    "system.showStats()"
   ]
  },
  {
   "cell_type": "code",
   "execution_count": null,
   "metadata": {},
   "outputs": [],
   "source": [
    "system = System(2,[1,1,2,2])\n",
    "system.simulate()\n",
    "system.showStats()"
   ]
  },
  {
   "cell_type": "code",
   "execution_count": null,
   "metadata": {},
   "outputs": [],
   "source": []
  },
  {
   "cell_type": "code",
   "execution_count": null,
   "metadata": {},
   "outputs": [],
   "source": []
  },
  {
   "cell_type": "code",
   "execution_count": null,
   "metadata": {},
   "outputs": [],
   "source": []
  }
 ],
 "metadata": {
  "kernelspec": {
   "display_name": "Python 3",
   "language": "python",
   "name": "python3"
  },
  "language_info": {
   "codemirror_mode": {
    "name": "ipython",
    "version": 3
   },
   "file_extension": ".py",
   "mimetype": "text/x-python",
   "name": "python",
   "nbconvert_exporter": "python",
   "pygments_lexer": "ipython3",
   "version": "3.6.7"
  }
 },
 "nbformat": 4,
 "nbformat_minor": 2
}
