{
 "cells": [
  {
   "cell_type": "markdown",
   "metadata": {},
   "source": [
    "# Práctica Métodos de Simulación - Parte 3"
   ]
  },
  {
   "cell_type": "markdown",
   "metadata": {},
   "source": [
    "## Elena Rivas, Teresa Grau, Ignacio Casso"
   ]
  },
  {
   "cell_type": "markdown",
   "metadata": {},
   "source": [
    "## Enunciado"
   ]
  },
  {
   "cell_type": "markdown",
   "metadata": {},
   "source": [
    "**Enfriamiento simulado. El problema de las n reinas.**\n",
    "\n",
    "El problema de las n-reinas consiste en colocar n reinas en un tablero de ajedrez de\n",
    "n x n de tal manera que no sea posible que dos reinas se capturen entre si, es decir,\n",
    "que no estén en la misma fila, ni en la misma columna ni en la misma diagonal. Se\n",
    "dice que hay una colisión si hay dos reinas que se pueden capturar entre si.\n",
    "\n",
    "Se trata pues de encontrar una configuración (elegir las n celdas donde colocar a las\n",
    "reinas) que minimice el número total de colisiones. Obtener la solución óptima para\n",
    "n=9.\n",
    "\n",
    "Mostrar gráficamente la evolución del valor de la función fitness y del parámetro\n",
    "temperatura considerados a lo largo de las iteraciones de la metaheurı́stica."
   ]
  },
  {
   "cell_type": "markdown",
   "metadata": {},
   "source": [
    "## Solución"
   ]
  },
  {
   "cell_type": "markdown",
   "metadata": {},
   "source": [
    "Proponemos dos implementaciones distintas para el algoritmo de enfraimiento simulado, que se diferencian en el espacio de búsqueda y en la codificación de las soluciones. En la primera consideramos todo el espacio de búsqueda, es dicir, todas las posibles configuraciones del tablero con $n$ reinas en él. En la segunda, observamos que por necesidad debe haber una reina en cada fila y otra en cada columna, y codificamos las soluciones como permutaciones de $n$ elementos, reduciendo el espacio de soluciones de un cardinal de $(n^2)^n$ a uno de $n!$. Para cada una de ellas se exploran distintas elecciones de parámetros"
   ]
  },
  {
   "cell_type": "markdown",
   "metadata": {},
   "source": [
    "## Primera Solución"
   ]
  },
  {
   "cell_type": "markdown",
   "metadata": {},
   "source": [
    "### Codificación de las soluciones"
   ]
  },
  {
   "cell_type": "markdown",
   "metadata": {},
   "source": [
    "Codificaremos las soluciones como listas de 9 posiciones, siendo cada posición una tupla de 2 elementos. Para evitar redundancia en la codificación, se impone que esa lista esté ordenada (lexicográficamente), y para evitar soluciones no factibles, se prohiben los elementos repetidos en una lista."
   ]
  },
  {
   "cell_type": "markdown",
   "metadata": {},
   "source": [
    "### Función objetivo"
   ]
  },
  {
   "cell_type": "markdown",
   "metadata": {},
   "source": [
    "La función objetivo a minimizar será el número de colisiones entre reinas."
   ]
  },
  {
   "cell_type": "code",
   "execution_count": 3,
   "metadata": {},
   "outputs": [],
   "source": [
    "def num_collisions(positions):\n",
    "    \n",
    "    if positions==[]:\n",
    "        return 0\n",
    "    else:\n",
    "        queen, positions2 = positions[0], positions[1:]\n",
    "        num_colls = 0\n",
    "        for queen2 in positions2:\n",
    "            if collision(queen,queen2):\n",
    "                num_colls += 1\n",
    "        return colls + num_collisions(positions2)\n",
    "    \n",
    "def collision(queen1,quenn2):\n",
    "    i1,j1 = queen1\n",
    "    i2,j2 = queen2\n",
    "    \n",
    "    if i1==i2 or j1==j2 or abs(i1-i2)==abs(j1-j2):\n",
    "        return True\n",
    "    else:\n",
    "        return False"
   ]
  },
  {
   "cell_type": "markdown",
   "metadata": {},
   "source": [
    "### Entorno de un punto en el espacio de bísqueda"
   ]
  },
  {
   "cell_type": "code",
   "execution_count": null,
   "metadata": {},
   "outputs": [],
   "source": []
  },
  {
   "cell_type": "code",
   "execution_count": null,
   "metadata": {},
   "outputs": [],
   "source": []
  },
  {
   "cell_type": "code",
   "execution_count": null,
   "metadata": {},
   "outputs": [],
   "source": []
  },
  {
   "cell_type": "markdown",
   "metadata": {},
   "source": [
    "## Segunda Solución"
   ]
  },
  {
   "cell_type": "code",
   "execution_count": null,
   "metadata": {},
   "outputs": [],
   "source": []
  },
  {
   "cell_type": "code",
   "execution_count": null,
   "metadata": {},
   "outputs": [],
   "source": []
  },
  {
   "cell_type": "code",
   "execution_count": null,
   "metadata": {},
   "outputs": [],
   "source": []
  }
 ],
 "metadata": {
  "kernelspec": {
   "display_name": "Python 3",
   "language": "python",
   "name": "python3"
  },
  "language_info": {
   "codemirror_mode": {
    "name": "ipython",
    "version": 3
   },
   "file_extension": ".py",
   "mimetype": "text/x-python",
   "name": "python",
   "nbconvert_exporter": "python",
   "pygments_lexer": "ipython3",
   "version": "3.6.7"
  }
 },
 "nbformat": 4,
 "nbformat_minor": 2
}
