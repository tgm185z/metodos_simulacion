{
 "cells": [
  {
   "cell_type": "markdown",
   "metadata": {},
   "source": [
    "# Práctica Métodos de Simulación - Parte 3"
   ]
  },
  {
   "cell_type": "markdown",
   "metadata": {},
   "source": [
    "## Elena Rivas, Teresa Grau, Ignacio Casso"
   ]
  },
  {
   "cell_type": "markdown",
   "metadata": {},
   "source": [
    "## Enunciado"
   ]
  },
  {
   "cell_type": "markdown",
   "metadata": {},
   "source": [
    "**Enfriamiento simulado. El problema de las n reinas.**\n",
    "\n",
    "El problema de las n-reinas consiste en colocar n reinas en un tablero de ajedrez de\n",
    "n x n de tal manera que no sea posible que dos reinas se capturen entre si, es decir,\n",
    "que no estén en la misma fila, ni en la misma columna ni en la misma diagonal. Se\n",
    "dice que hay una colisión si hay dos reinas que se pueden capturar entre si.\n",
    "\n",
    "Se trata pues de encontrar una configuración (elegir las n celdas donde colocar a las\n",
    "reinas) que minimice el número total de colisiones. Obtener la solución óptima para\n",
    "n=9.\n",
    "\n",
    "Mostrar gráficamente la evolución del valor de la función fitness y del parámetro\n",
    "temperatura considerados a lo largo de las iteraciones de la metaheurı́stica."
   ]
  },
  {
   "cell_type": "markdown",
   "metadata": {},
   "source": [
    "## Enfriamiento simulado"
   ]
  },
  {
   "cell_type": "markdown",
   "metadata": {},
   "source": [
    "El enfriamiento simulado (SA, *Simulated Annealing*) es una técnica de optimización combinatorial que se usa para afrontar problemas de gran complejidad matemática, de modo que se obtengan soluciones cercanas a la óptima. Se fundamenta en el proceso físico de calentamiento de un sólido, seguido por un enfriamiento hasta lograr un estado cristalino con una estructura perfecta. Durante este proceso, la energía libre del sólido es minimizada y de esta forma se obtine un material con mejores propiedades.\n",
    "\n",
    "El enfriamenteo simulado es un metodo iterativo que inicia con un cierto estado $s$. Mediante un proceso particular genera un estado vecino $s'$ al estado actual. Si la energía, o evaluación, del estado $s'$ es menor que la del estado $s$, se cambia el estado $s$ por $s'$. Si la evaluación de $s'$ es mayor que la de $s$ entonces se puede emperorar eligiendo $s'$ en lugar de $s$ con una cierta probabilidad, que depende de la diferencia de las evaluaciones $∆f = f(s) − f(s')$ y de la temperatura actual del sistema, $T$. \n",
    "La posibilidad de elegir un estado peor al actual es lo que le permite a SA salir de óptimos locales para poder llegar a los óptimos globales. La probabilidad de aceptar elegir un peor estado normalmente se calcula por la fórmula:\n",
    "\n",
    "$$P(∆f, T) = e^{∆f/T}$$\n",
    "\n",
    "Una cualidad de SA es que la temperatura va disminuyendo gradualmente conforme avanza la simulación. Al principio del proceso la temperatura se inicializa a un valor bastante alto, de esta forma, la probabilidad de poder aceptar peores soluciones es alta. Esto permite explorar un amplio espacio de soluciones y evitar quedar atrapado en un optimo local.\n",
    "\n",
    "Según pasan las iteraciones, la temperatura desciende, disminuyendo la probabilidad de que se acepte una solución peor a la actual, por lo que deja de explorar y comienza a intensificar la búsqueda para que se produzca la convergencia hacia la solución óptima. Es decir, se hace más selectiva la aceptación de una nueva solución y al final, sólo se aceptan movimientos que mejoran la solución actual."
   ]
  },
  {
   "cell_type": "markdown",
   "metadata": {},
   "source": [
    "El siguiente pseudocódigo representa una versión general del algoritmo de enfriamiento simulado:"
   ]
  },
  {
   "cell_type": "code",
   "execution_count": null,
   "metadata": {},
   "outputs": [],
   "source": [
    "s = GeneraUnaSolucionInicial()\n",
    "T = T_0\n",
    "g = 0\n",
    "while(CondicionesParadaNoActivas(g, T)):\n",
    "    s1 = TomaUnVecinoAleatorioDe(s) #s1 es s'\n",
    "    if f(s1)<f(s):\n",
    "        s = s1\n",
    "    else:\n",
    "        if Random(0,1.0)<exp((f(s)-f(s1))/T):\n",
    "            s = s1\n",
    "    g = g+1\n",
    "    T = Actualiza(g, T)"
   ]
  },
  {
   "cell_type": "markdown",
   "metadata": {},
   "source": [
    "## Soluciones"
   ]
  },
  {
   "cell_type": "markdown",
   "metadata": {},
   "source": [
    "Para resolver el problema de las n reinas, vamos a plantearlo como un problema de optimización en el que se busca minimizar el número de colisiones de las n reinas en el tablero. Para resolverlo proponemos dos implementaciones del algoritmo de enfriamiento simulado, que se diferencian en el espacio de búsqueda y en la codificación de las soluciones:\n",
    "- A1)  En esta solución consideramos todo el espacio de búsqueda, es decir, todas las posibles configuraciones del tablero con $n$ reinas en él. \n",
    "- A2) En este caso tenemos en cuenta que por necesidad debe haber una reina en cada fila y otra en cada columna, y codificamos las soluciones como permutaciones de $n$ elementos, reduciendo el espacio de soluciones de un cardinal de $(n^2)^n$ a uno de $n!$. \n",
    "\n",
    "Para cada una de ellas se exploran distintas elecciones de parámetros y los resultados que se obtienen."
   ]
  },
  {
   "cell_type": "code",
   "execution_count": 1,
   "metadata": {},
   "outputs": [],
   "source": [
    "from random import random, randint\n",
    "import bisect\n",
    "import numpy as np\n",
    "import matplotlib.pyplot as plt\n",
    "from pylab import *"
   ]
  },
  {
   "cell_type": "markdown",
   "metadata": {},
   "source": [
    "## Caso A1) Consideramos todas las posibles configuraciones del tablero con n reinas."
   ]
  },
  {
   "cell_type": "markdown",
   "metadata": {},
   "source": [
    "### Codificación de las soluciones"
   ]
  },
  {
   "cell_type": "markdown",
   "metadata": {},
   "source": [
    "Codificaremos las soluciones como listas de 9 posiciones, siendo cada posición una tupla de 2 elementos. Para evitar redundancia en la codificación, se impone que esa lista esté ordenada (lexicográficamente), y para evitar soluciones no factibles, se prohiben los elementos repetidos en una lista."
   ]
  },
  {
   "cell_type": "markdown",
   "metadata": {},
   "source": [
    "### Función objetivo"
   ]
  },
  {
   "cell_type": "markdown",
   "metadata": {},
   "source": [
    "La función objetivo a minimizar será el número de colisiones entre reinas, es decir, el número de pares distintos de reinas que están en la misma diagonal. La siguiente función implementa el cálcula de esa función de fitness:"
   ]
  },
  {
   "cell_type": "code",
   "execution_count": 2,
   "metadata": {},
   "outputs": [],
   "source": [
    "def num_collisions(positions):\n",
    "    \n",
    "    if positions==[]:\n",
    "        return 0\n",
    "    else:\n",
    "        queen, positions2 = positions[0], positions[1:]\n",
    "        num_colls = 0\n",
    "        for queen2 in positions2:\n",
    "            if collision(queen,queen2):\n",
    "                num_colls += 1\n",
    "        return num_colls + num_collisions(positions2)\n",
    "    \n",
    "def collision(queen1,queen2):\n",
    "    i1,j1 = queen1\n",
    "    i2,j2 = queen2\n",
    "    \n",
    "    if i1==i2 or j1==j2 or i1-j1==i2-j2 or i1+j1==i2+j2: # same row, same column, same descending diagonal, same ascending diagonal\n",
    "        return True\n",
    "    else:\n",
    "        return False"
   ]
  },
  {
   "cell_type": "markdown",
   "metadata": {},
   "source": [
    "### Entorno de un punto en el espacio de búsqueda"
   ]
  },
  {
   "cell_type": "markdown",
   "metadata": {},
   "source": [
    "Proponemos los siguientes entornos para una solución:"
   ]
  },
  {
   "cell_type": "markdown",
   "metadata": {},
   "source": [
    "El primero, las soluciones obtenidas al mover una reina una posición en cualquier dirección."
   ]
  },
  {
   "cell_type": "code",
   "execution_count": 3,
   "metadata": {},
   "outputs": [],
   "source": [
    "moves = [(0,1),(0,-1),(1,0),(-1,0),(1,1),(1,-1),(-1,1),(-1,-1)]\n",
    "\n",
    "def oneRandomMove(sol,n):\n",
    "    i = randint(0,n-1) # random index\n",
    "    qx,qy = sol[i] # queen with that random index\n",
    "    new_sol = sol[:i] + sol[i+1:] # copy of previous list of queens without selected one\n",
    "    indexes = np.random.permutation(8) # indexes 0..7 in random order\n",
    "    for j in indexes:\n",
    "        mx,my = moves[j] # random move\n",
    "        nqx,nqy = qx+mx, qy+my\n",
    "        if 0<nqx and 0 < nqy and n >= nqx and n>=nqy: # move does not take the queen out of the board\n",
    "            new_pos = nqx,nqy\n",
    "            k = bisect.bisect(new_sol, new_pos)\n",
    "            if i==0 or new_sol[i-1] != new_pos: # new position is not occupied by another queen\n",
    "                bisect.insort(new_sol,new_pos) # new position inserted, maintaining order in the list\n",
    "                return new_sol"
   ]
  },
  {
   "cell_type": "markdown",
   "metadata": {},
   "source": [
    "El segundo, las soluciones obtenidas al recolocar una reina en una posición aleatoria del tablero."
   ]
  },
  {
   "cell_type": "code",
   "execution_count": 4,
   "metadata": {},
   "outputs": [],
   "source": [
    "def oneRandomRelocation(sol,n):\n",
    "    i = randint(0,n-1) # random index\n",
    "    new_sol = sol[:i] + sol[i+1:] # list of queens without the one with that random index\n",
    "    while True: # until the new position is valid\n",
    "        new_pos = randint(1,n), randint(1,n) # new position\n",
    "        i = bisect.bisect(new_sol, new_pos)\n",
    "        if i==0 or new_sol[i-1] != new_pos: # new position is not occupied by another queen\n",
    "            bisect.insort(new_sol,new_pos)\n",
    "            return new_sol"
   ]
  },
  {
   "cell_type": "markdown",
   "metadata": {},
   "source": [
    "Es fácil observar que ambas alternativas pueden quedarse atascadas en mínimos locales. Por ejemplo, si tenemos una solución sólo con un conflicto diagonal (con una reina en cada fila y columna), cambiar una sóla reina de sitio nunca mejorará el fitness, sea cual sea la posición del tablero a la que se mueva, ya que o bien se mueve a una fila o columna ocupadas, y sigue habiendo un conflicto, o se queda dónde esta, en la única fila y columna libres. Aún así hemos decidido mantener esta elección de entornos.\n",
    "\n",
    "Por otro lado, tanto las alternativas propuestas como cualquier otra basada en mover reinas aleatorias, pueden mejorarse dando mayor probabilidad de ser movidas a las reinas que están en situación de colisión. Hemos optado por no implementar esta mejora, y no hacer depender la elección de una solución vecina del fitness de la solución actual."
   ]
  },
  {
   "cell_type": "markdown",
   "metadata": {},
   "source": [
    "### Valor inicial de la temperatura"
   ]
  },
  {
   "cell_type": "markdown",
   "metadata": {},
   "source": [
    "La temperatura debe ser tal en el proceso que permita una adecuada exploración en las diferentes etapas del enfriamiento simulado. Nosotros partiremos de un valor inicial de temperatura estándar de 0.9 y de otros valores iniciales experimentales y trataremos de obtener empíricamente la temperatura inicial adecuada"
   ]
  },
  {
   "cell_type": "markdown",
   "metadata": {},
   "source": [
    "### Variación de la temperatura"
   ]
  },
  {
   "cell_type": "markdown",
   "metadata": {},
   "source": [
    "Como método de actualización de la temperatura usaremos el propuesto en las diapositivas de la asignatura, con parámetros $L=10,~ \\alpha = 0.95$"
   ]
  },
  {
   "cell_type": "code",
   "execution_count": 5,
   "metadata": {},
   "outputs": [],
   "source": [
    "def updateTempStandard(T,i,L=10,alpha=0.95):\n",
    "    if i%10 == 0:\n",
    "        newT = 0.95*T\n",
    "    else:\n",
    "        newT = T\n",
    "    return newT"
   ]
  },
  {
   "cell_type": "markdown",
   "metadata": {},
   "source": [
    "### Probabilidad de aceptación de nuevas soluciones"
   ]
  },
  {
   "cell_type": "markdown",
   "metadata": {},
   "source": [
    "Como probabilidad de aceptación de soluciones que no mejoran el fitness proponemos la estándar (distribución de Boltzam):"
   ]
  },
  {
   "cell_type": "code",
   "execution_count": 6,
   "metadata": {},
   "outputs": [],
   "source": [
    "from math import exp\n",
    "\n",
    "def prob_aceptacion_standard(f1,f,T):\n",
    "    x = -(f1-f)/T # < 0, ya que se supone que f1 > f\n",
    "    return exp(x)"
   ]
  },
  {
   "cell_type": "markdown",
   "metadata": {},
   "source": [
    "### Criterio de parada"
   ]
  },
  {
   "cell_type": "markdown",
   "metadata": {},
   "source": [
    "Se pueden usar varios criterios de parada:\n",
    "    \n",
    "- Parar si se ha encontrado la solución óptima     \n",
    "- Fijar un número determinado de niveles de temperatura, usualmente entre 6 y 50. \n",
    "- Terminar el procesos si la función objetivo no mejora para varios niveles consecutivos. \n",
    "- Parar si no se cumple con un número mínimo de aceptaciones en el nivel de temperatura."
   ]
  },
  {
   "cell_type": "markdown",
   "metadata": {},
   "source": [
    "En nuestro cosas usaremos el primer criterio, ya que sabemos que existe la solución óptima y pretendemos encontrarla. Para evitar iterar indefinidamente en el caso de óptimos locales durante la etapa de experimentación y ajuste de parámetros, pararemos también el algoritmo pasado un número muy alto de iteraciones"
   ]
  },
  {
   "cell_type": "markdown",
   "metadata": {},
   "source": [
    "### Configuración inicial"
   ]
  },
  {
   "cell_type": "markdown",
   "metadata": {},
   "source": [
    "De la configuración inicial depende la velocidad y eficiencia del algortimo para encontrar una solución. Cuanto menos colisiones iniciales haya, más rápido se alcanzará la solución. Aunque existen estrategias para inicializar la configuración de tal manera que se reduzca el número de colisiones al comienzo del proceso, nosotros proponemos una sencilla inicialización aleatoria, en la que a cada reina se le asigna una posición aleatoria en el tablero (sin repetir posiciones para que sea factible):"
   ]
  },
  {
   "cell_type": "code",
   "execution_count": 7,
   "metadata": {},
   "outputs": [],
   "source": [
    "def initialSolRandom(n):\n",
    "    sol = []\n",
    "    while len(sol) < n:\n",
    "        new_pos = randint(1,n), randint(1,n) # posición aleatoria\n",
    "        i = bisect.bisect(sol, new_pos) # indice de la nueva posición en la lista de posiciones ordenadas\n",
    "        if i==0 or sol[i-1] != new_pos: # posición repetida\n",
    "            bisect.insort(sol,new_pos)\n",
    "    \n",
    "    return sol"
   ]
  },
  {
   "cell_type": "markdown",
   "metadata": {},
   "source": [
    "### Algoritmo"
   ]
  },
  {
   "cell_type": "code",
   "execution_count": 8,
   "metadata": {},
   "outputs": [],
   "source": [
    "def queens(n):\n",
    "    sol = initialSol(n)\n",
    "    f = fitness(sol,n)\n",
    "    best_sol = sol\n",
    "    best_f = f\n",
    "    T = initialTemp()      \n",
    "    temp=[T] \n",
    "    fit= [f]\n",
    "    i=1  \n",
    "    pos=[i]\n",
    "    while not criterio_parada(best_f,i):\n",
    "        new_sol = random_neighbor(sol,n)\n",
    "        new_f = fitness(new_sol,n)\n",
    "        if new_f < f:\n",
    "            sol = new_sol\n",
    "            f = new_f\n",
    "            if f < best_f:\n",
    "                best_sol=sol\n",
    "                best_f = f\n",
    "        else:\n",
    "            u = random()\n",
    "            p = prob_aceptacion(new_f,f,T)\n",
    "            if p > u:\n",
    "                sol = new_sol\n",
    "                f = new_f         \n",
    "        T = update_temp(T,i)       \n",
    "       \n",
    "        temp.append(T)\n",
    "        pos.append(i)\n",
    "        fit.append(f)\n",
    "    \n",
    "        i += 1        \n",
    "        \n",
    "    return sol, temp, pos, fit"
   ]
  },
  {
   "cell_type": "markdown",
   "metadata": {},
   "source": [
    "### Resultados"
   ]
  },
  {
   "cell_type": "markdown",
   "metadata": {},
   "source": [
    "Primero probamos el algoritmo con las codificaciones y entornos propuestos y los parámetros estandar:"
   ]
  },
  {
   "cell_type": "code",
   "execution_count": 9,
   "metadata": {},
   "outputs": [],
   "source": [
    "initialSol=initialSolRandom\n",
    "fitness = lambda x, _ : num_collisions(x)\n",
    "initialTemp = lambda : 0.9\n",
    "criterio_parada = lambda f,i : f==0 or i > 10000\n",
    "random_neighbor = oneRandomMove\n",
    "update_temp = updateTempStandard\n",
    "prob_aceptacion = prob_aceptacion_standard"
   ]
  },
  {
   "cell_type": "code",
   "execution_count": 10,
   "metadata": {},
   "outputs": [
    {
     "name": "stdout",
     "output_type": "stream",
     "text": [
      "[(1, 9), (2, 3), (2, 3), (4, 2), (5, 8), (6, 6), (7, 4), (8, 7), (9, 5)]\n",
      "1\n",
      "10001\n"
     ]
    }
   ],
   "source": [
    "sol, temp, pos, fit = queens(9)\n",
    "print(sol)\n",
    "print(fit[-1]) # final fitness\n",
    "print(len(fit)) # number iterations"
   ]
  },
  {
   "cell_type": "markdown",
   "metadata": {},
   "source": [
    "Se muestra en el gráfico siguiente la evolución del valor de la función fitness a lo largo de las iteraciones."
   ]
  },
  {
   "cell_type": "code",
   "execution_count": 11,
   "metadata": {},
   "outputs": [
    {
     "data": {
      "image/png": "[encoded data removed]",
      "text/plain": [
       "<Figure size 1080x720 with 1 Axes>"
      ]
     },
     "metadata": {},
     "output_type": "display_data"
    }
   ],
   "source": [
    "from pylab import *\n",
    "\n",
    "plt.figure(figsize=(15, 10))\n",
    "plt.plot(pos, fit)\n",
    "\n",
    "# Añado una malla al gráfico\n",
    "grid()\n",
    "\n",
    "title('Evolución de la función fitness')\n",
    "xlabel('Iteraciones')\n",
    "ylabel('fitness')\n",
    "plt.show()"
   ]
  },
  {
   "cell_type": "markdown",
   "metadata": {},
   "source": [
    "En el siguiente gráfico se muestra la evolución del parámetro temperatura en las diferentes iteraciones."
   ]
  },
  {
   "cell_type": "code",
   "execution_count": 12,
   "metadata": {},
   "outputs": [
    {
     "data": {
      "image/png": "[encoded data removed]",
      "text/plain": [
       "<Figure size 1080x720 with 1 Axes>"
      ]
     },
     "metadata": {},
     "output_type": "display_data"
    }
   ],
   "source": [
    "plt.figure(figsize=(15, 10))\n",
    "plt.plot(pos, temp)\n",
    "# Añado una malla al gráfico\n",
    "grid()\n",
    "\n",
    "title('Evolución de la temperatura')\n",
    "xlabel('Iteraciones')\n",
    "ylabel('Temperatura')\n",
    "plt.show()"
   ]
  },
  {
   "cell_type": "markdown",
   "metadata": {},
   "source": [
    "Observamos que no se ha alcanzado la solución óptima y que se ha alcanzado el número máximo de iteraciones. Esto es debido a que se ha caído en un mínimo local (ninguna solución del entorno propuesto de la solucion obtenida mejora el fitness) cuando la temperatura ya es demasiado baja como para que la probabilidad de aceptación (exponencialmente baja) permita escapar de él. Antes de intentar resolverlo refinando los parámetros de temperatura, comprobamos si el otro entorno de soluciones propuesto también sufre el mismo problema:"
   ]
  },
  {
   "cell_type": "code",
   "execution_count": 13,
   "metadata": {},
   "outputs": [
    {
     "name": "stdout",
     "output_type": "stream",
     "text": [
      "[(1, 2), (2, 6), (2, 7), (4, 3), (5, 1), (6, 8), (7, 4), (7, 5), (8, 8)]\n",
      "3\n",
      "10001\n"
     ]
    }
   ],
   "source": [
    "random_neighbor = oneRandomRelocation\n",
    "sol, temp, pos, fit = queens(9)\n",
    "print(sol)\n",
    "print(fit[-1]) # final fitness\n",
    "print(len(fit)) # number iterations"
   ]
  },
  {
   "cell_type": "code",
   "execution_count": 14,
   "metadata": {},
   "outputs": [
    {
     "data": {
      "image/png": "[encoded data removed]",
      "text/plain": [
       "<Figure size 1080x720 with 1 Axes>"
      ]
     },
     "metadata": {},
     "output_type": "display_data"
    }
   ],
   "source": [
    "plt.figure(figsize=(15, 10))\n",
    "plt.plot(pos, fit)\n",
    "\n",
    "# Añado una malla al gráfico\n",
    "grid()\n",
    "\n",
    "title('Evolución de la función fitness')\n",
    "xlabel('Iteraciones')\n",
    "ylabel('fitness')\n",
    "plt.show()"
   ]
  },
  {
   "cell_type": "code",
   "execution_count": 15,
   "metadata": {},
   "outputs": [
    {
     "data": {
      "image/png": "[encoded data removed]",
      "text/plain": [
       "<Figure size 1080x720 with 1 Axes>"
      ]
     },
     "metadata": {},
     "output_type": "display_data"
    }
   ],
   "source": [
    "plt.figure(figsize=(15, 10))\n",
    "plt.plot(pos, temp)\n",
    "# Añado una malla al gráfico\n",
    "grid()\n",
    "\n",
    "title('Evolución de la temperatura')\n",
    "xlabel('Iteraciones')\n",
    "ylabel('Temperatura')\n",
    "plt.show()"
   ]
  },
  {
   "cell_type": "markdown",
   "metadata": {},
   "source": [
    "Ejecutando varias veces el algoritmo observamos que en este caso no se caen en mínimos locales. Como se ha comentado anteriormente, con el nuevo entorno propuesto también se puede caer en mínimos locales, pero en este caso es menos probable (hay menos mínimos locales con el entorno dado) y por eso se alcanza la solución óptima. A continuación probamos con el entorno anterior, modificando los parámetros de temperatura:"
   ]
  },
  {
   "cell_type": "code",
   "execution_count": 16,
   "metadata": {},
   "outputs": [
    {
     "name": "stdout",
     "output_type": "stream",
     "text": [
      "[(3, 3), (4, 9), (5, 6), (6, 2), (6, 2), (7, 5), (8, 1), (9, 8), (9, 8)]\n",
      "2\n",
      "10001\n"
     ]
    }
   ],
   "source": [
    "random_neighbor = oneRandomMove\n",
    "update_temp = lambda T,i : updateTempStandard(T,i,L=100, alpha=0.99)\n",
    "sol, temp, pos, fit = queens(9)\n",
    "print(sol)\n",
    "print(fit[-1]) # final fitness\n",
    "print(len(fit)) # number iterations"
   ]
  },
  {
   "cell_type": "code",
   "execution_count": 17,
   "metadata": {},
   "outputs": [
    {
     "data": {
      "image/png": "[encoded data removed]",
      "text/plain": [
       "<Figure size 1080x720 with 1 Axes>"
      ]
     },
     "metadata": {},
     "output_type": "display_data"
    }
   ],
   "source": [
    "plt.figure(figsize=(15, 10))\n",
    "plt.plot(pos, fit)\n",
    "\n",
    "# Añado una malla al gráfico\n",
    "grid()\n",
    "\n",
    "title('Evolución de la función fitness')\n",
    "xlabel('Iteraciones')\n",
    "ylabel('fitness')\n",
    "plt.show()"
   ]
  },
  {
   "cell_type": "code",
   "execution_count": 18,
   "metadata": {},
   "outputs": [
    {
     "data": {
      "image/png": "[encoded data removed]",
      "text/plain": [
       "<Figure size 1080x720 with 1 Axes>"
      ]
     },
     "metadata": {},
     "output_type": "display_data"
    }
   ],
   "source": [
    "plt.figure(figsize=(15, 10))\n",
    "plt.plot(pos, temp)\n",
    "# Añado una malla al gráfico\n",
    "grid()\n",
    "\n",
    "title('Evolución de la temperatura')\n",
    "xlabel('Iteraciones')\n",
    "ylabel('Temperatura')\n",
    "plt.show()"
   ]
  },
  {
   "cell_type": "markdown",
   "metadata": {},
   "source": [
    "Observamos que no se soluciona el problema, y concluímos que el con ese entorno el algoritmo no es suficientemente explorativo"
   ]
  },
  {
   "cell_type": "markdown",
   "metadata": {},
   "source": [
    "## Caso A2) Tenemos en cuenta que debe haber una reina en cada fila y otra en cada columna, y consideramos sólo soluciones que cumplan esa propiedad."
   ]
  },
  {
   "cell_type": "markdown",
   "metadata": {},
   "source": [
    "### Codificación de las soluciones"
   ]
  },
  {
   "cell_type": "markdown",
   "metadata": {},
   "source": [
    "Puesto que dos reinas colisionan cuando están en la misma columna, fila o diagonal esto significa que el problema a solucionar pasar por evitar que las reinas vayan en una misma fila. Al tratarse de $n$ reinas en un tablero de $n \\times n$, esto significa que cada reina va en una de las filas del tablero, y sin perdida de generalidad se puede suponer que la reina $k$ se sitúa en la fila $k$. Del mismo modo, cada reina se tendrá que colocar en una columna diferente, y por lo tanto la función que asigna a la reina $i$ la columna $j$ en la que está situada es una biyección. Esto nos permite codificar las soluciones como biyecciones o permutaciones de $n$ elementos, reduciendo el espacio de búsqueda de un cardinal del orden de $(n^2)^n$ a uno de $n!$, y preocuparnos unícamente por las colisiones diagonales entre reinas.\n",
    "\n",
    "Estas permutaciones o biyecciones las representamos como listas de $n$ elementos, donde el el elemento i-ésimo representa la columna en la que la reina de la fila $i$ esta situada. Por ejemplo, la permutación $(1,3,6,5,4,8,2,9,7)$ codificaría la solución con una reina en la fila 1 y columna 1, otra en la fila 2 y columna 3, otra en la fila 3 y columna 6, y así sucesivamente hasta una última reina en la fila 9 y columna 7. "
   ]
  },
  {
   "cell_type": "markdown",
   "metadata": {},
   "source": [
    "![imagen](./CaptureR.PNG)"
   ]
  },
  {
   "cell_type": "markdown",
   "metadata": {},
   "source": [
    "### Función objetivo"
   ]
  },
  {
   "cell_type": "markdown",
   "metadata": {},
   "source": [
    "La función objetivo a minimizar será de nuevo el número de colisiones entre reinas, solo que en esta ocasión sólo necesitamos preocuparnos de las colisiones diagonales:"
   ]
  },
  {
   "cell_type": "code",
   "execution_count": 19,
   "metadata": {},
   "outputs": [],
   "source": [
    "def num_collisions_perm(columns,n):\n",
    "    \n",
    "    positions = [(i+1,columns[i]) for i in range(n)]\n",
    "    \n",
    "    num_colls = 0\n",
    "    \n",
    "    for i in range(n):\n",
    "        for j in range(i+1,n):\n",
    "            queen1 = positions[i]\n",
    "            queen2 = positions[j]\n",
    "    \n",
    "            if collision_perm(queen1,queen2):\n",
    "                num_colls += 1\n",
    "    return num_colls\n",
    "    \n",
    "def collision_perm(queen1,queen2):\n",
    "    i1,j1 = queen1\n",
    "    i2,j2 = queen2\n",
    "    \n",
    "    if i1-j1==i2-j2 or i1+j1==i2+j2:\n",
    "        return True\n",
    "    else:\n",
    "        return False"
   ]
  },
  {
   "cell_type": "markdown",
   "metadata": {},
   "source": [
    "### Entorno de un punto en el espacio de búsqueda"
   ]
  },
  {
   "cell_type": "markdown",
   "metadata": {},
   "source": [
    "Proponemos el siguiente entorno para una solución: aquellas configuraciones obtenidas a través del intercambio de columnas entre dos reinas, es decir, transponiendo dos elementos cualesquiera de la permutación."
   ]
  },
  {
   "cell_type": "code",
   "execution_count": 20,
   "metadata": {},
   "outputs": [],
   "source": [
    "def oneRandomTransposition(permutation,n):\n",
    "    new_sol = permutation[:] # copy\n",
    "    i = randint(0,n-1)\n",
    "    j = randint(0,n-1)\n",
    "    new_sol[i] = permutation[j]\n",
    "    new_sol[j] = permutation[i]\n",
    "    return new_sol\n",
    "\n",
    "# TODO: impedir transposiciones triviales (i==j). Suceden con probabilidad 1/n"
   ]
  },
  {
   "cell_type": "markdown",
   "metadata": {},
   "source": [
    "De nuevo, el algoritmo podría mejorarse dando mayor probabilidad a las reinas que están en colisión."
   ]
  },
  {
   "cell_type": "markdown",
   "metadata": {},
   "source": [
    "### Configuración inicial"
   ]
  },
  {
   "cell_type": "markdown",
   "metadata": {},
   "source": [
    "Como configuración inicial, usaremos simplemente una permutación aleatoria:"
   ]
  },
  {
   "cell_type": "code",
   "execution_count": 21,
   "metadata": {},
   "outputs": [],
   "source": [
    "def initialSolRandom(n):\n",
    "    np_sol = np.random.permutation(n) + 1\n",
    "    return list(np_sol)"
   ]
  },
  {
   "cell_type": "markdown",
   "metadata": {},
   "source": [
    "### Otros parámetros"
   ]
  },
  {
   "cell_type": "markdown",
   "metadata": {},
   "source": [
    "Los demás parámetros del algoritmo, es decir, la temperatura inicial y su variación, la probabilidad de aceptación y el criterio de parada, serán los mismos considerados en el apartado anterior"
   ]
  },
  {
   "cell_type": "markdown",
   "metadata": {},
   "source": [
    "### Resultados"
   ]
  },
  {
   "cell_type": "markdown",
   "metadata": {},
   "source": [
    "Para probar la implementación del algoritmo se ha resuelto el problema de las N reinas para distintos valores de N. Para cada tablero se ha lanzado 5 veces el programa. "
   ]
  },
  {
   "cell_type": "code",
   "execution_count": 22,
   "metadata": {},
   "outputs": [],
   "source": [
    "initialSol=initialSolRandom\n",
    "fitness = num_collisions_perm\n",
    "initialTemp = lambda : 0.9\n",
    "criterio_parada = lambda f,i : f==0 or i > 10000\n",
    "random_neighbor = oneRandomTransposition\n",
    "update_temp = updateTempStandard\n",
    "prob_aceptacion = prob_aceptacion_standard"
   ]
  },
  {
   "cell_type": "code",
   "execution_count": 23,
   "metadata": {},
   "outputs": [],
   "source": [
    "sol, temp, pos, fit = queens(9)"
   ]
  },
  {
   "cell_type": "code",
   "execution_count": 24,
   "metadata": {},
   "outputs": [
    {
     "data": {
      "text/plain": [
       "[1, 5, 7, 9, 4, 2, 8, 6, 3]"
      ]
     },
     "execution_count": 24,
     "metadata": {},
     "output_type": "execute_result"
    }
   ],
   "source": [
    "sol"
   ]
  },
  {
   "cell_type": "code",
   "execution_count": 25,
   "metadata": {},
   "outputs": [
    {
     "data": {
      "text/plain": [
       "0"
      ]
     },
     "execution_count": 25,
     "metadata": {},
     "output_type": "execute_result"
    }
   ],
   "source": [
    "fit[-1]"
   ]
  },
  {
   "cell_type": "markdown",
   "metadata": {},
   "source": [
    "Se muestra en el gráfico siguiente la evolución del valor de la función fitness a lo largo de las iteraciones."
   ]
  },
  {
   "cell_type": "code",
   "execution_count": 26,
   "metadata": {},
   "outputs": [
    {
     "data": {
      "image/png": "[encoded data removed]",
      "text/plain": [
       "<Figure size 1080x720 with 1 Axes>"
      ]
     },
     "metadata": {},
     "output_type": "display_data"
    }
   ],
   "source": [
    "plt.figure(figsize=(15, 10))\n",
    "plt.plot(pos, fit)\n",
    "\n",
    "# Añado una malla al gráfico\n",
    "grid()\n",
    "\n",
    "title('Evolución de la función fitness')\n",
    "xlabel('Iteraciones')\n",
    "ylabel('fitness')\n",
    "plt.show()"
   ]
  },
  {
   "cell_type": "markdown",
   "metadata": {},
   "source": [
    "En el siguiente gráfico se muestra la evolución del parámetro temperatura en las diferentes iteraciones."
   ]
  },
  {
   "cell_type": "code",
   "execution_count": 27,
   "metadata": {},
   "outputs": [
    {
     "data": {
      "image/png": "[encoded data removed]",
      "text/plain": [
       "<Figure size 1080x720 with 1 Axes>"
      ]
     },
     "metadata": {},
     "output_type": "display_data"
    }
   ],
   "source": [
    "plt.figure(figsize=(15, 10))\n",
    "plt.plot(pos, temp)\n",
    "# Añado una malla al gráfico\n",
    "grid()\n",
    "\n",
    "title('Evolución de la temperatura')\n",
    "xlabel('Iteraciones')\n",
    "ylabel('Temperatura')\n",
    "plt.show()"
   ]
  },
  {
   "cell_type": "markdown",
   "metadata": {},
   "source": [
    "En este caso hemos conseguido alcanzar fitness = 0 en menos de 200 iteraciones."
   ]
  },
  {
   "cell_type": "code",
   "execution_count": null,
   "metadata": {
    "collapsed": true
   },
   "outputs": [],
   "source": []
  }
 ],
 "metadata": {
  "kernelspec": {
   "display_name": "Python 3",
   "language": "python",
   "name": "python3"
  },
  "language_info": {
   "codemirror_mode": {
    "name": "ipython",
    "version": 3
   },
   "file_extension": ".py",
   "mimetype": "text/x-python",
   "name": "python",
   "nbconvert_exporter": "python",
   "pygments_lexer": "ipython3",
   "version": "3.6.7"
  }
 },
 "nbformat": 4,
 "nbformat_minor": 2
}
