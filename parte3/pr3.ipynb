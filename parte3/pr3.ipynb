{
 "cells": [
  {
   "cell_type": "markdown",
   "metadata": {},
   "source": [
    "# Práctica Métodos de Simulación - Parte 3"
   ]
  },
  {
   "cell_type": "markdown",
   "metadata": {},
   "source": [
    "## Elena Rivas, Teresa Grau, Ignacio Casso"
   ]
  },
  {
   "cell_type": "markdown",
   "metadata": {},
   "source": [
    "## Enunciado"
   ]
  },
  {
   "cell_type": "markdown",
   "metadata": {},
   "source": [
    "**Enfriamiento simulado. El problema de las n reinas.**\n",
    "\n",
    "El problema de las n-reinas consiste en colocar n reinas en un tablero de ajedrez de\n",
    "n x n de tal manera que no sea posible que dos reinas se capturen entre si, es decir,\n",
    "que no estén en la misma fila, ni en la misma columna ni en la misma diagonal. Se\n",
    "dice que hay una colisión si hay dos reinas que se pueden capturar entre si.\n",
    "\n",
    "Se trata pues de encontrar una configuración (elegir las n celdas donde colocar a las\n",
    "reinas) que minimice el número total de colisiones. Obtener la solución óptima para\n",
    "n=9.\n",
    "\n",
    "Mostrar gráficamente la evolución del valor de la función fitness y del parámetro\n",
    "temperatura considerados a lo largo de las iteraciones de la metaheurı́stica."
   ]
  },
  {
   "cell_type": "markdown",
   "metadata": {},
   "source": [
    "## Solución"
   ]
  },
  {
   "cell_type": "markdown",
   "metadata": {},
   "source": [
    "Proponemos dos implementaciones distintas para el algoritmo de enfraimiento simulado, que se diferencian en el espacio de búsqueda y en la codificación de las soluciones. En la primera consideramos todo el espacio de búsqueda, es dicir, todas las posibles configuraciones del tablero con $n$ reinas en él. En la segunda, observamos que por necesidad debe haber una reina en cada fila y otra en cada columna, y codificamos las soluciones como permutaciones de $n$ elementos, reduciendo el espacio de soluciones de un cardinal de $(n^2)^n$ a uno de $n!$. Para cada una de ellas se exploran distintas elecciones de parámetros."
   ]
  },
  {
   "cell_type": "code",
   "execution_count": 111,
   "metadata": {},
   "outputs": [],
   "source": [
    "from random import random, randint"
   ]
  },
  {
   "cell_type": "markdown",
   "metadata": {},
   "source": [
    "## Primera Solución"
   ]
  },
  {
   "cell_type": "markdown",
   "metadata": {},
   "source": [
    "### Codificación de las soluciones"
   ]
  },
  {
   "cell_type": "markdown",
   "metadata": {},
   "source": [
    "Codificaremos las soluciones como listas de 9 posiciones, siendo cada posición una tupla de 2 elementos. Para evitar redundancia en la codificación, se impone que esa lista esté ordenada (lexicográficamente), y para evitar soluciones no factibles, se prohiben los elementos repetidos en una lista."
   ]
  },
  {
   "cell_type": "markdown",
   "metadata": {},
   "source": [
    "### Función objetivo"
   ]
  },
  {
   "cell_type": "markdown",
   "metadata": {},
   "source": [
    "La función objetivo a minimizar será el número de colisiones entre reinas."
   ]
  },
  {
   "cell_type": "code",
   "execution_count": 92,
   "metadata": {},
   "outputs": [],
   "source": [
    "def num_collisions(positions):\n",
    "    \n",
    "    if positions==[]:\n",
    "        return 0\n",
    "    else:\n",
    "        queen, positions2 = positions[0], positions[1:]\n",
    "        num_colls = 0\n",
    "        for queen2 in positions2:\n",
    "            if collision(queen,queen2):\n",
    "                num_colls += 1\n",
    "        return num_colls + num_collisions(positions2)\n",
    "    \n",
    "def collision(queen1,queen2):\n",
    "    i1,j1 = queen1\n",
    "    i2,j2 = queen2\n",
    "    \n",
    "    if i1==i2 or j1==j2 or abs(i1-i2)==abs(j1-j2):\n",
    "        return True\n",
    "    else:\n",
    "        return False"
   ]
  },
  {
   "cell_type": "code",
   "execution_count": 93,
   "metadata": {},
   "outputs": [],
   "source": [
    "def numCollisionsFitness(sol,n):\n",
    "    return num_collisions(sol)"
   ]
  },
  {
   "cell_type": "markdown",
   "metadata": {},
   "source": [
    "Otras funcione objetivos posibles podrían ser... **TODO**"
   ]
  },
  {
   "cell_type": "markdown",
   "metadata": {},
   "source": [
    "### Entorno de un punto en el espacio de bísqueda"
   ]
  },
  {
   "cell_type": "markdown",
   "metadata": {},
   "source": [
    "Proponemos los siguientes entornos para una solución:"
   ]
  },
  {
   "cell_type": "markdown",
   "metadata": {},
   "source": [
    "La primera, las soluciones obtenidas al mover una reina una posición en cualquier dirección."
   ]
  },
  {
   "cell_type": "code",
   "execution_count": 139,
   "metadata": {},
   "outputs": [],
   "source": [
    "moves = [(0,1),(0,-1),(1,0),(-1,0),(1,1),(1,-1),(-1,1),(-1,-1)]\n",
    "\n",
    "def oneMoveRandomNeighbor(sol,n):\n",
    "    queens = sol[:] # copy\n",
    "    i = randint(0,n-1)\n",
    "    j = randint(0,7)\n",
    "    qx,qy = queens[i]\n",
    "    mx,my = moves[j]\n",
    "    nqx,nqy = qx+mx, qy+my\n",
    "    if 0<nqx and 0 < nqy and n >= nqx and n>=nqy:\n",
    "        new_queen = (nqx,nqy)\n",
    "    else:\n",
    "        new_queen = qx,qy\n",
    "    queens[i] = new_queen\n",
    "    return queens\n",
    "\n",
    "# TODO: seleccionar otro movimiento si el elegido te saca del tablero\n",
    "# TODO: ordenar solución y asegurarse de que es factible (no hay dos reinas en la misma posición)\n",
    "# Por ahora no lo hacemos, ya que funciona aún así"
   ]
  },
  {
   "cell_type": "markdown",
   "metadata": {},
   "source": [
    "**TODO:** Otras alternativas"
   ]
  },
  {
   "cell_type": "markdown",
   "metadata": {},
   "source": [
    "### Vaior inicial de la temperatura"
   ]
  },
  {
   "cell_type": "markdown",
   "metadata": {},
   "source": [
    "Proponemos los siguientes valores iniciales de temperatura:"
   ]
  },
  {
   "cell_type": "code",
   "execution_count": 97,
   "metadata": {},
   "outputs": [],
   "source": [
    "def standardInitialTemp():\n",
    "    return 0.9"
   ]
  },
  {
   "cell_type": "markdown",
   "metadata": {},
   "source": [
    "### Variación de la temperatura"
   ]
  },
  {
   "cell_type": "markdown",
   "metadata": {},
   "source": [
    "Proponemos las siguientes actualizaciones de temperatura:"
   ]
  },
  {
   "cell_type": "markdown",
   "metadata": {},
   "source": [
    "En primer lugar, la propuesta en las transparencias, con $L=10,~ \\alpha = 0.95$"
   ]
  },
  {
   "cell_type": "code",
   "execution_count": 143,
   "metadata": {},
   "outputs": [],
   "source": [
    "def updateTempStandard(T,i):\n",
    "    if i%10 == 0:\n",
    "        newT = 0.95*T\n",
    "    else:\n",
    "        newT = T\n",
    "    return newT"
   ]
  },
  {
   "cell_type": "markdown",
   "metadata": {},
   "source": [
    "### Probabilidad de aceptación de nuevas soluciones"
   ]
  },
  {
   "cell_type": "markdown",
   "metadata": {},
   "source": [
    "La estándar, entiendo que si se quisiera probar opciones de Serafini (1992), no sólo aparecería como referencia si no que tambien estaría en el moodle"
   ]
  },
  {
   "cell_type": "markdown",
   "metadata": {},
   "source": [
    "**Duda:** No debería estar la probabilidad entre 0 y 1?"
   ]
  },
  {
   "cell_type": "code",
   "execution_count": 146,
   "metadata": {},
   "outputs": [],
   "source": [
    "from math import exp"
   ]
  },
  {
   "cell_type": "code",
   "execution_count": 147,
   "metadata": {},
   "outputs": [],
   "source": [
    "def prob_aceptacion_standard(f1,f,T):\n",
    "    x = -(f1-f)/T\n",
    "    return exp(x)"
   ]
  },
  {
   "cell_type": "markdown",
   "metadata": {},
   "source": [
    "### Criterio de parada"
   ]
  },
  {
   "cell_type": "markdown",
   "metadata": {},
   "source": [
    "Proponemos los siguientes criterios de parada:"
   ]
  },
  {
   "cell_type": "markdown",
   "metadata": {},
   "source": [
    "El primero, haber encontrado la solución óptima"
   ]
  },
  {
   "cell_type": "code",
   "execution_count": 107,
   "metadata": {},
   "outputs": [],
   "source": [
    "def solutionFound(f,_):\n",
    "    return f==0"
   ]
  },
  {
   "cell_type": "markdown",
   "metadata": {},
   "source": [
    "**TODO:** Criterios de parada de los apuntes"
   ]
  },
  {
   "cell_type": "markdown",
   "metadata": {},
   "source": [
    "### Solución inicial"
   ]
  },
  {
   "cell_type": "markdown",
   "metadata": {},
   "source": [
    "Proponemos varias soluciones iniciales para el algoritmo."
   ]
  },
  {
   "cell_type": "markdown",
   "metadata": {},
   "source": [
    "La primera es simplemente todas las reinas en la primera fila:"
   ]
  },
  {
   "cell_type": "code",
   "execution_count": 69,
   "metadata": {},
   "outputs": [],
   "source": [
    "def initialSolSameRow(n):\n",
    "    return [(1,i+1) for i in range(n)]"
   ]
  },
  {
   "cell_type": "markdown",
   "metadata": {},
   "source": [
    "La segunda será una solución factible pseudo-aleatoria:"
   ]
  },
  {
   "cell_type": "code",
   "execution_count": 75,
   "metadata": {},
   "outputs": [],
   "source": [
    "# TODO:"
   ]
  },
  {
   "cell_type": "markdown",
   "metadata": {},
   "source": [
    "La tercera será una solución factible buena aunque no óptima, calculada mediante un algoritmo voraz:"
   ]
  },
  {
   "cell_type": "code",
   "execution_count": 76,
   "metadata": {},
   "outputs": [],
   "source": [
    "# TODO:"
   ]
  },
  {
   "cell_type": "code",
   "execution_count": 78,
   "metadata": {},
   "outputs": [],
   "source": [
    "initialSols=[initialSolSameRow]"
   ]
  },
  {
   "cell_type": "markdown",
   "metadata": {},
   "source": [
    "### Algoritmo"
   ]
  },
  {
   "cell_type": "code",
   "execution_count": 62,
   "metadata": {},
   "outputs": [],
   "source": [
    "from random import random"
   ]
  },
  {
   "cell_type": "code",
   "execution_count": 150,
   "metadata": {},
   "outputs": [],
   "source": [
    "def queens(n):\n",
    "    sol = initialSol(n)\n",
    "    f = fitness(sol,n)\n",
    "    best_sol = sol\n",
    "    best_f = f\n",
    "    T = initialTemp()\n",
    "    fitness_values=[f]\n",
    "    temp=[T]\n",
    "    i=1\n",
    "    while not criterio_parada(best_f,i):\n",
    "        new_sol = random_neighbor(sol,n)\n",
    "        new_f = fitness(new_sol,n)\n",
    "        if new_f < f:\n",
    "            sol = new_sol\n",
    "            f = new_f\n",
    "            if f < best_f:\n",
    "                best_sol=sol\n",
    "                best_f = f\n",
    "        else:\n",
    "            u = random()\n",
    "            p = prob_aceptacion(new_f,f,T)\n",
    "            if p > u:\n",
    "                sol = new_sol\n",
    "                f = new_f\n",
    "        update_temp(T,i)\n",
    "        i += 1\n",
    "    return sol"
   ]
  },
  {
   "cell_type": "code",
   "execution_count": 151,
   "metadata": {},
   "outputs": [],
   "source": [
    "initialSol=initialSolSameRow\n",
    "fitness = numCollisionsFitness\n",
    "initialTemp = standardInitialTemp\n",
    "criterio_parada = solutionFound\n",
    "random_neighbor = oneMoveRandomNeighbor\n",
    "update_temp = updateTempStandard\n",
    "prob_aceptacion = prob_aceptacion_standard"
   ]
  },
  {
   "cell_type": "code",
   "execution_count": 152,
   "metadata": {},
   "outputs": [
    {
     "data": {
      "text/plain": [
       "[(8, 1), (3, 2), (6, 6), (5, 3), (1, 5), (2, 8), (7, 9), (9, 4), (4, 7)]"
      ]
     },
     "execution_count": 152,
     "metadata": {},
     "output_type": "execute_result"
    }
   ],
   "source": [
    "queens(9)"
   ]
  },
  {
   "cell_type": "markdown",
   "metadata": {},
   "source": [
    "## Segunda Solución"
   ]
  },
  {
   "cell_type": "code",
   "execution_count": null,
   "metadata": {},
   "outputs": [],
   "source": []
  },
  {
   "cell_type": "code",
   "execution_count": null,
   "metadata": {},
   "outputs": [],
   "source": []
  },
  {
   "cell_type": "code",
   "execution_count": null,
   "metadata": {},
   "outputs": [],
   "source": []
  }
 ],
 "metadata": {
  "kernelspec": {
   "display_name": "Python 3",
   "language": "python",
   "name": "python3"
  },
  "language_info": {
   "codemirror_mode": {
    "name": "ipython",
    "version": 3
   },
   "file_extension": ".py",
   "mimetype": "text/x-python",
   "name": "python",
   "nbconvert_exporter": "python",
   "pygments_lexer": "ipython3",
   "version": "3.6.7"
  }
 },
 "nbformat": 4,
 "nbformat_minor": 2
}
