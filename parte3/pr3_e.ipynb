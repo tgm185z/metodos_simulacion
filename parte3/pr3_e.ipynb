{
 "cells": [
  {
   "cell_type": "markdown",
   "metadata": {},
   "source": [
    "# Práctica Métodos de Simulación - Parte 3"
   ]
  },
  {
   "cell_type": "markdown",
   "metadata": {},
   "source": [
    "## Elena Rivas, Teresa Grau, Ignacio Casso"
   ]
  },
  {
   "cell_type": "markdown",
   "metadata": {},
   "source": [
    "## Enunciado"
   ]
  },
  {
   "cell_type": "markdown",
   "metadata": {},
   "source": [
    "**El problema de las n reinas.**\n",
    "\n",
    "El problema de las n-reinas consiste en colocar n reinas en un tablero de ajedrez de\n",
    "n x n de tal manera que no sea posible que dos reinas se capturen entre si, es decir,\n",
    "que no estén en la misma fila, ni en la misma columna ni en la misma diagonal. Se\n",
    "dice que hay una colisión si hay dos reinas que se pueden capturar entre si.\n",
    "\n",
    "Se trata pues de encontrar una configuración (elegir las n celdas donde colocar a las\n",
    "reinas) que minimice el número total de colisiones. Obtener la solución óptima para\n",
    "n=9.\n",
    "\n",
    "Mostrar gráficamente la evolución del valor de la función fitness y del parámetro\n",
    "temperatura considerados a lo largo de las iteraciones de la metaheurı́stica."
   ]
  },
  {
   "cell_type": "markdown",
   "metadata": {},
   "source": [
    "**Enfriamiento simulado**"
   ]
  },
  {
   "cell_type": "markdown",
   "metadata": {},
   "source": [
    "El Enfriamiento simulado es una técnica de optimización combinatorial que se usa para afrontar problemas de gran complejidad matemática, de modo que se obtengan soluciones cercanas a la óptima. \n",
    "Se fundamenta en el proceso físico de calentamiento de un sólido, seguido por un enfriamiento hasta lograr un estado cristalino con una estructura perfecta. Durante este proceso, la energía libre del sólido es minimizada. \n",
    "\n",
    "\"A una temperatura T, en el estado con nivel de energía Eì, se genera el estado siguiente j a través de de una pequeña perturbación. Si la diferencia de energía Ej – Ei es menor o igual a cero, el estado j es aceptado. Si la diferencia de energía es mayor que cero, el estado j es aceptado con una probabilidad P, donde KB es la constante de Boltzmann. Si la disminución de la temperatura es hecha de manera paulatina, el sólido puede alcanzar el estado de equilibrio en cada nivel de temperatura.\" "
   ]
  },
  {
   "cell_type": "markdown",
   "metadata": {},
   "source": [
    "## Planteamiento"
   ]
  },
  {
   "cell_type": "markdown",
   "metadata": {},
   "source": [
    "#### El problema de las n reinas se puede plantear de dos maneras: \n",
    "\n",
    "- A) ubicando n reinas de manera que se minimicen las colisiones \n",
    "- B) maximizar el número de reinas en el tablero sujeto a la restricción de que no existan colisiones"
   ]
  },
  {
   "cell_type": "markdown",
   "metadata": {},
   "source": [
    "## Soluciones"
   ]
  },
  {
   "cell_type": "markdown",
   "metadata": {},
   "source": [
    "En esta práctica nos vamos a centrar en el planteamiento decrito anteriormente como A), para el que queremos minimizar el número de colisiones entre las reinas. Para éste proponemos dos implementaciones distintas para el algoritmo de enfriamiento simulado, que se diferencian en el espacio de búsqueda y en la codificación de las soluciones:\n",
    "- A1)  En esta solución consideramos todo el espacio de búsqueda, es decir, todas las posibles configuraciones del tablero con $n$ reinas en él. \n",
    "- A2) En este caso tenemos en cuenta que por necesidad debe haber una reina en cada fila y otra en cada columna, y codificamos las soluciones como permutaciones de $n$ elementos, reduciendo el espacio de soluciones de un cardinal de $(n^2)^n$ a uno de $n!$. \n",
    "\n",
    "Para cada una de ellas se exploran distintas elecciones de parámetros y los resultados que se obtienen."
   ]
  },
  {
   "cell_type": "markdown",
   "metadata": {},
   "source": [
    "## Caso A1) Consideramos todas las posibles configuraciones del tablero con n reinas."
   ]
  },
  {
   "cell_type": "markdown",
   "metadata": {},
   "source": [
    "### Codificación de las soluciones"
   ]
  },
  {
   "cell_type": "markdown",
   "metadata": {},
   "source": [
    "Codificaremos las soluciones como listas de 9 posiciones, siendo cada posición una tupla de 2 elementos. Para evitar redundancia en la codificación, se impone que esa lista esté ordenada (lexicográficamente), y para evitar soluciones no factibles, se prohiben los elementos repetidos en una lista."
   ]
  },
  {
   "cell_type": "code",
   "execution_count": 13,
   "metadata": {},
   "outputs": [],
   "source": [
    "from random import random, randint"
   ]
  },
  {
   "cell_type": "markdown",
   "metadata": {},
   "source": [
    "### Función objetivo"
   ]
  },
  {
   "cell_type": "markdown",
   "metadata": {},
   "source": [
    "La función objetivo a minimizar será el número de colisiones entre reinas."
   ]
  },
  {
   "cell_type": "code",
   "execution_count": 14,
   "metadata": {},
   "outputs": [],
   "source": [
    "def num_collisions(positions):\n",
    "    \n",
    "    if positions==[]:\n",
    "        return 0\n",
    "    else:\n",
    "        queen, positions2 = positions[0], positions[1:]\n",
    "        num_colls = 0\n",
    "        for queen2 in positions2:\n",
    "            if collision(queen,queen2):\n",
    "                num_colls += 1\n",
    "        return num_colls + num_collisions(positions2)\n",
    "    \n",
    "def collision(queen1,queen2):\n",
    "    i1,j1 = queen1\n",
    "    i2,j2 = queen2\n",
    "    \n",
    "    if i1==i2 or j1==j2 or abs(i1-i2)==abs(j1-j2):\n",
    "        return True\n",
    "    else:\n",
    "        return False"
   ]
  },
  {
   "cell_type": "code",
   "execution_count": 15,
   "metadata": {},
   "outputs": [],
   "source": [
    "def numCollisionsFitness(sol,n):\n",
    "    return num_collisions(sol)"
   ]
  },
  {
   "cell_type": "markdown",
   "metadata": {},
   "source": [
    "### Entorno de un punto en el espacio de búsqueda"
   ]
  },
  {
   "cell_type": "markdown",
   "metadata": {},
   "source": [
    "Proponemos los siguientes entornos para una solución:"
   ]
  },
  {
   "cell_type": "markdown",
   "metadata": {},
   "source": [
    "La primera, las soluciones obtenidas al mover una reina una posición en cualquier dirección."
   ]
  },
  {
   "cell_type": "code",
   "execution_count": 16,
   "metadata": {},
   "outputs": [],
   "source": [
    "moves = [(0,1),(0,-1),(1,0),(-1,0),(1,1),(1,-1),(-1,1),(-1,-1)]\n",
    "\n",
    "def oneMoveRandomNeighbor(sol,n):\n",
    "    queens = sol[:] # copy\n",
    "    i = randint(0,n-1)\n",
    "    j = randint(0,7)\n",
    "    qx,qy = queens[i]\n",
    "    mx,my = moves[j]\n",
    "    nqx,nqy = qx+mx, qy+my\n",
    "    if 0<nqx and 0 < nqy and n >= nqx and n>=nqy:\n",
    "        new_queen = (nqx,nqy)\n",
    "    else:\n",
    "        new_queen = qx,qy\n",
    "    queens[i] = new_queen\n",
    "    return queens"
   ]
  },
  {
   "cell_type": "markdown",
   "metadata": {},
   "source": [
    "En esta solución no se restringe el problema de que un determinado movimiento nos saque del tablero o que de que haya 2 reinas en la misma posición."
   ]
  },
  {
   "cell_type": "markdown",
   "metadata": {},
   "source": [
    "### Valor inicial de la temperatura"
   ]
  },
  {
   "cell_type": "markdown",
   "metadata": {},
   "source": [
    "La temperatura debe ser tal en el proceso que permita una adecuada exploración en las diferentes etapas del enfriamiento simulado. Existen diferentes formas para calcular la temperatura inicial, siendo una de ellas simular el proceso para la primera cadena de Markov.  "
   ]
  },
  {
   "cell_type": "markdown",
   "metadata": {},
   "source": [
    "Para este caso vamos a proponer los siguientes valores iniciales de temperatura:"
   ]
  },
  {
   "cell_type": "code",
   "execution_count": 17,
   "metadata": {},
   "outputs": [],
   "source": [
    "def standardInitialTemp():\n",
    "    return 0.9"
   ]
  },
  {
   "cell_type": "markdown",
   "metadata": {},
   "source": [
    "### Variación de la temperatura"
   ]
  },
  {
   "cell_type": "markdown",
   "metadata": {},
   "source": [
    "Proponemos las siguientes actualizaciones de temperatura:"
   ]
  },
  {
   "cell_type": "markdown",
   "metadata": {},
   "source": [
    "En primer lugar, la propuesta en las transparencias, con $L=10,~ \\alpha = 0.95$"
   ]
  },
  {
   "cell_type": "code",
   "execution_count": 18,
   "metadata": {},
   "outputs": [],
   "source": [
    "def updateTempStandard(T,i):\n",
    "    if i%10 == 0:\n",
    "        newT = 0.95*T\n",
    "    else:\n",
    "        newT = T\n",
    "    return newT"
   ]
  },
  {
   "cell_type": "markdown",
   "metadata": {},
   "source": [
    "### Probabilidad de aceptación de nuevas soluciones"
   ]
  },
  {
   "cell_type": "markdown",
   "metadata": {},
   "source": [
    "En este caso proponemos la estándar:"
   ]
  },
  {
   "cell_type": "markdown",
   "metadata": {},
   "source": [
    "**Duda:** No debería estar la probabilidad entre 0 y 1?"
   ]
  },
  {
   "cell_type": "code",
   "execution_count": 19,
   "metadata": {},
   "outputs": [],
   "source": [
    "from math import exp"
   ]
  },
  {
   "cell_type": "code",
   "execution_count": 20,
   "metadata": {},
   "outputs": [],
   "source": [
    "def prob_aceptacion_standard(f1,f,T):\n",
    "    x = -(f1-f)/T\n",
    "    return exp(x)"
   ]
  },
  {
   "cell_type": "markdown",
   "metadata": {},
   "source": [
    "### Criterio de parada"
   ]
  },
  {
   "cell_type": "markdown",
   "metadata": {},
   "source": [
    "Se pueden usar varios criterios de parada:\n",
    "    \n",
    "- Parar si se ha encontrado la solución óptima     \n",
    "- Fijar un número determinado de niveles de temperatura, usualmente entre 6 y 50. \n",
    "- Terminar el procesos si la función objetivo no mejora para varios niveles consecutivos. \n",
    "- Parar si no se cumple con un número mínimo de aceptaciones en el nivel de temperatura."
   ]
  },
  {
   "cell_type": "markdown",
   "metadata": {},
   "source": [
    "El caso que vamos a utilizar es en el que la parada se produce cuando se encuentra la solución óptima:"
   ]
  },
  {
   "cell_type": "code",
   "execution_count": 21,
   "metadata": {},
   "outputs": [],
   "source": [
    "def solutionFound(f,_):\n",
    "    return f==0"
   ]
  },
  {
   "cell_type": "markdown",
   "metadata": {},
   "source": [
    "### Configuración inicial"
   ]
  },
  {
   "cell_type": "markdown",
   "metadata": {},
   "source": [
    "De la configuración inicial depende la rapidez para encontrar una solución. \n",
    "Por ejemplo para una inicialización hecha de forma aleatoria, se tiene que alrededor de la mitad de las reinas están en colisión. Existen estrategias para inicializar la configuración de tal manera que se reduzca el número de colisiones al comienzo del proceso. "
   ]
  },
  {
   "cell_type": "markdown",
   "metadata": {},
   "source": [
    "La solución que planteamos es una de las más simples a través de la que se colocan todas las reinas en la primera fila."
   ]
  },
  {
   "cell_type": "code",
   "execution_count": 22,
   "metadata": {},
   "outputs": [],
   "source": [
    "def initialSolSameRow(n):\n",
    "    return [(1,i+1) for i in range(n)]"
   ]
  },
  {
   "cell_type": "code",
   "execution_count": 23,
   "metadata": {},
   "outputs": [],
   "source": [
    "initialSols=[initialSolSameRow]"
   ]
  },
  {
   "cell_type": "markdown",
   "metadata": {},
   "source": [
    "### Algoritmo"
   ]
  },
  {
   "cell_type": "code",
   "execution_count": 24,
   "metadata": {},
   "outputs": [],
   "source": [
    "from random import random"
   ]
  },
  {
   "cell_type": "code",
   "execution_count": 27,
   "metadata": {},
   "outputs": [],
   "source": [
    "def queens(n):\n",
    "    sol = initialSol(n)\n",
    "    f = fitness(sol,n)\n",
    "    best_sol = sol\n",
    "    best_f = f\n",
    "    T = initialTemp()\n",
    "    fitness_values=[f]\n",
    "    temp=[T]\n",
    "    i=1    \n",
    "    while not criterio_parada(best_f,i):\n",
    "        new_sol = random_neighbor(sol,n)\n",
    "        new_f = fitness(new_sol,n)\n",
    "        if new_f < f:\n",
    "            sol = new_sol\n",
    "            f = new_f\n",
    "            if f < best_f:\n",
    "                best_sol=sol\n",
    "                best_f = f\n",
    "        else:\n",
    "            u = random()\n",
    "            p = prob_aceptacion(new_f,f,T)\n",
    "            if p > u:\n",
    "                sol = new_sol\n",
    "                f = new_f\n",
    "        update_temp(T,i)\n",
    "        i += 1\n",
    "    return sol"
   ]
  },
  {
   "cell_type": "code",
   "execution_count": 26,
   "metadata": {},
   "outputs": [
    {
     "ename": "SyntaxError",
     "evalue": "Missing parentheses in call to 'print'. Did you mean print(i,T,f)? (<ipython-input-26-c32c7f6bba3e>, line 26)",
     "output_type": "error",
     "traceback": [
      "\u001b[0;36m  File \u001b[0;32m\"<ipython-input-26-c32c7f6bba3e>\"\u001b[0;36m, line \u001b[0;32m26\u001b[0m\n\u001b[0;31m    print i,T,f\u001b[0m\n\u001b[0m          ^\u001b[0m\n\u001b[0;31mSyntaxError\u001b[0m\u001b[0;31m:\u001b[0m Missing parentheses in call to 'print'. Did you mean print(i,T,f)?\n"
     ]
    }
   ],
   "source": [
    "def queens(n):\n",
    "    sol = initialSol(n)\n",
    "    f = fitness(sol,n)\n",
    "    best_sol = sol\n",
    "    best_f = f\n",
    "    T = initialTemp()\n",
    "    fitness_values=[f]\n",
    "    temp=[T]    \n",
    "    i=1    \n",
    "    while not criterio_parada(best_f,i):\n",
    "        new_sol = random_neighbor(sol,n)\n",
    "        new_f = fitness(new_sol,n)\n",
    "        if new_f < f:\n",
    "            sol = new_sol\n",
    "            f = new_f\n",
    "            if f < best_f:\n",
    "                best_sol=sol\n",
    "                best_f = f\n",
    "        else:\n",
    "            u = random()\n",
    "            p = prob_aceptacion(new_f,f,T)\n",
    "            if p > u:\n",
    "                sol = new_sol\n",
    "                f = new_f         \n",
    "        T = update_temp(T,i)  \n",
    "        print i,T,f\n",
    "        i += 1        \n",
    "    return sol\n",
    "  "
   ]
  },
  {
   "cell_type": "markdown",
   "metadata": {},
   "source": [
    "### Resultados"
   ]
  },
  {
   "cell_type": "markdown",
   "metadata": {},
   "source": [
    "Para probar la implementación del algoritmo se ha resuelto el problema de las N reinas para distintos valores de N. Para cada tablero se ha lanzado 5 veces el programa. "
   ]
  },
  {
   "cell_type": "code",
   "execution_count": 33,
   "metadata": {},
   "outputs": [
    {
     "ename": "TypeError",
     "evalue": "'function' object is not subscriptable",
     "output_type": "error",
     "traceback": [
      "\u001b[0;31m---------------------------------------------------------------------------\u001b[0m",
      "\u001b[0;31mTypeError\u001b[0m                                 Traceback (most recent call last)",
      "\u001b[0;32m<ipython-input-33-285d089106d3>\u001b[0m in \u001b[0;36m<module>\u001b[0;34m()\u001b[0m\n\u001b[1;32m      7\u001b[0m \u001b[0mprob_aceptacion\u001b[0m \u001b[0;34m=\u001b[0m \u001b[0mprob_aceptacion_standard\u001b[0m\u001b[0;34m\u001b[0m\u001b[0;34m\u001b[0m\u001b[0m\n\u001b[1;32m      8\u001b[0m \u001b[0;34m\u001b[0m\u001b[0m\n\u001b[0;32m----> 9\u001b[0;31m \u001b[0mprint\u001b[0m\u001b[0;34m(\u001b[0m\u001b[0minitialSol\u001b[0m\u001b[0;34m[\u001b[0m\u001b[0;36m0\u001b[0m\u001b[0;34m]\u001b[0m\u001b[0;34m)\u001b[0m\u001b[0;34m\u001b[0m\u001b[0;34m\u001b[0m\u001b[0m\n\u001b[0m",
      "\u001b[0;31mTypeError\u001b[0m: 'function' object is not subscriptable"
     ]
    }
   ],
   "source": [
    "initialSol=initialSolSameRow\n",
    "fitness = numCollisionsFitness\n",
    "initialTemp = standardInitialTemp\n",
    "criterio_parada = solutionFound\n",
    "random_neighbor = oneMoveRandomNeighbor\n",
    "update_temp = updateTempStandard\n",
    "prob_aceptacion = prob_aceptacion_standard\n",
    "\n",
    "print(initialSol[0])"
   ]
  },
  {
   "cell_type": "code",
   "execution_count": 29,
   "metadata": {
    "scrolled": true
   },
   "outputs": [
    {
     "data": {
      "text/plain": [
       "[(8, 3), (1, 8), (7, 6), (4, 1), (5, 7), (9, 5), (2, 2), (6, 9), (3, 4)]"
      ]
     },
     "execution_count": 29,
     "metadata": {},
     "output_type": "execute_result"
    }
   ],
   "source": [
    "queens(9)"
   ]
  },
  {
   "cell_type": "code",
   "execution_count": 30,
   "metadata": {},
   "outputs": [],
   "source": [
    "import numpy as np\n",
    "import matplotlib.pyplot as plt"
   ]
  },
  {
   "cell_type": "markdown",
   "metadata": {},
   "source": [
    "Se muestra en el gráfico siguiente la evolución del valor de la función fitness a lo largo de las iteraciones."
   ]
  },
  {
   "cell_type": "code",
   "execution_count": 31,
   "metadata": {},
   "outputs": [
    {
     "ename": "NameError",
     "evalue": "name 'i' is not defined",
     "output_type": "error",
     "traceback": [
      "\u001b[0;31m---------------------------------------------------------------------------\u001b[0m",
      "\u001b[0;31mNameError\u001b[0m                                 Traceback (most recent call last)",
      "\u001b[0;32m<ipython-input-31-b7987cfe9e5e>\u001b[0m in \u001b[0;36m<module>\u001b[0;34m()\u001b[0m\n\u001b[0;32m----> 1\u001b[0;31m \u001b[0mplt\u001b[0m\u001b[0;34m.\u001b[0m\u001b[0mplot\u001b[0m\u001b[0;34m(\u001b[0m\u001b[0mi\u001b[0m\u001b[0;34m,\u001b[0m \u001b[0mf\u001b[0m\u001b[0;34m)\u001b[0m\u001b[0;34m\u001b[0m\u001b[0;34m\u001b[0m\u001b[0m\n\u001b[0m\u001b[1;32m      2\u001b[0m \u001b[0mplt\u001b[0m\u001b[0;34m.\u001b[0m\u001b[0mshow\u001b[0m\u001b[0;34m(\u001b[0m\u001b[0;34m)\u001b[0m\u001b[0;34m\u001b[0m\u001b[0;34m\u001b[0m\u001b[0m\n",
      "\u001b[0;31mNameError\u001b[0m: name 'i' is not defined"
     ]
    }
   ],
   "source": [
    "plt.plot(i, f)\n",
    "plt.show()"
   ]
  },
  {
   "cell_type": "markdown",
   "metadata": {},
   "source": [
    "En el siguiente gráfico se muestra la evolución del parámetro temperatura en las diferentes iteraciones."
   ]
  },
  {
   "cell_type": "code",
   "execution_count": null,
   "metadata": {
    "collapsed": true
   },
   "outputs": [],
   "source": [
    "plt.plot(i, T)\n",
    "plt.show()"
   ]
  },
  {
   "cell_type": "markdown",
   "metadata": {},
   "source": [
    "Se muestra en la tabla siguiente el promedio del número de iteraciones en las que se alcanzó la solución del problema.\n",
    " "
   ]
  },
  {
   "cell_type": "code",
   "execution_count": null,
   "metadata": {
    "collapsed": true
   },
   "outputs": [],
   "source": []
  },
  {
   "cell_type": "markdown",
   "metadata": {},
   "source": [
    "En la siguiente tabla aparecen los datos para las 10 ejecuciones con diferentes valores de N.\n",
    "Se observa que el número de iteraciones crece de forma lineal con el tamaño del tablero. \n",
    "El tiempo de cómputo a su vez es proporcional al número de iteraciones.\n",
    "El tiempo para iteración se mantiene constante al aumentar la dimensión del tablero, debido a que se analizan 8 diagonales en cada iteración sin importar el tamaño del problema. "
   ]
  },
  {
   "cell_type": "code",
   "execution_count": null,
   "metadata": {
    "collapsed": true
   },
   "outputs": [],
   "source": []
  },
  {
   "cell_type": "markdown",
   "metadata": {},
   "source": [
    "## Caso A2) Tenemos en cuenta que debe haber una reina en cada fila y otra en cada columna, y reducimos el problema a una permutación."
   ]
  },
  {
   "cell_type": "markdown",
   "metadata": {},
   "source": [
    "Puesto que dos reinas colisionan cuando están en la misma columna, fila o diagonal esto significa que el problema a solucionar pasar por evitar que las reinas vayan en una misma fila, es decir, que a cada reina le corresponda una fila de manera que la reina k se sitúa en la fila k. Y que del mismo modo la columna en la que se coloca tendrá que ser también diferente para cada reina. De este modo el problema se convierte en un problema de permutación. \n",
    " \n",
    "Si R(i) es el índice de la columna donde se localiza la reina i, entonces la configuración del tablero se describe con el vector R. Para el caso del tablero 9x9 del vector de configuración R es [1, 3, 5, 7, 9, 2, 4, 6, 8]. \n",
    "\n",
    "Por tanto si a cada reina se le asigna una fila y una columna que no comparte con otra, no existen colisiones entre reinas por filas o columnas, entonces el problema que debe analizarse es principalmente la configuración para las diagonales. Así si dos o más reinas comparten el mismo índice para una diagonal, entonces existe una colisión."
   ]
  },
  {
   "cell_type": "markdown",
   "metadata": {},
   "source": [
    "La configuración inicial es creada según ... y la temperatura inicial se calcula ... . \n",
    "Se genera una nueva configuración a través del intercambio de columnas entre dos reinas escogidas de forma aleatoria, pero dándole mayor probabilidad a las reinas que están en colisión de acuerdo con una lista que se va actualizando. "
   ]
  },
  {
   "cell_type": "code",
   "execution_count": null,
   "metadata": {
    "collapsed": true
   },
   "outputs": [],
   "source": []
  }
 ],
 "metadata": {
  "kernelspec": {
   "display_name": "Python 2",
   "language": "python",
   "name": "python2"
  },
  "language_info": {
   "codemirror_mode": {
    "name": "ipython",
    "version": 3
   },
   "file_extension": ".py",
   "mimetype": "text/x-python",
   "name": "python",
   "nbconvert_exporter": "python",
   "pygments_lexer": "ipython3",
   "version": "3.6.7"
  }
 },
 "nbformat": 4,
 "nbformat_minor": 2
}
