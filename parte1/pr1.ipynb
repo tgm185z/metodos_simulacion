{
 "cells": [
  {
   "cell_type": "markdown",
   "metadata": {},
   "source": [
    "# Práctica Métodos de Simulación - Parte 1"
   ]
  },
  {
   "cell_type": "markdown",
   "metadata": {},
   "source": [
    "## Elena Rivas, Teresa Grau, Ignacio Casso"
   ]
  },
  {
   "cell_type": "markdown",
   "metadata": {},
   "source": [
    "**Enunciado. Generación de números y variables aleatorias**. Utilizando el generador congruencial multiplicativo de IMSL\n",
    "\n",
    "$~~~~~~~~~~x_{i+1}=16807x_i~mod~(2^{31}-1)$\n",
    "\n",
    "obtener una muestra de números aleatorios en (0, 1) y estudiar utilizando los contrastes de la librería Diehard para la aleatoriedad (explicando brevemente en qué consisten 3 de ellos). "
   ]
  },
  {
   "cell_type": "markdown",
   "metadata": {},
   "source": [
    "### Generadores congruenciales"
   ]
  },
  {
   "cell_type": "markdown",
   "metadata": {},
   "source": [
    "Un generador lineal congruencial (GLC) es un algoritmo que permite obtener una secuencia de números pseudoaleatorios calculados con una función lineal definida a trozos discontinua. Es uno de los métodos más antiguos y conocidos para la generación de números pseudoaleatorios. Siguen la siguiente fórmula de recursión:\n",
    "\n",
    "$~~~~~~~~~~x_{n+1}=(ax_n+b)~mod~m$\n",
    "\n",
    "que proporciona números enteros en [0, m), para un multiplicador *a*, sesgo *b*, módulo *m* y semilla x0 , donde suponemos que *a, b* ∈ {0, 1, ..., *m*-1}. La utilización de la misma semilla llevará a la misma secuencia de nos aleatorios (reproducibilidad y mutabilidad).\n",
    "\n",
    "Se convierten en números uniformes en [0,1) dividiendo por *m*,\n",
    "\n",
    "$~~~~~~~~~~u_n=\\frac{x_n}{m}$\n",
    "\n",
    "Si b = 0, se denominan multiplicativos, que es lo que nos pide el enunciado de la práctica:\n",
    "\n",
    "$~~~~~~~~~~x_{n+1}=ax_n~mod~m$"
   ]
  },
  {
   "cell_type": "markdown",
   "metadata": {},
   "source": [
    "### Generador MINSTD"
   ]
  },
  {
   "cell_type": "markdown",
   "metadata": {},
   "source": [
    "Uno de los generadores congruenciales multiplicativos o de Lehmer más utilizados es el de parámetros $a = 16807$, $b = 2^{31}-1$, justo los que indica el enunciado de la práctica. A este generador se lo conoce comúnmente como MINSTD, y es todavía un estándar a persar de sufrir los defectos propios de los generadores congruenciales. Entre otros se usa en la libraría IMSL como se indica en la práctica, y en la librería estándar de C++. El parámetro *b* es elegido por ser a la vez el mayor número primo representable con 32 bits y por dar lugar por tanto al periodo máximo que puede alcanzar un generador de Lehmer con 32 bits, y además por ser posible implementar la operación módulo eficientemente con ese número. El parámetro *a* se escoge entre las raíces primitivas de *b* de nuevo para dar lugar a un periodo máximo, y entre ellas se escogió 16807 por sus buenos resultados, tanto en aleatoriedad como en eficiencia de implementación, a pesar de que posteriormente se demostró que existían mejores constantes, como por ejemplo 48271.\n",
    "\n",
    "A continuación se genera una muestra de números aleatorios con este generador, empezando con una semilla de valor 1. Primero usamos el generador tal cual obteniendo la muestra de números naturales, y posteriormente mostramos la sucesión de numeros reales distribuidos uniformemente en (0,1) que se obtiene a partir de la primera muestra.\n",
    "\n",
    "Hemos implementado MINSTD directamente en bash para incorporarlo más fácilmente al notebook, y no usamos el método de Schrage ya que al no haber desbordamiento no es estrictamente necesario."
   ]
  },
  {
   "cell_type": "markdown",
   "metadata": {},
   "source": [
    "##### Muestra de números naturales distribuidos aleatoriamente en (1,2^31-1)"
   ]
  },
  {
   "cell_type": "code",
   "execution_count": 4,
   "metadata": {},
   "outputs": [
    {
     "name": "stdout",
     "output_type": "stream",
     "text": [
      "16807\n",
      "282475249\n",
      "1622650073\n",
      "984943658\n",
      "1144108930\n",
      "470211272\n",
      "101027544\n",
      "1457850878\n",
      "1458777923\n",
      "2007237709\n"
     ]
    }
   ],
   "source": [
    "SEED=1\n",
    "a=16807\n",
    "let m=0x7fffffff # 2^31-1\n",
    "for i in {1..10}; do\n",
    "    let SEED=a*SEED%m # This operation can be optimized in real implementations\n",
    "    echo $SEED\n",
    "done"
   ]
  },
  {
   "cell_type": "markdown",
   "metadata": {},
   "source": [
    "Una forma de probar que la implementeción es correcta es empezar con una semilla de valor 1 y comprobar que tras generar 10000 números se obtiene 1043618065"
   ]
  },
  {
   "cell_type": "code",
   "execution_count": 3,
   "metadata": {},
   "outputs": [
    {
     "name": "stdout",
     "output_type": "stream",
     "text": [
      "1043618065\n"
     ]
    }
   ],
   "source": [
    "SEED=1\n",
    "a=16807\n",
    "let m=0x7fffffff # 2^31-1\n",
    "for i in {1..10000}; do\n",
    "    let SEED=a*SEED%m # This operation can be optimized in real implementations\n",
    "done\n",
    "echo $SEED"
   ]
  },
  {
   "cell_type": "markdown",
   "metadata": {},
   "source": [
    "##### Muestra de números reales distribuidos aleatoriamente en (0,1)"
   ]
  },
  {
   "cell_type": "markdown",
   "metadata": {},
   "source": [
    "Para obterner una muestra de numeros reales uniforme en (0,1), basta con dividir los números generados entre el módulo del generador, *m*."
   ]
  },
  {
   "cell_type": "code",
   "execution_count": 6,
   "metadata": {},
   "outputs": [
    {
     "name": "stdout",
     "output_type": "stream",
     "text": [
      ".00000782636925942561\n",
      ".13153778814316624223\n",
      ".75560532219503322718\n",
      ".45865013192344928715\n",
      ".53276723741216922058\n",
      ".21895918632809034843\n",
      ".04704461621448612595\n",
      ".67886471686831895116\n",
      ".67929640583661217514\n",
      ".93469289594082762298\n"
     ]
    }
   ],
   "source": [
    "SEED=1\n",
    "a=16807\n",
    "let m=0x7fffffff # 2^31-1\n",
    "for i in {1..10}; do\n",
    "    let SEED=a*SEED%m\n",
    "    REAL=`echo \"$SEED/$m\" | bc -l`\n",
    "    echo $REAL\n",
    "done"
   ]
  },
  {
   "cell_type": "markdown",
   "metadata": {},
   "source": [
    "##### Implementación de MINSTD usando el método de Scharage"
   ]
  },
  {
   "cell_type": "markdown",
   "metadata": {},
   "source": [
    "Para completar esta sección, mostramos la implemetación de MINSTD usando el método de Schrage, necesaria en lenguajes de programación con enteros de 32-bits como máximo. Consúltese (Park y Miller, 1988) para una aclaración de la teoría detrás de este método."
   ]
  },
  {
   "cell_type": "code",
   "execution_count": 10,
   "metadata": {},
   "outputs": [
    {
     "name": "stdout",
     "output_type": "stream",
     "text": [
      "1043618065\n"
     ]
    }
   ],
   "source": [
    "SEED=1\n",
    "a=16807\n",
    "let m=0x7fffffff # 2^31-1\n",
    "let q=m/a\n",
    "let r=m%a\n",
    "for i in {1..10000}; do\n",
    "    let q2=SEED/q\n",
    "    let r2=SEED%q\n",
    "    let SEED=a*r2-r*q2\n",
    "    if [ $SEED -lt 0 ]; then\n",
    "        let SEED=SEED+m\n",
    "    fi\n",
    "done\n",
    "echo $SEED"
   ]
  },
  {
   "cell_type": "markdown",
   "metadata": {},
   "source": [
    "## Librería Dieharder"
   ]
  },
  {
   "cell_type": "markdown",
   "metadata": {},
   "source": [
    "La librería Diehard que menciona el enunciado es una batería de contrastes de aleatoriedad desarrollada por George Margsalia para establecer la calidad de un generador aleatorio. Nosotros usaremos en su lugar la librería Dieharder, más completa y que en particular incluye todos los tests de la librería Diehard original."
   ]
  },
  {
   "cell_type": "markdown",
   "metadata": {},
   "source": [
    "### Contrastes de aleatoriedad en Dieharder"
   ]
  },
  {
   "cell_type": "markdown",
   "metadata": {},
   "source": [
    "Como se ha dicho, el objetivo de los tests es establecer la calidad de un generador aleatorio. Para ello todos los tests siguen el siguiente procedimiento común: toman una muestra de números generados por el rng en cuestión y realizan un contraste de hipótesis sobre esa muestra, donde la hipótesis nula es que el rng es un generador de números aleatorios perfecto, es decir, la muestra proviene de una distribución uniforme. Obtienen como resultado un p-valor o estadístico, cuya distribución de probabilidad bajo la hipótesis nula es conocida, y el test falla si el p-valor obtenido es muy poco probable bajo esa distribución.\n",
    "\n",
    "Los distintos tests se diferencian por lo tanto en el contraste de hipótesis aplicado, es decir, en la función que obtiene ese p-valor a partir de la muestra y en la distribución que ese p-valor debería seguir. En el caso de Dieharder, esa distribución es la uniforme, y se obtienen varios p-valores (100 por defecto) por cada test para comprobar que realmente se adaptan a esa distribución uniforme. A partir de ese conjunto de p-valores se obtiene un último estadístico mediante el test de Kolmogorov-Smirnov, de forma que si ese estadístico esta muy cerca de 0 o 1 se rechaza la hipótesis nula y se considera que el generador ha fallado el test.\n",
    "\n",
    "Más adelante veremos ejemplos de todo esto, y explicaremos brevemente 3 de los tests usados en Diehard y Dieharder."
   ]
  },
  {
   "cell_type": "markdown",
   "metadata": {},
   "source": [
    "### Setup"
   ]
  },
  {
   "cell_type": "markdown",
   "metadata": {},
   "source": [
    "Para instalar dieharder en linux, basta con escribir en consola el siguiente comando:\n",
    "<br>\n",
    "*```sudo apt-get install dieharder```*\n",
    "\n",
    "Nota: dieharder debe instalarse para ejecutar la mayoría de lo que queda del notebook"
   ]
  },
  {
   "cell_type": "markdown",
   "metadata": {},
   "source": [
    "### Usage"
   ]
  },
  {
   "cell_type": "markdown",
   "metadata": {},
   "source": [
    "Dieharder funciona mediante comandos por consola. A continuación mostramos el funcionamiento y resultado de los comandos que hemos utilizado para realizar la práctica:"
   ]
  },
  {
   "cell_type": "markdown",
   "metadata": {},
   "source": [
    "##### Run a test for a generator"
   ]
  },
  {
   "cell_type": "markdown",
   "metadata": {},
   "source": [
    "*```dieharder -d testId -g rng```*, donde *testId* es el identificador del test y *rng* el identificador del generador.\n",
    "\n",
    "Ejemplo:"
   ]
  },
  {
   "cell_type": "code",
   "execution_count": 59,
   "metadata": {},
   "outputs": [
    {
     "name": "stdout",
     "output_type": "stream",
     "text": [
      "#=============================================================================#\n",
      "#            dieharder version 3.31.1 Copyright 2003 Robert G. Brown          #\n",
      "#=============================================================================#\n",
      "   rng_name    |rands/second|   Seed   |\n",
      "       borosh13|  2.89e+08  |1216113653|\n",
      "#=============================================================================#\n",
      "        test_name   |ntup| tsamples |psamples|  p-value |Assessment\n",
      "#=============================================================================#\n",
      "   diehard_birthdays|   0|       100|     100|0.69718427|  PASSED  \n"
     ]
    }
   ],
   "source": [
    "dieharder -d 0 -g 0"
   ]
  },
  {
   "cell_type": "markdown",
   "metadata": {},
   "source": [
    "En el ejemplo anterior hemos usado el \"birthday spacings\" test, y uno de los generadores estándar que viene incluído en Diehard. Para usar un generador definido por el usuario, hay que usar un fichero con la muestra de números aleatorios, o un pipe para pasarle la muestra por stdin. Como MINSTD está incluido por defecto, cuando probemos el generador usaremos el MINSTD de Dieharder directamente por comodidad. Las otras dos opciones dan demasiados problemas: en la primera debemos asegurar que la muestra es lo suficientemente grande para aplicar los tests, y en la segunda habría que manejar la señal SIGPIPE para dejar de generar cuando Dieharder deje de leer (en el shell por defecto un proceso para al recibirla, pero en el notebook parece que no)."
   ]
  },
  {
   "cell_type": "markdown",
   "metadata": {},
   "source": [
    "##### Show all available tests"
   ]
  },
  {
   "cell_type": "markdown",
   "metadata": {},
   "source": [
    "Podemos ver todos los test disponibles en la libreria Dieharder con el siguiente comando:"
   ]
  },
  {
   "cell_type": "code",
   "execution_count": 63,
   "metadata": {
    "scrolled": false
   },
   "outputs": [
    {
     "name": "stdout",
     "output_type": "stream",
     "text": [
      "#=============================================================================#\n",
      "#            dieharder version 3.31.1 Copyright 2003 Robert G. Brown          #\n",
      "#=============================================================================#\n",
      "Installed dieharder tests:\n",
      " Test Number\t                     Test Name\t              Test Reliability\n",
      "===============================================================================\n",
      "  -d 0  \t                  Diehard Birthdays Test\t      Good\n",
      "  -d 1  \t                     Diehard OPERM5 Test\t      Good\n",
      "  -d 2  \t          Diehard 32x32 Binary Rank Test\t      Good\n",
      "  -d 3  \t            Diehard 6x8 Binary Rank Test\t      Good\n",
      "  -d 4  \t                  Diehard Bitstream Test\t      Good\n",
      "  -d 5  \t                            Diehard OPSO\t   Suspect\n",
      "  -d 6  \t                       Diehard OQSO Test\t   Suspect\n",
      "  -d 7  \t                        Diehard DNA Test\t   Suspect\n",
      "  -d 8  \t      Diehard Count the 1s (stream) Test\t      Good\n",
      "  -d 9  \t        Diehard Count the 1s Test (byte)\t      Good\n",
      "  -d 10  \t                Diehard Parking Lot Test\t      Good\n",
      "  -d 11  \tDiehard Minimum Distance (2d Circle) Test\t      Good\n",
      "  -d 12  \tDiehard 3d Sphere (Minimum Distance) Test\t      Good\n",
      "  -d 13  \t                    Diehard Squeeze Test\t      Good\n",
      "  -d 14  \t                       Diehard Sums Test\tDo Not Use\n",
      "  -d 15  \t                       Diehard Runs Test\t      Good\n",
      "  -d 16  \t                      Diehard Craps Test\t      Good\n",
      "  -d 17  \t            Marsaglia and Tsang GCD Test\t      Good\n",
      "  -d 100  \t                        STS Monobit Test\t      Good\n",
      "  -d 101  \t                           STS Runs Test\t      Good\n",
      "  -d 102  \t           STS Serial Test (Generalized)\t      Good\n",
      "  -d 200  \t               RGB Bit Distribution Test\t      Good\n",
      "  -d 201  \t   RGB Generalized Minimum Distance Test\t      Good\n",
      "  -d 202  \t                   RGB Permutations Test\t      Good\n",
      "  -d 203  \t                     RGB Lagged Sum Test\t      Good\n",
      "  -d 204  \t        RGB Kolmogorov-Smirnov Test Test\t      Good\n",
      "  -d 205  \t                       Byte Distribution\t      Good\n",
      "  -d 206  \t                                 DAB DCT\t      Good\n",
      "  -d 207  \t                      DAB Fill Tree Test\t      Good\n",
      "  -d 208  \t                    DAB Fill Tree 2 Test\t      Good\n",
      "  -d 209  \t                      DAB Monobit 2 Test\t      Good\n"
     ]
    }
   ],
   "source": [
    "dieharder -l"
   ]
  },
  {
   "cell_type": "markdown",
   "metadata": {},
   "source": [
    "Como vemos, los 17 primeros corresponden a los tests de la librería Diehard original"
   ]
  },
  {
   "cell_type": "markdown",
   "metadata": {},
   "source": [
    "##### Show all available generators"
   ]
  },
  {
   "cell_type": "markdown",
   "metadata": {},
   "source": [
    "De igual forma, podemos ver todos los generadores disponibles en la libreria:"
   ]
  },
  {
   "cell_type": "code",
   "execution_count": 5,
   "metadata": {},
   "outputs": [
    {
     "name": "stdout",
     "output_type": "stream",
     "text": [
      "#=============================================================================#\n",
      "#            dieharder version 3.31.1 Copyright 2003 Robert G. Brown          #\n",
      "#=============================================================================#\n",
      "#    Id Test Name           | Id Test Name           | Id Test Name           #\n",
      "#=============================================================================#\n",
      "|   000 borosh13            |001 cmrg                |002 coveyou             |\n",
      "|   003 fishman18           |004 fishman20           |005 fishman2x           |\n",
      "|   006 gfsr4               |007 knuthran            |008 knuthran2           |\n",
      "|   009 knuthran2002        |010 lecuyer21           |011 minstd              |\n",
      "|   012 mrg                 |013 mt19937             |014 mt19937_1999        |\n",
      "|   015 mt19937_1998        |016 r250                |017 ran0                |\n",
      "|   018 ran1                |019 ran2                |020 ran3                |\n",
      "|   021 rand                |022 rand48              |023 random128-bsd       |\n",
      "|   024 random128-glibc2    |025 random128-libc5     |026 random256-bsd       |\n",
      "|   027 random256-glibc2    |028 random256-libc5     |029 random32-bsd        |\n",
      "|   030 random32-glibc2     |031 random32-libc5      |032 random64-bsd        |\n",
      "|   033 random64-glibc2     |034 random64-libc5      |035 random8-bsd         |\n",
      "|   036 random8-glibc2      |037 random8-libc5       |038 random-bsd          |\n",
      "|   039 random-glibc2       |040 random-libc5        |041 randu               |\n",
      "|   042 ranf                |043 ranlux              |044 ranlux389           |\n",
      "|   045 ranlxd1             |046 ranlxd2             |047 ranlxs0             |\n",
      "|   048 ranlxs1             |049 ranlxs2             |050 ranmar              |\n",
      "|   051 slatec              |052 taus                |053 taus2               |\n",
      "|   054 taus113             |055 transputer          |056 tt800               |\n",
      "|   057 uni                 |058 uni32               |059 vax                 |\n",
      "|   060 waterman14          |061 zuf                 |                        |\n",
      "#=============================================================================#\n",
      "|   200 stdin_input_raw     |201 file_input_raw      |202 file_input          |\n",
      "|   203 ca                  |204 uvag                |205 AES_OFB             |\n",
      "|   206 Threefish_OFB       |207 XOR (supergenerator)|208 kiss                |\n",
      "|   209 superkiss           |                        |                        |\n",
      "#=============================================================================#\n",
      "|   400 R_wichmann_hill     |401 R_marsaglia_multic. |402 R_super_duper       |\n",
      "|   403 R_mersenne_twister  |404 R_knuth_taocp       |405 R_knuth_taocp2      |\n",
      "#=============================================================================#\n",
      "|   500 /dev/random         |501 /dev/urandom        |                        |\n",
      "#=============================================================================#\n",
      "#=============================================================================#\n"
     ]
    }
   ],
   "source": [
    "dieharder -g -l"
   ]
  },
  {
   "cell_type": "markdown",
   "metadata": {},
   "source": [
    "Como vemos, el generador que usamos en la práctica, MINSTD, es el 011. Veamos la muestra que genera con una semilla de valor 1 para asegurarnos, comparándola con la generada anteriormente por nostros. Indicamos el generador que queremos usar con el argumento *-g*. El argumento *-S* sirve para establecer la semilla, en este caso *seed* = 1. Y el argumento *-t* para elegir la cantidad de números a obtener, en este caso, 10."
   ]
  },
  {
   "cell_type": "code",
   "execution_count": 65,
   "metadata": {},
   "outputs": [
    {
     "name": "stdout",
     "output_type": "stream",
     "text": [
      "#==================================================================\n",
      "# generator minstd  seed = 1\n",
      "#==================================================================\n",
      "type: d\n",
      "count: 10\n",
      "numbit: 32\n",
      "     16807\n",
      " 282475249\n",
      "1622650073\n",
      " 984943658\n",
      "1144108930\n",
      " 470211272\n",
      " 101027544\n",
      "1457850878\n",
      "1458777923\n",
      "2007237709\n"
     ]
    }
   ],
   "source": [
    "dieharder -o -g 011 -S 1 -t 10"
   ]
  },
  {
   "cell_type": "markdown",
   "metadata": {},
   "source": [
    "##### Tests output"
   ]
  },
  {
   "cell_type": "markdown",
   "metadata": {},
   "source": [
    "Se puede controlar el nivel de detalle de la salida mediante algunos flags usando la opción -D. Se pueden consultar las flags usando la siguiente opción."
   ]
  },
  {
   "cell_type": "code",
   "execution_count": 2,
   "metadata": {},
   "outputs": [
    {
     "name": "stdout",
     "output_type": "stream",
     "text": [
      "#=============================================================================#\n",
      "#            dieharder version 3.31.1 Copyright 2003 Robert G. Brown          #\n",
      "#=============================================================================#\n",
      " Dieharder output control flags.  Set with -D flagname or -D flag\n",
      " Multiple flags may be given:\t\tdieharder -a -D test_name -D pvalues.\n",
      " Flags names and numbers may be mixed:\tdieharder -a -D 8 -D pvalues.\n",
      " Flag\t    Flag Name\n",
      "=======================\n",
      "    0\t        default\n",
      "    1\t         header\n",
      "    2\t       show_rng\n",
      "    4\t    line_header\n",
      "    8\t      test_name\n",
      "   16\t         ntuple\n",
      "   32\t       tsamples\n",
      "   64\t       psamples\n",
      "  128\t        pvalues\n",
      "  256\t     assessment\n",
      "  512\t         prefix\n",
      " 1024\t    description\n",
      " 2048\t      histogram\n",
      " 4096\t           seed\n",
      " 8192\t           rate\n",
      "16384\t       show_num\n",
      "32768\t  no_whitespace\n"
     ]
    }
   ],
   "source": [
    "dieharder -F "
   ]
  },
  {
   "cell_type": "markdown",
   "metadata": {},
   "source": [
    "Algunos de las flags seleccionadas por defecto son las siguientes:\n",
    "\n",
    "-  *tsamples*: tamaño de la muestra de números aleatorios utilizada para cada test y cada pvalue. Dependiendo del test puede ser fija o el test será más preciso cuanto más grande sea esa muestra.\n",
    "\n",
    "-  *psamples*: número de p-valores que computa el test, es decir, número de veces que se repite el test. Por defecto es 100, y cuanto más grande más probable sera que un generador no totalmente aleatorio falle el test. Tambiém será más probable que un buen generador falle un test no del todo preciso, que es justo lo que pasa con algunos de los test de Diehard.\n",
    "\n",
    "- *pvalues*: el p-valor o estadístico final que se obtiene a partir de los p-valores del test y que se usa para decidir si el test falla o no.\n",
    "\n",
    "- *assessment*: resultado del test. Por defecto el generador falla el test si el p-valor es menor que 0.0005 o mayor que 0.9995, se condisedera débil si el p-valor es menor que 0.005 o mayor que 0.995, y supera el test en otro caso.\n",
    "\n",
    "- *ntuples*: algunos test agrupan los números de la muestra en tuplas, y este valor muestra el tamaño de esas tuplas."
   ]
  },
  {
   "cell_type": "markdown",
   "metadata": {},
   "source": [
    "Otras flags particularmente interesantes son:"
   ]
  },
  {
   "cell_type": "code",
   "execution_count": 1,
   "metadata": {},
   "outputs": [
    {
     "name": "stdout",
     "output_type": "stream",
     "text": [
      "\n",
      "#==================================================================\n",
      "#                Diehard \"Birthdays\" test (modified).\n",
      "# Each test determines the number of matching intervals from 512\n",
      "# \"birthdays\" (by default) drawn on a 24-bit \"year\" (by\n",
      "# default).  This is repeated 100 times (by default) and the\n",
      "# results cumulated in a histogram.  Repeated intervals should be\n",
      "# distributed in a Poisson distribution if the underlying generator\n",
      "# is random enough, and a a chisq and p-value for the test are\n",
      "# evaluated relative to this null hypothesis.\n",
      "#\n",
      "# It is recommended that you run this at or near the original\n",
      "# 100 test samples per p-value with -t 100.\n",
      "#\n",
      "# Two additional parameters have been added. In diehard, nms=512\n",
      "# but this CAN be varied and all Marsaglia's formulae still work.  It\n",
      "# can be reset to different values with -x nmsvalue.\n",
      "# Similarly, nbits \"should\" 24, but we can really make it anything\n",
      "# we want that's less than or equal to rmax_bits = 32.  It can be\n",
      "# reset to a new value with -y nbits.  Both default to diehard's\n",
      "# values if no -x or -y options are used.\n",
      "#==================================================================\n",
      "#=============================================================================#\n",
      "#                         Histogram of test p-values                          #\n",
      "#=============================================================================#\n",
      "# Bin scale = 0.100000\n",
      "#     20|    |    |    |    |    |    |    |    |    |    |\n",
      "#       |    |    |    |    |    |    |    |    |    |    |\n",
      "#     18|    |    |    |    |    |    |    |    |    |    |\n",
      "#       |    |    |    |    |    |    |    |    |    |    |\n",
      "#     16|    |    |    |    |    |    |    |    |    |    |\n",
      "#       |    |    |    |    |    |    |    |    |    |    |\n",
      "#     14|    |****|    |    |    |    |****|    |    |    |\n",
      "#       |    |****|    |    |    |    |****|****|    |    |\n",
      "#     12|    |****|    |    |    |    |****|****|    |    |\n",
      "#       |    |****|    |    |    |    |****|****|****|    |\n",
      "#     10|    |****|    |    |****|    |****|****|****|    |\n",
      "#       |****|****|    |    |****|    |****|****|****|****|\n",
      "#      8|****|****|    |    |****|    |****|****|****|****|\n",
      "#       |****|****|****|****|****|    |****|****|****|****|\n",
      "#      6|****|****|****|****|****|****|****|****|****|****|\n",
      "#       |****|****|****|****|****|****|****|****|****|****|\n",
      "#      4|****|****|****|****|****|****|****|****|****|****|\n",
      "#       |****|****|****|****|****|****|****|****|****|****|\n",
      "#      2|****|****|****|****|****|****|****|****|****|****|\n",
      "#       |****|****|****|****|****|****|****|****|****|****|\n",
      "#       |--------------------------------------------------\n",
      "#       | 0.1| 0.2| 0.3| 0.4| 0.5| 0.6| 0.7| 0.8| 0.9| 1.0|\n",
      "#=============================================================================#\n",
      "\n"
     ]
    }
   ],
   "source": [
    "dieharder -g 0 -d 0 -D histogram -D description"
   ]
  },
  {
   "cell_type": "markdown",
   "metadata": {},
   "source": [
    "##### Other options"
   ]
  },
  {
   "cell_type": "markdown",
   "metadata": {},
   "source": [
    "Para ver otras opciones consultar el manual de la libreria[1]."
   ]
  },
  {
   "cell_type": "markdown",
   "metadata": {},
   "source": []
  },
  {
   "cell_type": "markdown",
   "metadata": {},
   "source": [
    "Antes de pasar a realizar las pruebas sobre el generador es necesario explicar que debemos ser conscientes de que la evaluación proporcionada por dieharder en su informe estándar no debe darse por absolutamente cierta y tratarla con algo de sospecha. Es completamente posible que un generador pase todas las pruebas en lo que concierne a sus *p-values* individuales y que, sin embargo, fracase por completo al considerarlos todos juntos. De manera similar, es probable que al menos un *rng* aparezca como \"débil\" en 0, 1 o 2 pruebas en una ejecución con los valores por defecto de Dieharder: ```dieharder -a (ll)```, e incluso puede fallar 1 prueba en una de estas ejecuciones, en 10 o más. Para entender por qué esto es así, es necesario entender algo sobre las pruebas *rng*, los *p-values* y la hipótesis nula."
   ]
  },
  {
   "cell_type": "markdown",
   "metadata": {},
   "source": [
    "## Resultados de los tests de Diehard para MINSTD"
   ]
  },
  {
   "cell_type": "markdown",
   "metadata": {},
   "source": [
    "A continuación probamos el generador MINSTD con los test de Diehard de la libreria Dieharder. Utilizamos tres semillas diferentes elegidas de forma aleatoria, y para cada una de ellas realizamos los test con 100 y 1000 *p-samples*."
   ]
  },
  {
   "cell_type": "code",
   "execution_count": 4,
   "metadata": {
    "collapsed": true
   },
   "outputs": [],
   "source": [
    "SEED=19597 # SEED=$RANDOM en la ejecucion original. El rango de $RANDOM\n",
    "# es menor que (1,2^31 -1)"
   ]
  },
  {
   "cell_type": "code",
   "execution_count": 9,
   "metadata": {},
   "outputs": [
    {
     "name": "stdout",
     "output_type": "stream",
     "text": [
      "19597\n"
     ]
    }
   ],
   "source": [
    "echo $SEED"
   ]
  },
  {
   "cell_type": "markdown",
   "metadata": {},
   "source": [
    "##### Resultados en Dieharder con las opciones por defecto"
   ]
  },
  {
   "cell_type": "code",
   "execution_count": 10,
   "metadata": {},
   "outputs": [
    {
     "name": "stdout",
     "output_type": "stream",
     "text": [
      "#=============================================================================#\n",
      "#            dieharder version 3.31.1 Copyright 2003 Robert G. Brown          #\n",
      "#=============================================================================#\n",
      "   rng_name    |rands/second|\n",
      "         minstd|  1.26e+08  |\n",
      "#=============================================================================#\n",
      "        test_name   |ntup| tsamples |psamples|  p-value |Assessment|    Seed  \n",
      "#=============================================================================#\n",
      "   diehard_birthdays|   0|       100|     100|0.76137395|  PASSED  |     19597\n",
      "      diehard_operm5|   0|   1000000|     100|0.80568945|  PASSED  \n",
      "  diehard_rank_32x32|   0|     40000|     100|0.20973519|  PASSED  \n",
      "    diehard_rank_6x8|   0|    100000|     100|0.78915130|  PASSED  \n",
      "   diehard_bitstream|   0|   2097152|     100|0.65475181|  PASSED  \n",
      "        diehard_opso|   0|   2097152|     100|0.00213706|   WEAK   \n",
      "        diehard_oqso|   0|   2097152|     100|0.00027739|   WEAK   \n",
      "         diehard_dna|   0|   2097152|     100|0.00000000|  FAILED  \n",
      "diehard_count_1s_str|   0|    256000|     100|0.90240867|  PASSED  \n",
      "diehard_count_1s_byt|   0|    256000|     100|0.95541987|  PASSED  \n",
      " diehard_parking_lot|   0|     12000|     100|0.10932071|  PASSED  \n",
      "    diehard_2dsphere|   2|      8000|     100|0.60060731|  PASSED  \n",
      "    diehard_3dsphere|   3|      4000|     100|0.82592641|  PASSED  \n",
      "     diehard_squeeze|   0|    100000|     100|0.66176189|  PASSED  \n",
      "        diehard_sums|   0|       100|     100|0.13579482|  PASSED  \n",
      "        diehard_runs|   0|    100000|     100|0.96717776|  PASSED  \n",
      "        diehard_runs|   0|    100000|     100|0.88638315|  PASSED  \n",
      "       diehard_craps|   0|    200000|     100|0.11529556|  PASSED  \n",
      "       diehard_craps|   0|    200000|     100|0.85616759|  PASSED  \n"
     ]
    }
   ],
   "source": [
    "dieharder -d 0 -g minstd -S $SEED -s 1\n",
    "\n",
    "for i in {1..16}; do\n",
    "    dieharder -g minstd -d $i -S $SEED -s 1 -D 504 # Flags chosen so it\n",
    "    # does not output the header again for each test\n",
    "done    \n",
    "    \n",
    "    # dieharder can run single tests or all at once, nothing inbetween,\n",
    "    # so we need this for loop to simulate the output that it would\n",
    "    # produce for the diehahard tests if we run all tests in the library (flag -a)"
   ]
  },
  {
   "cell_type": "markdown",
   "metadata": {},
   "source": [
    "##### Mismos tests pero con más p-samples"
   ]
  },
  {
   "cell_type": "code",
   "execution_count": 11,
   "metadata": {},
   "outputs": [
    {
     "name": "stdout",
     "output_type": "stream",
     "text": [
      "#=============================================================================#\n",
      "#            dieharder version 3.31.1 Copyright 2003 Robert G. Brown          #\n",
      "#=============================================================================#\n",
      "   rng_name    |rands/second|\n",
      "         minstd|  1.41e+08  |\n",
      "#=============================================================================#\n",
      "        test_name   |ntup| tsamples |psamples|  p-value |Assessment|    Seed  \n",
      "#=============================================================================#\n",
      "   diehard_birthdays|   0|       100|    1000|0.66967787|  PASSED  |     19597\n",
      "      diehard_operm5|   0|   1000000|    1000|0.91500707|  PASSED  \n",
      "  diehard_rank_32x32|   0|     40000|    1000|0.27058043|  PASSED  \n",
      "    diehard_rank_6x8|   0|    100000|    1000|0.54677804|  PASSED  \n",
      "   diehard_bitstream|   0|   2097152|    1000|0.00417225|   WEAK   \n",
      "        diehard_opso|   0|   2097152|    1000|0.00000000|  FAILED  \n",
      "        diehard_oqso|   0|   2097152|    1000|0.00000000|  FAILED  \n",
      "         diehard_dna|   0|   2097152|    1000|0.00000000|  FAILED  \n",
      "diehard_count_1s_str|   0|    256000|    1000|0.64924039|  PASSED  \n",
      "diehard_count_1s_byt|   0|    256000|    1000|0.94417423|  PASSED  \n",
      " diehard_parking_lot|   0|     12000|    1000|0.00000000|  FAILED  \n",
      "    diehard_2dsphere|   2|      8000|    1000|0.00000038|  FAILED  \n",
      "    diehard_3dsphere|   3|      4000|    1000|0.00045960|   WEAK   \n",
      "     diehard_squeeze|   0|    100000|    1000|0.56639260|  PASSED  \n",
      "        diehard_sums|   0|       100|    1000|0.00000000|  FAILED  \n",
      "        diehard_runs|   0|    100000|    1000|0.99083300|  PASSED  \n",
      "        diehard_runs|   0|    100000|    1000|0.51302737|  PASSED  \n",
      "       diehard_craps|   0|    200000|    1000|0.09210372|  PASSED  \n",
      "       diehard_craps|   0|    200000|    1000|0.55103541|  PASSED  \n"
     ]
    }
   ],
   "source": [
    "dieharder -d 0 -g minstd -S $SEED -s 1 -m 10\n",
    "\n",
    "for i in {1..16}; do\n",
    "    dieharder -g minstd -d $i -S $SEED -s 1 -m 10 -D 504\n",
    "done"
   ]
  },
  {
   "cell_type": "code",
   "execution_count": 2,
   "metadata": {},
   "outputs": [
    {
     "name": "stdout",
     "output_type": "stream",
     "text": [
      "9779\n"
     ]
    }
   ],
   "source": [
    "SEED=9779 # SEED=$RANDOM\n",
    "\n",
    "echo $SEED"
   ]
  },
  {
   "cell_type": "markdown",
   "metadata": {},
   "source": [
    "##### Resultados en Dieharder con las opciones por defecto"
   ]
  },
  {
   "cell_type": "code",
   "execution_count": 2,
   "metadata": {},
   "outputs": [
    {
     "name": "stdout",
     "output_type": "stream",
     "text": [
      "#=============================================================================#\n",
      "#            dieharder version 3.31.1 Copyright 2003 Robert G. Brown          #\n",
      "#=============================================================================#\n",
      "   rng_name    |rands/second|\n",
      "         minstd|  1.38e+08  |\n",
      "#=============================================================================#\n",
      "        test_name   |ntup| tsamples |psamples|  p-value |Assessment|    Seed  \n",
      "#=============================================================================#\n",
      "   diehard_birthdays|   0|       100|     100|0.53702723|  PASSED  |      9779\n",
      "      diehard_operm5|   0|   1000000|     100|0.44726167|  PASSED  \n",
      "  diehard_rank_32x32|   0|     40000|     100|0.45726413|  PASSED  \n",
      "    diehard_rank_6x8|   0|    100000|     100|0.39219671|  PASSED  \n",
      "   diehard_bitstream|   0|   2097152|     100|0.50762715|  PASSED  \n",
      "        diehard_opso|   0|   2097152|     100|0.00497088|   WEAK   \n",
      "        diehard_oqso|   0|   2097152|     100|0.00005828|   WEAK   \n",
      "         diehard_dna|   0|   2097152|     100|0.00000000|  FAILED  \n",
      "diehard_count_1s_str|   0|    256000|     100|0.08026294|  PASSED  \n",
      "diehard_count_1s_byt|   0|    256000|     100|0.46356432|  PASSED  \n",
      " diehard_parking_lot|   0|     12000|     100|0.00602941|  PASSED  \n",
      "    diehard_2dsphere|   2|      8000|     100|0.25955179|  PASSED  \n",
      "    diehard_3dsphere|   3|      4000|     100|0.57506385|  PASSED  \n",
      "     diehard_squeeze|   0|    100000|     100|0.37399314|  PASSED  \n",
      "        diehard_sums|   0|       100|     100|0.01001743|  PASSED  \n",
      "        diehard_runs|   0|    100000|     100|0.50758671|  PASSED  \n",
      "        diehard_runs|   0|    100000|     100|0.99017159|  PASSED  \n",
      "       diehard_craps|   0|    200000|     100|0.76299186|  PASSED  \n",
      "       diehard_craps|   0|    200000|     100|0.73806290|  PASSED  \n"
     ]
    }
   ],
   "source": [
    "##### Resultados en Dieharder con las opciones por defecto\n",
    "\n",
    "dieharder -d 0 -g minstd -S $SEED -s 1\n",
    "\n",
    "for i in {1..16}; do\n",
    "    dieharder -g minstd -d $i -S $SEED -s 1 -D 504\n",
    "done"
   ]
  },
  {
   "cell_type": "markdown",
   "metadata": {},
   "source": [
    "##### Mismos tests pero con más p-samples"
   ]
  },
  {
   "cell_type": "code",
   "execution_count": 3,
   "metadata": {},
   "outputs": [
    {
     "name": "stdout",
     "output_type": "stream",
     "text": [
      "#=============================================================================#\n",
      "#            dieharder version 3.31.1 Copyright 2003 Robert G. Brown          #\n",
      "#=============================================================================#\n",
      "   rng_name    |rands/second|\n",
      "         minstd|  1.41e+08  |\n",
      "#=============================================================================#\n",
      "        test_name   |ntup| tsamples |psamples|  p-value |Assessment|    Seed  \n",
      "#=============================================================================#\n",
      "   diehard_birthdays|   0|       100|    1000|0.20980324|  PASSED  |      9779\n",
      "      diehard_operm5|   0|   1000000|    1000|0.50331258|  PASSED  \n",
      "  diehard_rank_32x32|   0|     40000|    1000|0.76785019|  PASSED  \n",
      "    diehard_rank_6x8|   0|    100000|    1000|0.24854251|  PASSED  \n",
      "   diehard_bitstream|   0|   2097152|    1000|0.25445493|  PASSED  \n",
      "        diehard_opso|   0|   2097152|    1000|0.00000000|  FAILED  \n",
      "        diehard_oqso|   0|   2097152|    1000|0.00000000|  FAILED  \n",
      "         diehard_dna|   0|   2097152|    1000|0.00000000|  FAILED  \n",
      "diehard_count_1s_str|   0|    256000|    1000|0.96415836|  PASSED  \n",
      "diehard_count_1s_byt|   0|    256000|    1000|0.95621449|  PASSED  \n",
      " diehard_parking_lot|   0|     12000|    1000|0.00000000|  FAILED  \n",
      "    diehard_2dsphere|   2|      8000|    1000|0.00000000|  FAILED  \n",
      "    diehard_3dsphere|   3|      4000|    1000|0.00603629|  PASSED  \n",
      "     diehard_squeeze|   0|    100000|    1000|0.10342253|  PASSED  \n",
      "        diehard_sums|   0|       100|    1000|0.00000000|  FAILED  \n",
      "        diehard_runs|   0|    100000|    1000|0.08828048|  PASSED  \n",
      "        diehard_runs|   0|    100000|    1000|0.83181735|  PASSED  \n",
      "       diehard_craps|   0|    200000|    1000|0.23240087|  PASSED  \n",
      "       diehard_craps|   0|    200000|    1000|0.78954653|  PASSED  \n"
     ]
    }
   ],
   "source": [
    "##### Mismos tests pero con más p-samples\n",
    "\n",
    "dieharder -d 0 -g minstd -S $SEED -s 1 -m 10\n",
    "\n",
    "for i in {1..16}; do\n",
    "    dieharder -g minstd -d $i -S $SEED -s 1 -m 10 -D 504\n",
    "done"
   ]
  },
  {
   "cell_type": "code",
   "execution_count": 3,
   "metadata": {},
   "outputs": [
    {
     "name": "stdout",
     "output_type": "stream",
     "text": [
      "7721\n"
     ]
    }
   ],
   "source": [
    "SEED=7721 # SEED=$RANDOM\n",
    "\n",
    "echo $SEED"
   ]
  },
  {
   "cell_type": "markdown",
   "metadata": {},
   "source": [
    "##### Resultados en Dieharder con las opciones por defecto"
   ]
  },
  {
   "cell_type": "code",
   "execution_count": 2,
   "metadata": {},
   "outputs": [
    {
     "name": "stdout",
     "output_type": "stream",
     "text": [
      "#=============================================================================#\n",
      "#            dieharder version 3.31.1 Copyright 2003 Robert G. Brown          #\n",
      "#=============================================================================#\n",
      "   rng_name    |rands/second|\n",
      "         minstd|  1.27e+08  |\n",
      "#=============================================================================#\n",
      "        test_name   |ntup| tsamples |psamples|  p-value |Assessment|    Seed  \n",
      "#=============================================================================#\n",
      "   diehard_birthdays|   0|       100|     100|0.67609753|  PASSED  |      7721\n",
      "      diehard_operm5|   0|   1000000|     100|0.54069778|  PASSED  \n",
      "  diehard_rank_32x32|   0|     40000|     100|0.81753433|  PASSED  \n",
      "    diehard_rank_6x8|   0|    100000|     100|0.27062161|  PASSED  \n",
      "   diehard_bitstream|   0|   2097152|     100|0.42059845|  PASSED  \n",
      "        diehard_opso|   0|   2097152|     100|0.00149632|   WEAK   \n",
      "        diehard_oqso|   0|   2097152|     100|0.00076161|   WEAK   \n",
      "         diehard_dna|   0|   2097152|     100|0.00000000|  FAILED  \n",
      "diehard_count_1s_str|   0|    256000|     100|0.82208189|  PASSED  \n",
      "diehard_count_1s_byt|   0|    256000|     100|0.56228643|  PASSED  \n",
      " diehard_parking_lot|   0|     12000|     100|0.47786440|  PASSED  \n",
      "    diehard_2dsphere|   2|      8000|     100|0.48384205|  PASSED  \n",
      "    diehard_3dsphere|   3|      4000|     100|0.22667993|  PASSED  \n",
      "     diehard_squeeze|   0|    100000|     100|0.06871707|  PASSED  \n",
      "        diehard_sums|   0|       100|     100|0.08373298|  PASSED  \n",
      "        diehard_runs|   0|    100000|     100|0.61301442|  PASSED  \n",
      "        diehard_runs|   0|    100000|     100|0.90702956|  PASSED  \n",
      "       diehard_craps|   0|    200000|     100|0.97869239|  PASSED  \n",
      "       diehard_craps|   0|    200000|     100|0.95791602|  PASSED  \n"
     ]
    }
   ],
   "source": [
    "##### Resultados en Dieharder con las opciones por defecto\n",
    "\n",
    "dieharder -d 0 -g minstd -S $SEED -s 1\n",
    "\n",
    "for i in {1..16}; do\n",
    "    dieharder -g minstd -d $i -S $SEED -s 1 -D 504\n",
    "done    "
   ]
  },
  {
   "cell_type": "markdown",
   "metadata": {},
   "source": [
    "##### Mismos tests pero con más p-samples"
   ]
  },
  {
   "cell_type": "code",
   "execution_count": 3,
   "metadata": {},
   "outputs": [
    {
     "name": "stdout",
     "output_type": "stream",
     "text": [
      "#=============================================================================#\n",
      "#            dieharder version 3.31.1 Copyright 2003 Robert G. Brown          #\n",
      "#=============================================================================#\n",
      "   rng_name    |rands/second|\n",
      "         minstd|  1.40e+08  |\n",
      "#=============================================================================#\n",
      "        test_name   |ntup| tsamples |psamples|  p-value |Assessment|    Seed  \n",
      "#=============================================================================#\n",
      "   diehard_birthdays|   0|       100|    1000|0.65795985|  PASSED  |      7721\n",
      "      diehard_operm5|   0|   1000000|    1000|0.51244602|  PASSED  \n",
      "  diehard_rank_32x32|   0|     40000|    1000|0.22232533|  PASSED  \n",
      "    diehard_rank_6x8|   0|    100000|    1000|0.06927361|  PASSED  \n",
      "   diehard_bitstream|   0|   2097152|    1000|0.06247225|  PASSED  \n",
      "        diehard_opso|   0|   2097152|    1000|0.00000000|  FAILED  \n",
      "        diehard_oqso|   0|   2097152|    1000|0.00000000|  FAILED  \n",
      "         diehard_dna|   0|   2097152|    1000|0.00000000|  FAILED  \n",
      "diehard_count_1s_str|   0|    256000|    1000|0.99356320|  PASSED  \n",
      "diehard_count_1s_byt|   0|    256000|    1000|0.08898972|  PASSED  \n",
      " diehard_parking_lot|   0|     12000|    1000|0.00000000|  FAILED  \n",
      "    diehard_2dsphere|   2|      8000|    1000|0.00000000|  FAILED  \n",
      "    diehard_3dsphere|   3|      4000|    1000|0.00000697|   WEAK   \n",
      "     diehard_squeeze|   0|    100000|    1000|0.43480234|  PASSED  \n",
      "        diehard_sums|   0|       100|    1000|0.00000059|  FAILED  \n",
      "        diehard_runs|   0|    100000|    1000|0.95153922|  PASSED  \n",
      "        diehard_runs|   0|    100000|    1000|0.96504013|  PASSED  \n",
      "       diehard_craps|   0|    200000|    1000|0.49116402|  PASSED  \n",
      "       diehard_craps|   0|    200000|    1000|0.53185324|  PASSED  \n"
     ]
    }
   ],
   "source": [
    "##### Mismos tests pero con más p-samples\n",
    "\n",
    "dieharder -d 0 -g minstd -S $SEED -s 1 -m 10\n",
    "\n",
    "for i in {1..16}; do\n",
    "    dieharder -g minstd -d $i -S $SEED -s 1 -m 10 -D 504\n",
    "done    "
   ]
  },
  {
   "cell_type": "markdown",
   "metadata": {},
   "source": [
    "En primer lugar, es necesario saber con que rangos de valores para *p-value* considera la librería Dieharder que las pruebas son \"PASSED\", \"WEEK\" o \"FAILED\". El criterio interno es actualmente: con valores de p < 0,5% o p > 99,5% los califíca como \"WEAK\"; con valores de p < 0,05% o p > 99,95%, \"FAILED\"; y cualquier otro valor de p, \"PASSED\".\n",
    "\n",
    "En segundo lugar, también debemos explicar que dentro de la librería hay algunos test que no son considerados fiables para probar los generadores. ¿Por qué ocurre esto? Como se explica en la documentación de la librería, carecer de una fuente de números aleatorios perfectos para usar como referencia, hace que validar las pruebas no sea una tarea fácil y siempre deja cierta ambigüedad respecto a la verdadera valicez de estas pruebas. Durante el desarrollo de la librería, la validación de estos test se llevó a cabo utilizando varios generadores que son considerados por razones teóricas como \"muy buenos generadores de números aleatorios\". Al usar varios generadores de este tipo y no solo uno, se puede esperar que esos generadores tengan (al menos) correlaciones diferentes y que no todos deban fallar en una prueba de la misma manera y con el mismo número de p-value. Cuando todos estos generadores fallan constantemente en una prueba a un nivel dado, se sospecha que el problema está en el código de prueba y no en los generadores, aunque es muy difícil estar seguro.\n",
    "\n",
    "Una de las ventajas de dieharder es que cuenta con una serie de estos \"muy buenos generadores\" disponibles. Para la validación de Dieharder se utilizó AES_OFB, Threefish_OFB, mt19937_1999, gfsr4, ranldx2 y taus2 (así como los números \"random random\" de random.org). Las pruebas (como la prueba de operm5 y sumas) que fallan constantemente con estos generadores están marcadas como \"sospechosas\" y sus resultados no deben usarse para probar generadores de números aleatorios.\n",
    "\n",
    "Volviendo a los resultados de nuestras pruebas, podemos observar que con *p-samples* = 100 en los 3 casos ocurre lo mismo: pasan todos los test, ya que aquellos marcados como \"WEAK\" o \"FAILED\" en estos casos son en los test marcados como \"sospechosos\". Por otro lado, con *p-samples* = 1000 los resultados cambian.\n",
    "\n",
    "Primero, ¿qué son los p-samples? Como ya hemos explicado en apartados anteriores, cada test obtiene un valor de *p-value*, en el caso de que la muestra del generedor sea aleatoria este valor debería seguir cierta distribución. En el caso de nuestros test, esa distribución es la uniforme. Con un único valor de *p-value* no es posible decir si la muestra es aleatoria realmente, ya que al ser una distribución uniforme puede ser cualquier valor en (0,1) con la misma probabilidad. Por eso, es necesario repetir el test varias veces y obtener varios *p-values* y comprobar que en efecto siguen una distribución uniforme. Para hacer esas repeticiones de forma automática, la librería Dieharder utiliza el parametro *p-samples*. Por defecto el valor de *p-samples*(repeticiones de *p-values*) es de 100. A partir de todos los *p-values* obtenidos en cada *p-sample* se obtiene un último y único *p-value* que se evalua mediante el test de Kolmogorov-Smirnov para determinar si el test pasa o falla. Cuanto mayor sea el número de *p-samples*, con mejor precisión se puede estimar si realmente siguen la distribución deseada, pero mayor es el coste computacional.\n",
    "\n",
    "En nuestro caso, podemos ver que al aumentar los test *parking_lot*, *2dsphere* y *3dsphere* se vuelven débiles o fallan. Sabemos que hoy en día se ha demostrado que existen mejores generadores que MINSTD, que como vemos en nuestras pruebas no es capaz de pasar todos los test conforme aumenta el número de *p-samples*. Sin embargo, se sigue utilizando en algunos estándares porque sí que es capaz de generar secuencias de números aleatorios para muestras que no sean de un tamaño considerable. Es decir, que con el es posible obtener suficientes números aleatorios para experimentos que no necesiten cantidades muy grandes de estos números."
   ]
  },
  {
   "cell_type": "markdown",
   "metadata": {},
   "source": [
    "## Descripción del algunos tests"
   ]
  },
  {
   "cell_type": "markdown",
   "metadata": {},
   "source": [
    "En los puntos anteriores se han lanzado los test alternando valores de 3 *Seeds* diferentes y *psamples* de dimensiones 100 y 1000. A partir de los resultados obtenidos, vamos a centrarnos en varios de estos casos y explicarlos. Hemos elegido los siguientes:\n",
    "\n",
    "- **1. Diehard Overlapping Permutations Test**\n",
    "-  **2. Diehard Minimum Distance Test: 3d Sphere**\n",
    "-  **3. Diehard Runs Test**\n",
    "\n",
    "La diferencia fundamental de estos test radica en la función que permite obtener el p-valor, dato fundamental ya que determina si el test falla cuando el valor obtenido es muy poco probable bajo esa distribución.\n"
   ]
  },
  {
   "cell_type": "markdown",
   "metadata": {},
   "source": [
    "#### 1 - Diehard Overlapping Permutations Test"
   ]
  },
  {
   "cell_type": "markdown",
   "metadata": {},
   "source": [
    "Este test trabaja con una secuencia de un millón de enteros aleatorios a partir de los cuales determina el orden de\n",
    "grupos de 5 enteros, en orden ascendente o descendente.  A partir de este punto cuenta el número de las 120 posibles \n",
    "configuraciones (5!) y define la varianza para el resultado esperado de estos valores."
   ]
  },
  {
   "cell_type": "code",
   "execution_count": 10,
   "metadata": {
    "scrolled": false
   },
   "outputs": [
    {
     "name": "stdout",
     "output_type": "stream",
     "text": [
      "\n",
      "#==================================================================\n",
      "#          Diehard Overlapping 5-Permutations Test.\n",
      "# This is the OPERM5 test.  It looks at a sequence of one mill- \n",
      "# ion 32-bit random integers.  Each set of five consecutive     \n",
      "# integers can be in one of 120 states, for the 5! possible or- \n",
      "# derings of five numbers.  Thus the 5th, 6th, 7th,...numbers   \n",
      "# each provide a state. As many thousands of state transitions  \n",
      "# are observed,  cumulative counts are made of the number of    \n",
      "# occurences of each state.  Then the quadratic form in the     \n",
      "# weak inverse of the 120x120 covariance matrix yields a test   \n",
      "# equivalent to the likelihood ratio test that the 120 cell     \n",
      "# counts came from the specified (asymptotically) normal dis-   \n",
      "# tribution with the specified 120x120 covariance matrix (with  \n",
      "# rank 99).  This version uses 1,000,000 integers, twice.       \n",
      "#\n",
      "# Note that Dieharder runs the test 100 times, not twice, by\n",
      "# default.\n",
      "#==================================================================\n"
     ]
    }
   ],
   "source": [
    "dieharder -d 1 -h"
   ]
  },
  {
   "cell_type": "markdown",
   "metadata": {},
   "source": [
    "Los resultados comparativos para este test en los casos que hemos presentado anteriormente son los siguientes:"
   ]
  },
  {
   "cell_type": "code",
   "execution_count": null,
   "metadata": {
    "collapsed": true
   },
   "outputs": [],
   "source": [
    "#=============================================================================#\n",
    "       test_name   |ntup| tsamples |psamples|  p-value |Assessment\n",
    "#=============================================================================#\n",
    "\n",
    "## Seed 19597\n",
    "### diehard_operm5|   0|   1000000|     100|0.80568945|  PASSED  \n",
    "### diehard_operm5|   0|   1000000|    1000|0.91500707|  PASSED  \n",
    "\n",
    "## Seed 9779\n",
    "### diehard_operm5|   0|   1000000|     100|0.44726167|  PASSED  \n",
    "### diehard_operm5|   0|   1000000|    1000|0.50331258|  PASSED\n",
    "\n",
    "## Seed 7721\n",
    "### diehard_operm5|   0|   1000000|     100|0.54069778|  PASSED\n",
    "### diehard_operm5|   0|   1000000|    1000|0.51244602|  PASSED\n"
   ]
  },
  {
   "cell_type": "markdown",
   "metadata": {},
   "source": [
    "#### 2 - Diehard Minimum Distance Test: 3d Sphere"
   ]
  },
  {
   "cell_type": "markdown",
   "metadata": {},
   "source": [
    "Este test elige 4000 puntos aleatorios que se localizan en un cubo de 1000x1000. En cada punto se localiza una esfera suficientemente grande de manera que toque al punto más cercano. Se busca el radio más pequeño y se repite el test 20 veces. Estos radios deberían estar distribuídos exponencialmente y el pvalor será determinado en función de como de lejos están los resultados de los esperados."
   ]
  },
  {
   "cell_type": "code",
   "execution_count": 22,
   "metadata": {
    "scrolled": true
   },
   "outputs": [
    {
     "name": "stdout",
     "output_type": "stream",
     "text": [
      "#==================================================================\n",
      "#          Diehard 3d Sphere (Minimum Distance) Test\n",
      "# Choose  4000 random points in a cube of edge 1000.  At each   \n",
      "# point, center a sphere large enough to reach the next closest \n",
      "# point. Then the volume of the smallest such sphere is (very   \n",
      "# close to) exponentially distributed with mean 120pi/3.  Thus  \n",
      "# the radius cubed is exponential with mean 30. (The mean is    \n",
      "# obtained by extensive simulation).  The 3DSPHERES test gener- \n",
      "# ates 4000 such spheres 20 times.  Each min radius cubed leads \n",
      "# to a uniform variable by means of 1-exp(-r^3/30.), then a     \n",
      "#  KSTEST is done on the 20 p-values.                           \n",
      "#\n",
      "# This test ignores tsamples, and runs the usual default 100\n",
      "# psamples to use in the final KS test.\n",
      "#==================================================================\n"
     ]
    }
   ],
   "source": [
    "dieharder -d 12 -h"
   ]
  },
  {
   "cell_type": "markdown",
   "metadata": {},
   "source": [
    "Los resultados comparativos para este test en los casos que hemos presentado anteriormente son los siguientes:"
   ]
  },
  {
   "cell_type": "code",
   "execution_count": null,
   "metadata": {
    "collapsed": true
   },
   "outputs": [],
   "source": [
    "#=============================================================================#\n",
    "       test_name   |ntup| tsamples |psamples|  p-value |Assessment\n",
    "#=============================================================================#\n",
    "\n",
    "## Seed 19597\n",
    "### diehard_3dsphere|   3|      4000|     100|0.82592641|  PASSED\n",
    "### diehard_3dsphere|   3|      4000|    1000|0.00045960|   WEAK\n",
    "\n",
    "## Seed 9779\n",
    "### diehard_3dsphere|   3|      4000|     100|0.57506385|  PASSED\n",
    "### diehard_3dsphere|   3|      4000|    1000|0.00603629|  PASSED\n",
    "\n",
    "## Seed 7721\n",
    "### diehard_3dsphere|   3|      4000|     100|0.22667993|  PASSED\n",
    "### diehard_3dsphere|   3|      4000|    1000|0.00000697|   WEAK"
   ]
  },
  {
   "cell_type": "markdown",
   "metadata": {},
   "source": [
    "#### 3 - Diehard Runs Test"
   ]
  },
  {
   "cell_type": "markdown",
   "metadata": {},
   "source": [
    "En este test se itera sobre 10.000 valores y se definen consecutivas ejecuciones en las que los elementos van aumentando o decreciendo su valor de manera consecutiva y se ejecuta 10 veces. Para obtener los resultados ésto se compara con una matriz de covarianza."
   ]
  },
  {
   "cell_type": "code",
   "execution_count": 28,
   "metadata": {},
   "outputs": [
    {
     "name": "stdout",
     "output_type": "stream",
     "text": [
      "#==================================================================\n",
      "#                    Diehard Runs Test\n",
      "#  This is the RUNS test.  It counts runs up, and runs down, \n",
      "# in a sequence of uniform [0,1) variables, obtained by float-  \n",
      "# ing the 32-bit integers in the specified file. This example   \n",
      "# shows how runs are counted:  .123,.357,.789,.425,.224,.416,.95\n",
      "# contains an up-run of length 3, a down-run of length 2 and an \n",
      "# up-run of (at least) 2, depending on the next values.  The    \n",
      "# covariance matrices for the runs-up and runs-down are well    \n",
      "# known, leading to chisquare tests for quadratic forms in the  \n",
      "# weak inverses of the covariance matrices.  Runs are counted   \n",
      "# for sequences of length 10,000.  This is done ten times. Then \n",
      "# repeated.                                                     \n",
      "#\n",
      "# In Dieharder sequences of length tsamples = 100000 are used by\n",
      "# default, and 100 p-values thus generated are used in a final\n",
      "# KS test.\n",
      "#==================================================================\n"
     ]
    }
   ],
   "source": [
    "dieharder -d 15 -h"
   ]
  },
  {
   "cell_type": "markdown",
   "metadata": {},
   "source": [
    "Los resultados comparativos para este test en los casos que hemos presentado anteriormente son los siguientes:"
   ]
  },
  {
   "cell_type": "code",
   "execution_count": null,
   "metadata": {
    "collapsed": true
   },
   "outputs": [],
   "source": [
    "#=============================================================================#\n",
    "       test_name   |ntup| tsamples |psamples|  p-value |Assessment\n",
    "#=============================================================================#\n",
    "\n",
    "## Seed 19597\n",
    "### diehard_runs|   0|    100000|     100|0.96717776|  PASSED\n",
    "### diehard_runs|   0|    100000|    1000|0.99083300|  PASSED\n",
    "## Seed 9779\n",
    "### diehard_runs|   0|    100000|     100|0.50758671|  PASSED\n",
    "### diehard_runs|   0|    100000|    1000|0.08828048|  PASSED\n",
    "## Seed 7721\n",
    "### diehard_runs|   0|    100000|     100|0.61301442|  PASSED\n",
    "### diehard_runs|   0|    100000|    1000|0.95153922|  PASSED"
   ]
  },
  {
   "cell_type": "markdown",
   "metadata": {},
   "source": [
    "### Materiales y referencias"
   ]
  },
  {
   "cell_type": "markdown",
   "metadata": {},
   "source": [
    "[1] http://webhome.phy.duke.edu/~rgb/General/dieharder.php"
   ]
  },
  {
   "cell_type": "markdown",
   "metadata": {},
   "source": [
    "[2] https://www.systutorials.com/docs/linux/man/1-dieharder/"
   ]
  },
  {
   "cell_type": "markdown",
   "metadata": {},
   "source": [
    "[3] Random number generators: good ones are hard to find - Park and Miller, 1988"
   ]
  },
  {
   "cell_type": "markdown",
   "metadata": {},
   "source": [
    "[4] George Marsaglia, Wai Wan Tsang, Some Difficult-to-pass Tests of Randomness, Journal of Statistical Software, Volume 7, 2002, Issue 3."
   ]
  },
  {
   "cell_type": "markdown",
   "metadata": {},
   "source": [
    "[5] PDF tema 2 de clase"
   ]
  },
  {
   "cell_type": "code",
   "execution_count": null,
   "metadata": {},
   "outputs": [],
   "source": []
  }
 ],
 "metadata": {
  "kernelspec": {
   "display_name": "Bash",
   "language": "bash",
   "name": "bash"
  },
  "language_info": {
   "codemirror_mode": "shell",
   "file_extension": ".sh",
   "mimetype": "text/x-sh",
   "name": "bash"
  }
 },
 "nbformat": 4,
 "nbformat_minor": 2
}
